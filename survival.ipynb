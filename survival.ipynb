{
 "cells": [
  {
   "cell_type": "markdown",
   "metadata": {},
   "source": [
    "# Lung Cancer Survival Analysis\n",
    "\n",
    "Table of Contents:\n",
    "- [I. Set Up Workspace](i.set-up-workspace)\n",
    "- [II. Data Profile](ii.data-profile)\n",
    "    - [II.a Description](ii.a-description)\n",
    "    - [II.b Dimensions](ii.b-dimensions)\n",
    "    - [II.c Missingness](ii.c-missingness)\n",
    "- [III. Data Imputation](iii.data-imputation)\n",
    "    - [III.a Categorical Data](iii.a-impute-categorical-data)\n",
    "        - [III.c.i Impute Categorical Data Using Mode](iii.c.i-impute-categorical-data-using-mode)\n",
    "        - [III.c.ii Impute Categorical Data Using k-NN](iii.c.ii-impute-categorical-data-using-kNN)\n",
    "        - [III.c.iii](iii.c.iii-test)\n",
    "    - [III.b Continuous Data](iii.b-impute-continuous-data)\n",
    "        - [III.b.i Impute Continuous Data Using Linear Regression](iii.c.i-impute-continuous-data-with-regression)\n",
    "        - [III.c.ii](iii.c.ii-test)\n",
    "- [IV. Data Exploration](ii.data-exploration)\n",
    "- [IV. Data Modeling](ii.data-models)"
   ]
  },
  {
   "cell_type": "markdown",
   "metadata": {},
   "source": [
    "## I. Set Up Workspace"
   ]
  },
  {
   "cell_type": "code",
   "execution_count": 5,
   "metadata": {},
   "outputs": [],
   "source": [
    "# Import libraries\n",
    "import pandas as pd\n",
    "import numpy as np\n",
    "from tabulate import tabulate\n",
    "import matplotlib.pyplot as plt\n",
    "import seaborn as sns\n",
    "from pandas.api.types import CategoricalDtype           # For ordered categoricals\n",
    "from sklearn.model_selection import train_test_split\n",
    "from scipy import stats                                 # For chi^2 contingency table\n",
    "from sklearn import linear_model\n",
    "from sklearn.neighbors import KNeighborsClassifier\n",
    "from lifelines import KaplanMeierFitter\n",
    "from lifelines import NelsonAalenFitter\n",
    "from lifelines.statistics import logrank_test\n",
    "from lifelines import CoxPHFitter                       # For Cox-proportional Hazard Regression"
   ]
  },
  {
   "cell_type": "code",
   "execution_count": 6,
   "metadata": {},
   "outputs": [
    {
     "name": "stdout",
     "output_type": "stream",
     "text": [
      "<class 'pandas.core.frame.DataFrame'>\n",
      "Int64Index: 228 entries, 1 to 228\n",
      "Data columns (total 10 columns):\n",
      " #   Column     Non-Null Count  Dtype  \n",
      "---  ------     --------------  -----  \n",
      " 0   inst       227 non-null    float64\n",
      " 1   time       228 non-null    int64  \n",
      " 2   status     228 non-null    int64  \n",
      " 3   age        228 non-null    int64  \n",
      " 4   sex        228 non-null    int64  \n",
      " 5   ph.ecog    227 non-null    float64\n",
      " 6   ph.karno   227 non-null    float64\n",
      " 7   pat.karno  225 non-null    float64\n",
      " 8   meal.cal   181 non-null    float64\n",
      " 9   wt.loss    214 non-null    float64\n",
      "dtypes: float64(6), int64(4)\n",
      "memory usage: 19.6 KB\n"
     ]
    }
   ],
   "source": [
    "# Load data\n",
    "addy = 'assets/lung.csv'\n",
    "df = pd.read_csv(addy, index_col=0)\n",
    "df.info()"
   ]
  },
  {
   "cell_type": "markdown",
   "metadata": {},
   "source": [
    "Let's change the variable names containing dots to underscores."
   ]
  },
  {
   "cell_type": "code",
   "execution_count": 7,
   "metadata": {},
   "outputs": [
    {
     "data": {
      "text/html": [
       "<div>\n",
       "<style scoped>\n",
       "    .dataframe tbody tr th:only-of-type {\n",
       "        vertical-align: middle;\n",
       "    }\n",
       "\n",
       "    .dataframe tbody tr th {\n",
       "        vertical-align: top;\n",
       "    }\n",
       "\n",
       "    .dataframe thead th {\n",
       "        text-align: right;\n",
       "    }\n",
       "</style>\n",
       "<table border=\"1\" class=\"dataframe\">\n",
       "  <thead>\n",
       "    <tr style=\"text-align: right;\">\n",
       "      <th></th>\n",
       "      <th>inst</th>\n",
       "      <th>time</th>\n",
       "      <th>status</th>\n",
       "      <th>age</th>\n",
       "      <th>sex</th>\n",
       "      <th>ph_ecog</th>\n",
       "      <th>ph_karno</th>\n",
       "      <th>pat_karno</th>\n",
       "      <th>meal_cal</th>\n",
       "      <th>wt_loss</th>\n",
       "    </tr>\n",
       "  </thead>\n",
       "  <tbody>\n",
       "    <tr>\n",
       "      <th>1</th>\n",
       "      <td>3.0</td>\n",
       "      <td>306</td>\n",
       "      <td>2</td>\n",
       "      <td>74</td>\n",
       "      <td>1</td>\n",
       "      <td>1.0</td>\n",
       "      <td>90.0</td>\n",
       "      <td>100.0</td>\n",
       "      <td>1175.0</td>\n",
       "      <td>NaN</td>\n",
       "    </tr>\n",
       "    <tr>\n",
       "      <th>2</th>\n",
       "      <td>3.0</td>\n",
       "      <td>455</td>\n",
       "      <td>2</td>\n",
       "      <td>68</td>\n",
       "      <td>1</td>\n",
       "      <td>0.0</td>\n",
       "      <td>90.0</td>\n",
       "      <td>90.0</td>\n",
       "      <td>1225.0</td>\n",
       "      <td>15.0</td>\n",
       "    </tr>\n",
       "    <tr>\n",
       "      <th>3</th>\n",
       "      <td>3.0</td>\n",
       "      <td>1010</td>\n",
       "      <td>1</td>\n",
       "      <td>56</td>\n",
       "      <td>1</td>\n",
       "      <td>0.0</td>\n",
       "      <td>90.0</td>\n",
       "      <td>90.0</td>\n",
       "      <td>NaN</td>\n",
       "      <td>15.0</td>\n",
       "    </tr>\n",
       "    <tr>\n",
       "      <th>4</th>\n",
       "      <td>5.0</td>\n",
       "      <td>210</td>\n",
       "      <td>2</td>\n",
       "      <td>57</td>\n",
       "      <td>1</td>\n",
       "      <td>1.0</td>\n",
       "      <td>90.0</td>\n",
       "      <td>60.0</td>\n",
       "      <td>1150.0</td>\n",
       "      <td>11.0</td>\n",
       "    </tr>\n",
       "    <tr>\n",
       "      <th>5</th>\n",
       "      <td>1.0</td>\n",
       "      <td>883</td>\n",
       "      <td>2</td>\n",
       "      <td>60</td>\n",
       "      <td>1</td>\n",
       "      <td>0.0</td>\n",
       "      <td>100.0</td>\n",
       "      <td>90.0</td>\n",
       "      <td>NaN</td>\n",
       "      <td>0.0</td>\n",
       "    </tr>\n",
       "  </tbody>\n",
       "</table>\n",
       "</div>"
      ],
      "text/plain": [
       "   inst  time  status  age  sex  ph_ecog  ph_karno  pat_karno  meal_cal  \\\n",
       "1   3.0   306       2   74    1      1.0      90.0      100.0    1175.0   \n",
       "2   3.0   455       2   68    1      0.0      90.0       90.0    1225.0   \n",
       "3   3.0  1010       1   56    1      0.0      90.0       90.0       NaN   \n",
       "4   5.0   210       2   57    1      1.0      90.0       60.0    1150.0   \n",
       "5   1.0   883       2   60    1      0.0     100.0       90.0       NaN   \n",
       "\n",
       "   wt_loss  \n",
       "1      NaN  \n",
       "2     15.0  \n",
       "3     15.0  \n",
       "4     11.0  \n",
       "5      0.0  "
      ]
     },
     "execution_count": 7,
     "metadata": {},
     "output_type": "execute_result"
    }
   ],
   "source": [
    "df.rename(columns={'ph.ecog': 'ph_ecog', 'ph.karno': 'ph_karno',\n",
    "                   'pat.karno': 'pat_karno' ,'meal.cal': 'meal_cal',\n",
    "                   'wt.loss': 'wt_loss'}, inplace=True)\n",
    "df.head()"
   ]
  },
  {
   "cell_type": "markdown",
   "metadata": {},
   "source": [
    "## II. Data Profile\n",
    "### II.a Description"
   ]
  },
  {
   "cell_type": "markdown",
   "metadata": {},
   "source": [
    "#### Data Description\n",
    "Survival in patients with advanced lung cancer from the North Central Cancer Treatment Group.\n",
    "\n",
    "#### Data Dictionary\n",
    "- **inst** : Institution Code\n",
    "- **time** : Surivival Time in Days\n",
    "- **status** : Censoring Status\n",
    "    - *1* = Censored\n",
    "    - *2* = Dead\n",
    "- **age** : Age in Years at Diagnosis\n",
    "- **sex** : Patient's Sex\n",
    "    - *1* = Male\n",
    "    - *2* = Female\n",
    "    - NOTE: The use of 1/2 for alive/dead instead of the usual 0/1 is a historical footnote. For data contained on punch cards, IBM 360 Fortran treated blank as a zero, which led to a policy within the section of Biostatistics to never use \"0\" as a data value since one could not distinguish it from a missing value. The policy became a habit, as is often the case; and the 1/2 coding endured long beyond the demise of punch cards and Fortran.\n",
    "- **ph_ecog** : ECOG Performance Status\n",
    "    - *0* = Fully active, able to carry on all pre-disease performance without restriction\n",
    "    - *1* = Restricted in physically strenuous activity but ambulatory and able to carry out work of a light or sedentary nature, e.g., light house work, office work\n",
    "    - *2* = Ambulatory and capable of all selfcare but unable to carry out any work activities. Up and about more than 50% of waking hours\n",
    "    - *3* = Capable of only limited selfcare, confined to bed or chair more than 50% of waking hours\n",
    "    - *4* = Completely disabled. Cannot carry on any selfcare. Totally confined to bed or chair\n",
    "    - *5* = Dead\n",
    "- **ph_karno** : Physician-rated Karnofsky Performance Status\n",
    "    - A standard way of measuring the ability of cancer patients to perform ordinary tasks. May be used to determine a patient's prognosis, to measure changes in a patient’s ability to function, or to decide if a patient could be included in a clinical trial.\n",
    "    - *100* = Normal, no complaints; no evidence of disease\n",
    "    - *90* = Able to carry on normal activity; minor signs or symptoms of disease\n",
    "    - *80* = Normal activity with effort, some signs or symptoms of disease\n",
    "    - *70* = Cares for self but unable to carry on normal activity or to do active work\n",
    "    - *60* = Requires occasional assistance but is able to care for most of personal needs\n",
    "    - *50* = Requires considerable assistance and frequent medical care\n",
    "    - *40* = Disabled; requires special care and assistance\n",
    "    - *30* = Severely disabled; hospitalization is indicated although death not imminent\n",
    "    - *20* = Very ill; hospitalization and active supportive care necessary\n",
    "    - *10* = Moribund\n",
    "    - *0* = Dead\n",
    "- **pat_karno** : Patient-rated Karnofsky Performance Status\n",
    "    - Same as ph.karno, but calculated by the patient\n",
    "- **meal_cal** : Average Calories Consumed at Meals\n",
    "- **wt_loss** : Weight Loss (last 6 months)\n",
    "\n",
    "Data Source:\n",
    "- [R NCCTG Lung Data](https://r-data.pmagunia.com/dataset/r-dataset-package-survival-lung)\n",
    "\n",
    "Additional Information:\n",
    "- [NCCTG Lung Cancer Data R Documentation](https://stat.ethz.ch/R-manual/R-devel/library/survival/html/lung.html)\n",
    "- [ECOG Performance Status](https://training.seer.cancer.gov/followup/procedures/dataset/ecog.html)\n",
    "- [Karnofsky Performance Status](https://www.cancer.gov/publications/dictionaries/cancer-terms/def/karnofsky-performance-status)\n",
    "- [Comparing ECOG to Karnofsky](https://ecog-acrin.org/resources/ecog-performance-status)"
   ]
  },
  {
   "cell_type": "code",
   "execution_count": 8,
   "metadata": {},
   "outputs": [
    {
     "data": {
      "text/html": [
       "<div>\n",
       "<style scoped>\n",
       "    .dataframe tbody tr th:only-of-type {\n",
       "        vertical-align: middle;\n",
       "    }\n",
       "\n",
       "    .dataframe tbody tr th {\n",
       "        vertical-align: top;\n",
       "    }\n",
       "\n",
       "    .dataframe thead th {\n",
       "        text-align: right;\n",
       "    }\n",
       "</style>\n",
       "<table border=\"1\" class=\"dataframe\">\n",
       "  <thead>\n",
       "    <tr style=\"text-align: right;\">\n",
       "      <th></th>\n",
       "      <th>inst</th>\n",
       "      <th>time</th>\n",
       "      <th>status</th>\n",
       "      <th>age</th>\n",
       "      <th>sex</th>\n",
       "      <th>ph_ecog</th>\n",
       "      <th>ph_karno</th>\n",
       "      <th>pat_karno</th>\n",
       "      <th>meal_cal</th>\n",
       "      <th>wt_loss</th>\n",
       "    </tr>\n",
       "  </thead>\n",
       "  <tbody>\n",
       "    <tr>\n",
       "      <th>1</th>\n",
       "      <td>3.0</td>\n",
       "      <td>306</td>\n",
       "      <td>2</td>\n",
       "      <td>74</td>\n",
       "      <td>1</td>\n",
       "      <td>1.0</td>\n",
       "      <td>90.0</td>\n",
       "      <td>100.0</td>\n",
       "      <td>1175.0</td>\n",
       "      <td>NaN</td>\n",
       "    </tr>\n",
       "    <tr>\n",
       "      <th>2</th>\n",
       "      <td>3.0</td>\n",
       "      <td>455</td>\n",
       "      <td>2</td>\n",
       "      <td>68</td>\n",
       "      <td>1</td>\n",
       "      <td>0.0</td>\n",
       "      <td>90.0</td>\n",
       "      <td>90.0</td>\n",
       "      <td>1225.0</td>\n",
       "      <td>15.0</td>\n",
       "    </tr>\n",
       "    <tr>\n",
       "      <th>3</th>\n",
       "      <td>3.0</td>\n",
       "      <td>1010</td>\n",
       "      <td>1</td>\n",
       "      <td>56</td>\n",
       "      <td>1</td>\n",
       "      <td>0.0</td>\n",
       "      <td>90.0</td>\n",
       "      <td>90.0</td>\n",
       "      <td>NaN</td>\n",
       "      <td>15.0</td>\n",
       "    </tr>\n",
       "    <tr>\n",
       "      <th>4</th>\n",
       "      <td>5.0</td>\n",
       "      <td>210</td>\n",
       "      <td>2</td>\n",
       "      <td>57</td>\n",
       "      <td>1</td>\n",
       "      <td>1.0</td>\n",
       "      <td>90.0</td>\n",
       "      <td>60.0</td>\n",
       "      <td>1150.0</td>\n",
       "      <td>11.0</td>\n",
       "    </tr>\n",
       "    <tr>\n",
       "      <th>5</th>\n",
       "      <td>1.0</td>\n",
       "      <td>883</td>\n",
       "      <td>2</td>\n",
       "      <td>60</td>\n",
       "      <td>1</td>\n",
       "      <td>0.0</td>\n",
       "      <td>100.0</td>\n",
       "      <td>90.0</td>\n",
       "      <td>NaN</td>\n",
       "      <td>0.0</td>\n",
       "    </tr>\n",
       "  </tbody>\n",
       "</table>\n",
       "</div>"
      ],
      "text/plain": [
       "   inst  time  status  age  sex  ph_ecog  ph_karno  pat_karno  meal_cal  \\\n",
       "1   3.0   306       2   74    1      1.0      90.0      100.0    1175.0   \n",
       "2   3.0   455       2   68    1      0.0      90.0       90.0    1225.0   \n",
       "3   3.0  1010       1   56    1      0.0      90.0       90.0       NaN   \n",
       "4   5.0   210       2   57    1      1.0      90.0       60.0    1150.0   \n",
       "5   1.0   883       2   60    1      0.0     100.0       90.0       NaN   \n",
       "\n",
       "   wt_loss  \n",
       "1      NaN  \n",
       "2     15.0  \n",
       "3     15.0  \n",
       "4     11.0  \n",
       "5      0.0  "
      ]
     },
     "execution_count": 8,
     "metadata": {},
     "output_type": "execute_result"
    }
   ],
   "source": [
    "# Check data\n",
    "df.head()"
   ]
  },
  {
   "cell_type": "code",
   "execution_count": 9,
   "metadata": {},
   "outputs": [
    {
     "name": "stdout",
     "output_type": "stream",
     "text": [
      "<class 'pandas.core.frame.DataFrame'>\n",
      "Int64Index: 228 entries, 1 to 228\n",
      "Data columns (total 10 columns):\n",
      " #   Column     Non-Null Count  Dtype  \n",
      "---  ------     --------------  -----  \n",
      " 0   inst       227 non-null    float64\n",
      " 1   time       228 non-null    int64  \n",
      " 2   status     228 non-null    int64  \n",
      " 3   age        228 non-null    int64  \n",
      " 4   sex        228 non-null    int64  \n",
      " 5   ph_ecog    227 non-null    float64\n",
      " 6   ph_karno   227 non-null    float64\n",
      " 7   pat_karno  225 non-null    float64\n",
      " 8   meal_cal   181 non-null    float64\n",
      " 9   wt_loss    214 non-null    float64\n",
      "dtypes: float64(6), int64(4)\n",
      "memory usage: 19.6 KB\n"
     ]
    }
   ],
   "source": [
    "# Check data types\n",
    "df.info()"
   ]
  },
  {
   "cell_type": "markdown",
   "metadata": {},
   "source": [
    "Above, we can see that some of these data have incorrect data types. For those that are categorical, we will use the categorical feature of pandas. Let's change the data types of the following categorical variables:\n",
    "\n",
    "- Change to unordered 'category'\n",
    "    - inst\n",
    "    - status\n",
    "    - sex\n",
    "    - ph_ecog\n",
    "    - ph_karno\n",
    "    - pat_karno\n",
    "\n",
    "\n",
    "NOTE: After the missing data has been handled, the following variables will be cast as ordered 'category':\n",
    "- ph_ecog\n",
    "- ph_karno\n",
    "- pat_karno"
   ]
  },
  {
   "cell_type": "code",
   "execution_count": 10,
   "metadata": {},
   "outputs": [
    {
     "name": "stdout",
     "output_type": "stream",
     "text": [
      "<class 'pandas.core.frame.DataFrame'>\n",
      "Int64Index: 228 entries, 1 to 228\n",
      "Data columns (total 10 columns):\n",
      " #   Column     Non-Null Count  Dtype   \n",
      "---  ------     --------------  -----   \n",
      " 0   inst       227 non-null    category\n",
      " 1   time       228 non-null    int64   \n",
      " 2   status     228 non-null    category\n",
      " 3   age        228 non-null    int64   \n",
      " 4   sex        228 non-null    category\n",
      " 5   ph_ecog    227 non-null    category\n",
      " 6   ph_karno   227 non-null    category\n",
      " 7   pat_karno  225 non-null    category\n",
      " 8   meal_cal   181 non-null    float64 \n",
      " 9   wt_loss    214 non-null    float64 \n",
      "dtypes: category(6), float64(2), int64(2)\n",
      "memory usage: 11.9 KB\n"
     ]
    }
   ],
   "source": [
    "# Change data types\n",
    "#-------------------------------------------------------------------------------\n",
    "\n",
    "# NOTE: ph_ecog, ph.karno, and pat.karno will be cast as ordered categories\n",
    "#       after the null values have been handled\n",
    "\n",
    "# First, change floats to ints so we can drop the decimals\n",
    "float_to_int_list = ['inst', 'ph_ecog', 'ph_karno', 'pat_karno']\n",
    "df[float_to_int_list] = df[float_to_int_list].astype('Int8') # Int8 for nullable integer dtype\n",
    "\n",
    "# Change dtypes to category\n",
    "cat_vars = ['ph_ecog', 'ph_karno', 'pat_karno', 'inst', 'status', 'sex']\n",
    "df[cat_vars] = df[cat_vars].astype('category')\n",
    "\n",
    "# Check changes\n",
    "df.info()"
   ]
  },
  {
   "cell_type": "markdown",
   "metadata": {},
   "source": [
    "### II.b Dimensions"
   ]
  },
  {
   "cell_type": "code",
   "execution_count": 11,
   "metadata": {},
   "outputs": [
    {
     "name": "stdout",
     "output_type": "stream",
     "text": [
      "Data Frame Dimensions:\n",
      "  - 2,280 elements\n",
      "  - 10 columns\n",
      "  - 228 rows\n",
      "    - Begins with column: inst\n",
      "    - Ends with column: wt_loss\n"
     ]
    }
   ],
   "source": [
    "# Describe dimensions of data\n",
    "#-------------------------------------------------------------------------------\n",
    "\n",
    "# Find the number of columns, rows, and elements in the df\n",
    "num_elems = df.size\n",
    "num_rows = df.shape[0]\n",
    "num_cols = df.shape[1]\n",
    "\n",
    "# Print dimensions\n",
    "tab = ' '   # Tab character for formatting output\n",
    "print(f'Data Frame Dimensions:\\n'\n",
    "      f'{tab*2}- {num_elems:,} elements\\n'\n",
    "      f'{tab*2}- {num_cols:,} columns\\n'\n",
    "      f'{tab*2}- {num_rows:,} rows\\n'\n",
    "      f'{tab*4}- Begins with column: {df.columns[0]}\\n'\n",
    "      f'{tab*4}- Ends with column: {df.columns[num_cols-1]}')"
   ]
  },
  {
   "cell_type": "code",
   "execution_count": 12,
   "metadata": {},
   "outputs": [
    {
     "name": "stdout",
     "output_type": "stream",
     "text": [
      "Descriptive Statistics for the Entire Data Set:\n",
      "\n",
      "  Numerical Data:\n",
      "              time         age     meal_cal     wt_loss\n",
      "count   228.000000  228.000000   181.000000  214.000000\n",
      "mean    305.232456   62.447368   928.779006    9.831776\n",
      "std     210.645543    9.073457   402.174707   13.139902\n",
      "min       5.000000   39.000000    96.000000  -24.000000\n",
      "25%     166.750000   56.000000   635.000000    0.000000\n",
      "50%     255.500000   63.000000   975.000000    7.000000\n",
      "75%     396.500000   69.000000  1150.000000   15.750000\n",
      "max    1022.000000   82.000000  2600.000000   68.000000\n",
      "\n",
      "  Categorical Data:\n",
      "        inst  status  sex  ph_ecog  ph_karno  pat_karno\n",
      "count    227     228  228      227       227        225\n",
      "unique    18       2    2        4         6          8\n",
      "top        1       2    1        1        90         90\n",
      "freq      36     165  138      113        74         60\n"
     ]
    }
   ],
   "source": [
    "# Print descriptive stats for numerical and categorical data\n",
    "desc_stats_num = df.describe()\n",
    "desc_stats_cat = df.describe(include=['category'])\n",
    "tab = ' '\n",
    "print(f'Descriptive Statistics for the Entire Data Set:\\n\\n'\n",
    "      f'{tab*2}Numerical Data:\\n'\n",
    "      f'{desc_stats_num}\\n\\n'\n",
    "      f'{tab*2}Categorical Data:\\n'\n",
    "      f'{desc_stats_cat}')"
   ]
  },
  {
   "cell_type": "markdown",
   "metadata": {},
   "source": [
    "### II.c Missingness"
   ]
  },
  {
   "cell_type": "markdown",
   "metadata": {},
   "source": [
    "Check for missing values"
   ]
  },
  {
   "cell_type": "code",
   "execution_count": 13,
   "metadata": {},
   "outputs": [
    {
     "data": {
      "text/plain": [
       "<AxesSubplot:>"
      ]
     },
     "execution_count": 13,
     "metadata": {},
     "output_type": "execute_result"
    },
    {
     "data": {
      "image/png": "[encoded data removed]",
      "text/plain": [
       "<Figure size 432x288 with 1 Axes>"
      ]
     },
     "metadata": {
      "needs_background": "light"
     },
     "output_type": "display_data"
    }
   ],
   "source": [
    "# Check for missing values visually w/ heatmap\n",
    "sns.heatmap(df.isna(), cbar=False)\n",
    "#TODO: Change dimensions of plot\n",
    "#TODO: Add title, x/y-axis labels to plot"
   ]
  },
  {
   "cell_type": "markdown",
   "metadata": {},
   "source": [
    "As can be seen in the plot above, there are, in fact, missing values in this data set.\n",
    "\n",
    "Results from models with missing data could potentially include biased point estimates and standard errors, as well as, loss of statistical power to detect associations. It is important to note tht the impact of missing data does not depend only on the percentage of missing values. The underylying reasons for why the data are missing must be considered. The following is an overview of types of missing data:\n",
    "\n",
    "#### There are 3 types of missing data:\n",
    "\n",
    "- **Missing Completely At Random (MCAR)**\n",
    "    - The fact that MCAR data are missing is independent of the observed and unobserved data. This is to say, patients with missing data are not systematically different from patients with no missing data.\n",
    "        - EG: Patients with missing lab results because of a lab technician's error are not systematically different from patients with no missing lab results. In this scenario, the reason for the missing data is not dependent on the observed or the unobserved data. The missingness is unrelated to the subject being studied.\n",
    "#\n",
    "- **Missing At Random (MAR)**\n",
    "    - The fact that MAR data are missing is systematically related to the observed data, but not the unobserved data. That is to say, patients with missing data are systematically related to observed data, but not unobserved data.\n",
    "        - EG: Patients with missing follow up data might be systemically different from patients with no missing data because those with missing data were related to poorer heath status.\n",
    "#    \n",
    "- **Missing Not At Random (MNAR)**\n",
    "    - The fact that MNAR data are missing is systematically related to the unobserved data, but not the observed data. That is to say, patients with missing data are systematically related to unobserved data, but not observed data. The missingness is related to factors that are not measured by the researcher.\n",
    "        - EG: Survey data for patients with depression might be missing because patients with depression are less likely to complete the survey.\n"
   ]
  },
  {
   "cell_type": "code",
   "execution_count": 14,
   "metadata": {},
   "outputs": [
    {
     "name": "stdout",
     "output_type": "stream",
     "text": [
      "Missing Data By Element: \n",
      " 67, or  2.9%, of the  2,280 elements in the dataframe are null\n",
      "\n"
     ]
    }
   ],
   "source": [
    "# Check for missing values\n",
    "#-------------------------------------------------------------------------------\n",
    "\n",
    "# Check number & percentage of total na's in df\n",
    "num_elems = df.size\n",
    "total_num_nas = df.isna().sum().sum()\n",
    "total_perc_na = total_num_nas / num_elems\n",
    "\n",
    "# Print above numbers\n",
    "print(f'Missing Data By Element: \\n'\n",
    "      f'{total_num_nas: ,}, or {total_perc_na: .1%}, of the {num_elems: ,} '\n",
    "      f'elements in the dataframe are null\\n')"
   ]
  },
  {
   "cell_type": "code",
   "execution_count": 15,
   "metadata": {},
   "outputs": [
    {
     "data": {
      "text/html": [
       "<div>\n",
       "<style scoped>\n",
       "    .dataframe tbody tr th:only-of-type {\n",
       "        vertical-align: middle;\n",
       "    }\n",
       "\n",
       "    .dataframe tbody tr th {\n",
       "        vertical-align: top;\n",
       "    }\n",
       "\n",
       "    .dataframe thead th {\n",
       "        text-align: right;\n",
       "    }\n",
       "</style>\n",
       "<table border=\"1\" class=\"dataframe\">\n",
       "  <thead>\n",
       "    <tr style=\"text-align: right;\">\n",
       "      <th></th>\n",
       "      <th>inst</th>\n",
       "      <th>time</th>\n",
       "      <th>status</th>\n",
       "      <th>age</th>\n",
       "      <th>sex</th>\n",
       "      <th>ph_ecog</th>\n",
       "      <th>ph_karno</th>\n",
       "      <th>pat_karno</th>\n",
       "      <th>meal_cal</th>\n",
       "      <th>wt_loss</th>\n",
       "    </tr>\n",
       "  </thead>\n",
       "  <tbody>\n",
       "    <tr>\n",
       "      <th>1</th>\n",
       "      <td>3</td>\n",
       "      <td>306</td>\n",
       "      <td>2</td>\n",
       "      <td>74</td>\n",
       "      <td>1</td>\n",
       "      <td>1</td>\n",
       "      <td>90</td>\n",
       "      <td>100</td>\n",
       "      <td>1175.0</td>\n",
       "      <td>NaN</td>\n",
       "    </tr>\n",
       "  </tbody>\n",
       "</table>\n",
       "</div>"
      ],
      "text/plain": [
       "  inst  time status  age sex ph_ecog ph_karno pat_karno  meal_cal  wt_loss\n",
       "1    3   306      2   74   1       1       90       100    1175.0      NaN"
      ]
     },
     "execution_count": 15,
     "metadata": {},
     "output_type": "execute_result"
    }
   ],
   "source": [
    "# Create dataframe of missing values\n",
    "missing_df = df[df.isnull().any(axis=1)]\n",
    "missing_df.head(1)"
   ]
  },
  {
   "cell_type": "code",
   "execution_count": 16,
   "metadata": {},
   "outputs": [
    {
     "name": "stdout",
     "output_type": "stream",
     "text": [
      "Descriptive Stats for Observations Missing Data:\n",
      "\n",
      "  Numerical:\n",
      "              time        age     meal_cal    wt_loss\n",
      "count    61.000000  61.000000    14.000000  47.000000\n",
      "mean    292.360656  62.114754   924.642857  10.234043\n",
      "std     215.144915   8.752330   237.307203  12.383742\n",
      "min      11.000000  40.000000   513.000000 -11.000000\n",
      "25%     144.000000  56.000000   726.500000   0.000000\n",
      "50%     208.000000  62.000000  1025.000000   7.000000\n",
      "75%     371.000000  69.000000  1075.000000  17.000000\n",
      "max    1010.000000  81.000000  1225.000000  49.000000\n",
      "\n",
      "  Categorical:\n",
      "        inst  status  sex  ph_ecog  ph_karno  pat_karno\n",
      "count     60      61   61       60        60         58\n",
      "unique    15       2    2        3         6          6\n",
      "top        1       2    1        1        90         90\n",
      "freq       8      45   35       32        24         16\n"
     ]
    }
   ],
   "source": [
    "# Print descriptive stats of missing data df\n",
    "#TODO: Can I use describe to get stats for missing data?\n",
    "missing_df_desc = missing_df.describe()\n",
    "missing_df_desc_cat = missing_df.describe(include='category')\n",
    "tab = ' '\n",
    "print(f'Descriptive Stats for Observations Missing Data:\\n\\n'\n",
    "      f'{tab*2}Numerical:\\n'\n",
    "      f'{missing_df_desc}\\n\\n'\n",
    "      f'{tab*2}Categorical:\\n'\n",
    "      f'{missing_df_desc_cat}')"
   ]
  },
  {
   "cell_type": "markdown",
   "metadata": {},
   "source": [
    "Missing Data by Column"
   ]
  },
  {
   "cell_type": "code",
   "execution_count": 17,
   "metadata": {},
   "outputs": [
    {
     "name": "stdout",
     "output_type": "stream",
     "text": [
      "Missing Data By Column:\n",
      "  - 4, or 40.0%, of the 10 columns do not contain null values\n",
      "  - 6, or 60.0%, of the 10 columns contain null values\n",
      "\n",
      "Column Name    Data Type      # Na's     % Na's\n",
      "-------------  -----------  --------  ---------\n",
      "meal_cal       float64            47  2.0614\n",
      "wt_loss        float64            14  0.614035\n",
      "pat_karno      category            3  0.131579\n",
      "inst           category            1  0.0438596\n",
      "ph_ecog        category            1  0.0438596\n",
      "ph_karno       category            1  0.0438596\n"
     ]
    }
   ],
   "source": [
    "# Describe missing data by column\n",
    "#-------------------------------------------------------------------------------\n",
    "\n",
    "# Check number & percentage of na's per column\n",
    "# Create series containing number of na's in each column\n",
    "na_series = df.isna().sum()\n",
    "# Subset series to include only columns that have na's\n",
    "cols_w_nas = na_series[na_series > 0].sort_values(ascending=False)\n",
    "# Calculate numbers of columns w/ and w/o na's & percentages\n",
    "num_cols = df.shape[1]\n",
    "num_cols_w_nas = len(cols_w_nas)\n",
    "num_cols_wo_nas = num_cols - num_cols_w_nas\n",
    "perc_cols_w_nas = num_cols_w_nas / num_cols\n",
    "perc_cols_wo_nas = num_cols_wo_nas / num_cols\n",
    "# Print above numbers\n",
    "tab = ' '\n",
    "print(f'Missing Data By Column:')\n",
    "print(f'{tab*2}-{num_cols_wo_nas: ,}, or{perc_cols_wo_nas: .1%}, of '\n",
    "      f'the{num_cols: ,} columns do not contain null values\\n'\n",
    "      f'{tab*2}-{num_cols_w_nas: ,}, or{perc_cols_w_nas: .1%}, of '\n",
    "      f'the{num_cols: ,} columns contain null values\\n')\n",
    "\n",
    "# Print column names with data types, number of na's and percentage of na's\n",
    "missing_data_desc_col = []\n",
    "headers_col = ['Column Name', 'Data Type', '# Na\\'s', '% Na\\'s']\n",
    "\n",
    "# Loop through each column in df with na's\n",
    "# Build table of missing data description by column\n",
    "for col in cols_w_nas.index:\n",
    "    num_nas_col = df[col].isna().sum()\n",
    "    perc_nas_col = (num_nas_col / num_elems) * 100\n",
    "    data_type = df[col].dtype\n",
    "    missing_data_desc_col.append([col, data_type, num_nas_col, perc_nas_col])\n",
    "\n",
    "# Print table\n",
    "num_format_col = ['.0f', '.1f']\n",
    "print(tabulate(missing_data_desc_col, headers=headers_col, tablefmt='fancy', \n",
    "               floatfmt=num_format_col))"
   ]
  },
  {
   "cell_type": "markdown",
   "metadata": {},
   "source": [
    "Missing Data by Patient (row)"
   ]
  },
  {
   "cell_type": "code",
   "execution_count": 18,
   "metadata": {},
   "outputs": [
    {
     "name": "stdout",
     "output_type": "stream",
     "text": [
      "Missing Data By Patient (row):\n",
      "\n",
      "  - 167, or 40.0%, of the 228 rows do not contain null values\n",
      "  - 61, or 26.8%, of the 228 rows contain null values\n",
      "\n",
      "Missing Data Dataframe (partial):\n"
     ]
    },
    {
     "data": {
      "text/html": [
       "<div>\n",
       "<style scoped>\n",
       "    .dataframe tbody tr th:only-of-type {\n",
       "        vertical-align: middle;\n",
       "    }\n",
       "\n",
       "    .dataframe tbody tr th {\n",
       "        vertical-align: top;\n",
       "    }\n",
       "\n",
       "    .dataframe thead th {\n",
       "        text-align: right;\n",
       "    }\n",
       "</style>\n",
       "<table border=\"1\" class=\"dataframe\">\n",
       "  <thead>\n",
       "    <tr style=\"text-align: right;\">\n",
       "      <th></th>\n",
       "      <th># Na's</th>\n",
       "      <th>% Na's</th>\n",
       "      <th>inst</th>\n",
       "      <th>time</th>\n",
       "      <th>status</th>\n",
       "      <th>age</th>\n",
       "      <th>sex</th>\n",
       "      <th>ph_ecog</th>\n",
       "      <th>ph_karno</th>\n",
       "      <th>pat_karno</th>\n",
       "      <th>meal_cal</th>\n",
       "      <th>wt_loss</th>\n",
       "    </tr>\n",
       "  </thead>\n",
       "  <tbody>\n",
       "    <tr>\n",
       "      <th>206</th>\n",
       "      <td>3</td>\n",
       "      <td>30.0</td>\n",
       "      <td>33</td>\n",
       "      <td>105</td>\n",
       "      <td>2</td>\n",
       "      <td>62</td>\n",
       "      <td>1</td>\n",
       "      <td>2</td>\n",
       "      <td>NaN</td>\n",
       "      <td>70</td>\n",
       "      <td>NaN</td>\n",
       "      <td>NaN</td>\n",
       "    </tr>\n",
       "    <tr>\n",
       "      <th>178</th>\n",
       "      <td>2</td>\n",
       "      <td>20.0</td>\n",
       "      <td>13</td>\n",
       "      <td>186</td>\n",
       "      <td>2</td>\n",
       "      <td>55</td>\n",
       "      <td>2</td>\n",
       "      <td>1</td>\n",
       "      <td>80</td>\n",
       "      <td>70</td>\n",
       "      <td>NaN</td>\n",
       "      <td>NaN</td>\n",
       "    </tr>\n",
       "    <tr>\n",
       "      <th>105</th>\n",
       "      <td>2</td>\n",
       "      <td>20.0</td>\n",
       "      <td>13</td>\n",
       "      <td>177</td>\n",
       "      <td>2</td>\n",
       "      <td>59</td>\n",
       "      <td>1</td>\n",
       "      <td>2</td>\n",
       "      <td>50</td>\n",
       "      <td>NaN</td>\n",
       "      <td>NaN</td>\n",
       "      <td>32.0</td>\n",
       "    </tr>\n",
       "    <tr>\n",
       "      <th>44</th>\n",
       "      <td>2</td>\n",
       "      <td>20.0</td>\n",
       "      <td>12</td>\n",
       "      <td>145</td>\n",
       "      <td>2</td>\n",
       "      <td>60</td>\n",
       "      <td>2</td>\n",
       "      <td>2</td>\n",
       "      <td>70</td>\n",
       "      <td>60</td>\n",
       "      <td>NaN</td>\n",
       "      <td>NaN</td>\n",
       "    </tr>\n",
       "    <tr>\n",
       "      <th>209</th>\n",
       "      <td>2</td>\n",
       "      <td>20.0</td>\n",
       "      <td>21</td>\n",
       "      <td>237</td>\n",
       "      <td>1</td>\n",
       "      <td>69</td>\n",
       "      <td>1</td>\n",
       "      <td>1</td>\n",
       "      <td>80</td>\n",
       "      <td>70</td>\n",
       "      <td>NaN</td>\n",
       "      <td>NaN</td>\n",
       "    </tr>\n",
       "  </tbody>\n",
       "</table>\n",
       "</div>"
      ],
      "text/plain": [
       "     # Na's  % Na's inst  time status  age sex ph_ecog ph_karno pat_karno  \\\n",
       "206       3    30.0   33   105      2   62   1       2      NaN        70   \n",
       "178       2    20.0   13   186      2   55   2       1       80        70   \n",
       "105       2    20.0   13   177      2   59   1       2       50       NaN   \n",
       "44        2    20.0   12   145      2   60   2       2       70        60   \n",
       "209       2    20.0   21   237      1   69   1       1       80        70   \n",
       "\n",
       "     meal_cal  wt_loss  \n",
       "206       NaN      NaN  \n",
       "178       NaN      NaN  \n",
       "105       NaN     32.0  \n",
       "44        NaN      NaN  \n",
       "209       NaN      NaN  "
      ]
     },
     "execution_count": 18,
     "metadata": {},
     "output_type": "execute_result"
    }
   ],
   "source": [
    "# Describe missing data by row (i.e. patient)\n",
    "#-------------------------------------------------------------------------------\n",
    "\n",
    "# Create a dataframe of patients with missing data\n",
    "\n",
    "# Check number & percentage of na's per column\n",
    "# Create series containing number of na's in each column\n",
    "na_series_row = df.isna().sum(axis=1)\n",
    "# Subset series to include only columns that have na's and sort from max to min\n",
    "rows_w_nas = na_series_row[na_series_row > 0].sort_values(ascending=False)\n",
    "\n",
    "# Calculate number and percentage of na's per row\n",
    "num_rows = df.shape[0]\n",
    "num_rows_w_nas = len(rows_w_nas)\n",
    "num_rows_wo_nas = num_rows - num_rows_w_nas\n",
    "perc_rows_w_nas = num_rows_w_nas / num_rows\n",
    "perc_rows_wo_nas = num_rows_wo_nas / num_rows\n",
    "\n",
    "# Create df of missing data\n",
    "missing_df = pd.DataFrame()\n",
    "# Include number and percentge of NA's\n",
    "missing_df['# Na\\'s'] = rows_w_nas\n",
    "missing_df['% Na\\'s'] = (missing_df['# Na\\'s'] / num_cols) * 100\n",
    "# Left join df subsetting by rows with missing data                                                                                                                                                                                                                                                                                                                                                                                                                                                                                                                                                                                                                                                                                                                                                                                                                                                                                                                                                                                                                                                                                                                                                                                                                                                                                                                                                                                                                                                                                                                                                                                                                                                                                                                                                                                                                                                                                                                                                                                                                                                                                                                                                                                                                                                                                                                                                                                                                                                                                                                                                                                                                                                                                                                                                                                                                                                                                                                                                                                                                                                                                                                                                                                                                                                                                                                                                                                                                                                                                                                                                                                                                                                                                                                                                                                                                                                                                                                                                                                                                                                                                                                                                                                                                                                                                                                                                                                                                                                                                                                                                                                                                                                                                                                                                                                                                                                                                                                                                                                                                                                                                                                                                                                                                                                                                                                                                                                                                                                                                                                                                                                                                                                                                                                                                                                                                                                                                                                                                                                                                                                                                                                                                                                                              \n",
    "missing_df = missing_df.join(df.iloc[rows_w_nas.index - 1])\n",
    "\n",
    "# Print number and percentage of na's per  \n",
    "print(f'Missing Data By Patient (row):')\n",
    "print(f'\\n{tab*2}-{num_rows_wo_nas: ,}, or{perc_cols_wo_nas: .1%}, '\n",
    "      f'of the{num_rows: ,} rows do not contain null values\\n'\n",
    "      f'{tab*2}-{num_rows_w_nas: ,}, or{perc_rows_w_nas: .1%}, '\n",
    "      f'of the{num_rows: ,} rows contain null values')\n",
    "\n",
    "# Print the data frame\n",
    "print(f'\\nMissing Data Dataframe (partial):')\n",
    "missing_df.head()\n",
    "\n",
    "# NOTE: The entire df can be printed using pd.option_context('display.max_rows')"
   ]
  },
  {
   "cell_type": "markdown",
   "metadata": {},
   "source": [
    "Missing Data by Institution"
   ]
  },
  {
   "cell_type": "code",
   "execution_count": 19,
   "metadata": {},
   "outputs": [
    {
     "name": "stdout",
     "output_type": "stream",
     "text": [
      "Missing Data by Institution\n",
      "\n",
      "Descriptive Statistics of inst Variable for Observations with Missing Data:\n",
      "        inst\n",
      "count     60\n",
      "unique    15\n",
      "top        1\n",
      "freq       8\n",
      "\n",
      "Number & Percentage of Missing Values by Institution:\n",
      "inst       1    2     3    4    5    6    7   10   11    12    13   15   16  \\\n",
      "# Na's   8.0  1.0   7.0  0.0  2.0  2.0  1.0  0.0  5.0   8.0   9.0  0.0  6.0   \n",
      "% Na's  11.9  1.5  10.4  0.0  3.0  3.0  1.5  0.0  7.5  11.9  13.4  0.0  9.0   \n",
      "\n",
      "inst     21   22   26   32   33  \n",
      "# Na's  6.0  4.0  2.0  1.0  4.0  \n",
      "% Na's  9.0  6.0  3.0  1.5  6.0  \n",
      "\n",
      "Missing Institution Data:\n",
      "  - 1, or 0.4 percent, of inst data is missing\n",
      "  - 0, or 0.0 percent, of all missing data occur when values for inst are missing\n",
      "\n"
     ]
    }
   ],
   "source": [
    "# Missing data by inst\n",
    "#-------------------------------------------------------------------------------\n",
    "\n",
    "# Print variable by which missing data is grouped\n",
    "print(f'Missing Data by Institution\\n')\n",
    "\n",
    "# Descriptive stats of inst data from observations with missing data\n",
    "inst_desc_stat = missing_df[['inst']].describe(include=['category'])\n",
    "print(f'Descriptive Statistics of inst Variable for Observations with Missing Data:\\n'\n",
    "      f'{inst_desc_stat}\\n')\n",
    "\n",
    "# Count the number of na's per inst value\n",
    "group_inst = missing_df[['# Na\\'s', 'inst']].groupby(['inst']).sum().astype('int64')\n",
    "\n",
    "# Calculate percentage total of na's by inst\n",
    "total_na = missing_df.isna().sum().sum()\n",
    "group_inst['% Na\\'s'] = ((group_inst['# Na\\'s'] / total_na) * 100).round(1)\n",
    "\n",
    "# Print transform of group_inst\n",
    "print(f'Number & Percentage of Missing Values by Institution:\\n'\n",
    "      f'{group_inst.T}\\n')\n",
    "\n",
    "# Calculate percentage of na's of inst data and total na's\n",
    "num_inst_nas = missing_df['inst'].isna().sum()\n",
    "num_nas_inst_na = df[df['inst'].isna()].isna().sum().sum().astype('int') - num_inst_nas\n",
    "perc_inst_nas = (num_inst_nas / df.shape[0]) * 100\n",
    "perc_nas_inst_na = (num_nas_inst_na / total_na) * 100\n",
    "\n",
    "# Print num, percentage of na's\n",
    "tab = ' '\n",
    "print(f'Missing Institution Data:\\n'\n",
    "      f'{tab*2}-{num_inst_nas: ,}, or{perc_inst_nas: ,.1f} percent, of inst data is missing\\n'\n",
    "      f'{tab*2}-{num_nas_inst_na: ,}, or{perc_nas_inst_na: ,.1f} percent, of all missing data occur '\n",
    "      f'when values for inst are missing\\n')\n",
    "\n",
    "#NOTE: df.groupby(by=\"a\", dropna=False).sum()"
   ]
  },
  {
   "cell_type": "markdown",
   "metadata": {},
   "source": [
    "Missing Data by Patient Status"
   ]
  },
  {
   "cell_type": "code",
   "execution_count": 38,
   "metadata": {},
   "outputs": [
    {
     "name": "stdout",
     "output_type": "stream",
     "text": [
      "Missing Data by Patient Status\n",
      "\n",
      "Descriptive Statistics of status Variable for Observations Missing Data:\n",
      "        status\n",
      "count       61\n",
      "unique       2\n",
      "top          2\n",
      "freq        45\n",
      "\n",
      "Number of Missing Values Grouped by Status Variable:\n",
      "        # Na's\n",
      "status        \n",
      "1           17\n",
      "2           50\n",
      "\n",
      "Missing Data by Patient Status:\n",
      "  - 0, or 0.0 percent of status data are missing\n",
      "  - 0, or 0.0 percent of all missing data occur when values for status are missing\n",
      "  - 25.4 percent of the null values occur when the patient has a status of 1 (censored)\n",
      "  - 74.6 percent of the null values occur when the patient has a status of 2 (dead)\n"
     ]
    }
   ],
   "source": [
    "# Missing data by patient status\n",
    "#-------------------------------------------------------------------------------\n",
    "\n",
    "# Print variable by which missing data is grouped\n",
    "print(f'Missing Data by Patient Status\\n')\n",
    "\n",
    "# Calc number and percentage of missing values\n",
    "num_status_nas = missing_df['status'].isna().sum()\n",
    "perc_nas_status = (num_status_nas / df.shape[0]) * 100\n",
    "\n",
    "# Descriptive stats of status data from observations with missing data\n",
    "status_desc_stats = missing_df[['status']].describe(include=['category'])\n",
    "print(f'Descriptive Statistics of status Variable for Observations Missing Data:\\n'\n",
    "      f'{status_desc_stats}\\n')\n",
    "\n",
    "# Count the number of na's per status\n",
    "group_status = missing_df[['# Na\\'s', 'status']].groupby(['status']).sum()\n",
    "print(f'Number of Missing Values Grouped by Status Variable:\\n'\n",
    "      f'{group_status}\\n')\n",
    "\n",
    "# Calculate percentage of na's of inst data and total na's\n",
    "num_status_nas = missing_df['status'].isna().sum()\n",
    "perc_nas_status = (num_status_nas / df.shape[0]) * 100\n",
    "num_nas_when_status_na = df[df['status'].isna()].isna().sum().sum().astype('int')\n",
    "perc_nas_when_status_na = (num_nas_when_status_na / total_na) * 100 \\\n",
    "                                                    if num_nas_when_status_na > 0 else 0\n",
    "\n",
    "# Calculate percentage of na's per status\n",
    "total_na = df.isna().sum().sum()\n",
    "perc_nas_status_1 = (group_status.at[1, '# Na\\'s'] / total_na) * 100\n",
    "perc_nas_status_2 = (group_status.at[2, '# Na\\'s'] / total_na) * 100\n",
    "\n",
    "# List var's which have missing data and count number of missing val's for each\n",
    "vars_nas_status_1 = df[df['status'] == 1].isna().sum().sort_values(ascending=False)\n",
    "vars_nas_status_1 = vars_nas_status_1[vars_nas_status_1 > 0]\n",
    "vars_nas_status_2 = df[df['status'] == 2].isna().sum().sort_values(ascending=False)\n",
    "vars_nas_status_2 = vars_nas_status_2[vars_nas_status_2 > 0]\n",
    "vars_nas_status_2\n",
    "\n",
    "# Print num's and percentages na's\n",
    "tab = ' '\n",
    "print(f'Missing Data by Patient Status:\\n'\n",
    "      f'{tab*2}- {num_status_nas:,}, or {perc_nas_status:,.1f} percent of '\n",
    "      f'status data are missing\\n'\n",
    "      f'{tab*2}- {num_nas_when_status_na:,}, or{perc_nas_when_status_na: ,.1f} percent of all '\n",
    "      f'missing data occur when values for status are missing\\n'\n",
    "      f'{tab*2}-{perc_nas_status_1: .1f} percent of the null values occur when '\n",
    "      f'the patient has a status of 1 (censored)\\n'\n",
    "      f'{tab*2}-{perc_nas_status_2: .1f} percent of the null values occur when '\n",
    "      f'the patient has a status of 2 (dead)')\n",
    "#TODO: Add the numbers of missing data per status in the last 2 lines above"
   ]
  },
  {
   "cell_type": "markdown",
   "metadata": {},
   "source": [
    "Missing Data by Patient Sex"
   ]
  },
  {
   "cell_type": "code",
   "execution_count": 21,
   "metadata": {},
   "outputs": [
    {
     "name": "stdout",
     "output_type": "stream",
     "text": [
      "Missing Data by Patient Sex\n",
      "\n",
      "Descriptive Statistics of sex Variable for Observations with Missing Data:\n",
      "        sex\n",
      "count    61\n",
      "unique    2\n",
      "top       1\n",
      "freq     35\n",
      "\n",
      "Number of Missing Values Grouped by Sex Variable:\n",
      "     # Na's\n",
      "sex        \n",
      "1        39\n",
      "2        28\n",
      "\n",
      "Missing Data by Patient Sex:\n",
      "  - 58.2 percent of the null values occur when the patient has a sex of 1 (male)\n",
      "  - 41.8 percent of the null values occur when the patient has a sex of 2 (female)\n"
     ]
    }
   ],
   "source": [
    "# Missing data by patient sex\n",
    "#-------------------------------------------------------------------------------\n",
    "\n",
    "# Print variable for which missing data by which missing data is grouped\n",
    "print(f'Missing Data by Patient Sex\\n')\n",
    "\n",
    "# Descriptive stats of sex data from observations with missing data\n",
    "sex_desc_stat = missing_df[['sex']].describe(include=['category'])\n",
    "print(f'Descriptive Statistics of sex Variable for Observations with Missing Data:\\n'\n",
    "      f'{sex_desc_stat}\\n')\n",
    "\n",
    "# Count the number of na's per sex\n",
    "group_sex = missing_df[['# Na\\'s', 'sex']].groupby(['sex']).sum()\n",
    "print(f'Number of Missing Values Grouped by Sex Variable:\\n'\n",
    "      f'{group_sex}')\n",
    "\n",
    "# Calculate percentage of na's per status\n",
    "total_na = missing_df['# Na\\'s'].sum()\n",
    "perc_nas_sex_1 = (group_sex.at[1, '# Na\\'s'] / total_na) * 100\n",
    "perc_nas_sex_2 = (group_sex.at[2, '# Na\\'s'] / total_na) * 100\n",
    "\n",
    "# Print percentages\n",
    "tab = ' '\n",
    "print(f'\\nMissing Data by Patient Sex:\\n'\n",
    "      f'{tab*2}-{perc_nas_sex_1: .1f} percent of the null values occur when '\n",
    "      f'the patient has a sex of 1 (male)\\n'\n",
    "      f'{tab*2}-{perc_nas_sex_2: .1f} percent of the null values occur when '\n",
    "      f'the patient has a sex of 2 (female)')\n",
    "#TODO: Add num, percent of sex data missing\n",
    "#TODO: Add num, percent of na's that occur when sex is missing"
   ]
  },
  {
   "cell_type": "markdown",
   "metadata": {},
   "source": [
    "Missing Data by Patient Age"
   ]
  },
  {
   "cell_type": "code",
   "execution_count": 22,
   "metadata": {},
   "outputs": [
    {
     "name": "stdout",
     "output_type": "stream",
     "text": [
      "Missing Data by Patient Age\n",
      "\n",
      "Descriptive Statistics of age Variable for Observations Missing Data:\n",
      "             age\n",
      "count  61.000000\n",
      "mean   62.114754\n",
      "std     8.752330\n",
      "min    40.000000\n",
      "25%    56.000000\n",
      "50%    62.000000\n",
      "75%    69.000000\n",
      "max    81.000000\n",
      "\n",
      "Descriptive Stats of Age Bins:\n",
      "count     61\n",
      "unique     4\n",
      "top        3\n",
      "freq      23\n",
      "Name: age_bin, dtype: object\n",
      "\n",
      "Missing Data by Patient Age:\n",
      "  - 0, or 0.0 percent of age data are missing\n",
      "  - 0, or 0.0 percent of all missing data occur when values for age data are missing\n",
      "  - 6, or 9.0 percent of the null values occur when the patient age is in bin 1\n",
      "  - 25, or 37.3 percent of the null values occur when the patient age is in bin 2\n",
      "  - 26, or 38.8 percent of the null values occur when the patient age is in bin 3\n",
      "  - 10, or 14.9 percent of the null values occur when the patient age is in bin 4\n"
     ]
    }
   ],
   "source": [
    "# Missing data by patient age\n",
    "#-------------------------------------------------------------------------------\n",
    "\n",
    "# Print variable by which missing data is grouped\n",
    "print(f'Missing Data by Patient Age\\n')\n",
    "\n",
    "# Descriptive stats of sex data from observations with missing data\n",
    "age_desc_stat = missing_df[['age']].describe()\n",
    "print(f'Descriptive Statistics of age Variable for Observations Missing Data:\\n'\n",
    "      f'{age_desc_stat}\\n')\n",
    "\n",
    "# Bin age data\n",
    "missing_df['age_bin'] = pd.cut(missing_df['age'], 4,\n",
    "                                labels=['1', '2', '3', '4'],\n",
    "                                include_lowest=True)\n",
    "\n",
    "# Descriptive stats for observations with missing data\n",
    "age_bins_stats = missing_df['age_bin'].describe()\n",
    "print(f'Descriptive Stats of Age Bins:\\n'\n",
    "      f'{age_bins_stats}\\n')\n",
    "\n",
    "# Number and percent of missing age data\n",
    "num_age_na = missing_df['age'].isna().sum()\n",
    "perc_age_na = (num_age_na / df.shape[0]) * 100\n",
    "num_nas_when_age_na = (missing_df[missing_df['age'].isna()].isna().sum().sum() \\\n",
    "                                            - num_age_na).astype(int)\n",
    "perc_nas_when_age_na = (num_nas_when_age_na / df.shape[0]) * 100\n",
    "\n",
    "# Number of na's per age bin\n",
    "num_nas_age_1 = missing_df[missing_df['age_bin'] == '1'].isna().sum().sum()\n",
    "num_nas_age_2 = missing_df[missing_df['age_bin'] == '2'].isna().sum().sum()\n",
    "num_nas_age_3 = missing_df[missing_df['age_bin'] == '3'].isna().sum().sum()\n",
    "num_nas_age_4 = missing_df[missing_df['age_bin'] == '4'].isna().sum().sum()\n",
    "\n",
    "# Percent of total na's per age bin\n",
    "perc_nas_age_1 = (num_nas_age_1 / total_na) * 100\n",
    "perc_nas_age_2 = (num_nas_age_2 / total_na) * 100\n",
    "perc_nas_age_3 = (num_nas_age_3 / total_na) * 100\n",
    "perc_nas_age_4 = (num_nas_age_4 / total_na) * 100\n",
    "\n",
    "# Print num's and percentages\n",
    "tab = ' '\n",
    "print(f'Missing Data by Patient Age:\\n'\n",
    "      f'{tab*2}- {num_age_na:,}, or {perc_age_na:,.1f} percent of '\n",
    "      f'age data are missing\\n'\n",
    "      f'{tab*2}- {num_nas_when_age_na:,}, or{perc_nas_when_age_na: ,.1f} percent of all missing '\n",
    "      f'all missing data occur when values for age data are missing\\n'\n",
    "      f'{tab*2}- {num_nas_age_1}, or{perc_nas_age_1: .1f} percent of the null values occur when '\n",
    "      f'the patient age is in bin 1\\n'\n",
    "      f'{tab*2}- {num_nas_age_2}, or{perc_nas_age_2: .1f} percent of the null values occur when '\n",
    "      f'the patient age is in bin 2\\n'\n",
    "      f'{tab*2}- {num_nas_age_3}, or{perc_nas_age_3: .1f} percent of the null values occur when '\n",
    "      f'the patient age is in bin 3\\n'\n",
    "      f'{tab*2}- {num_nas_age_4}, or{perc_nas_age_4: .1f} percent of the null values occur when '\n",
    "      f'the patient age is in bin 4')\n",
    "#TODO: Add the age ranges for each bin in print statements above\n",
    "#NOTE: Should bin size equal 1 standard deviation?"
   ]
  },
  {
   "cell_type": "markdown",
   "metadata": {},
   "source": [
    "Missing Data by Time"
   ]
  },
  {
   "cell_type": "code",
   "execution_count": 41,
   "metadata": {},
   "outputs": [
    {
     "name": "stdout",
     "output_type": "stream",
     "text": [
      "Missing Data by Time\n",
      "\n",
      "Descriptive Statistics of time Variable for Observations Missing Data:\n",
      "              time\n",
      "count    61.000000\n",
      "mean    292.360656\n",
      "std     215.144915\n",
      "min      11.000000\n",
      "25%     144.000000\n",
      "50%     208.000000\n",
      "75%     371.000000\n",
      "max    1010.000000\n",
      "\n",
      "Descriptive Stats of Time Bins:\n",
      "count     61\n",
      "unique     4\n",
      "top        1\n",
      "freq      34\n",
      "Name: time_bin, dtype: object\n",
      "\n",
      "Missing Data by Time Variable:\n",
      "  - 0, or 0.0 percent of time data are missing\n",
      "  - 0, or 0.0 percent of all missing data occur when values for time are missing\n",
      "  - 75, or 111.9 percent of the null values occur when the time is in bin 1\n",
      "  - 31, or 46.3 percent of the null values occur when the time is in bin 2\n",
      "  - 18, or 26.9 percent of the null values occur when the time is in bin 3\n",
      "  - 4, or 6.0 percent of the null values occur when the time is in bin 4\n"
     ]
    }
   ],
   "source": [
    "# Missing data by time\n",
    "#-------------------------------------------------------------------------------\n",
    "\n",
    "# Print variable by which missing data is grouped\n",
    "print(f'Missing Data by Time\\n')\n",
    "\n",
    "# Descriptive stats of sex data from observations with missing data\n",
    "time_desc_stat = missing_df[['time']].describe()\n",
    "print(f'Descriptive Statistics of time Variable for Observations Missing Data:\\n'\n",
    "      f'{time_desc_stat}\\n')\n",
    "\n",
    "# Bin time data\n",
    "missing_df['time_bin'] = pd.cut(missing_df['time'], 4, labels=['1', '2', '3', '4'],\n",
    "                                 include_lowest=True)\n",
    "\n",
    "time_bins_stats = missing_df['time_bin'].describe()\n",
    "print(f'Descriptive Stats of Time Bins:\\n'\n",
    "      f'{time_bins_stats}\\n')\n",
    "\n",
    "# Number and percent of missing age data\n",
    "num_time_na = missing_df['time'].isna().sum()\n",
    "perc_time_na = (num_time_na / df.shape[0]) * 100\n",
    "num_nas_when_time_na = (missing_df[missing_df['time'].isna()].isna().sum().sum() \\\n",
    "                                                - num_time_na).astype(int)\n",
    "perc_nas_when_time_na = (num_nas_when_time_na / df.shape[0]) * 100\n",
    "# Number of na's per age bin\n",
    "num_nas_time_1 = missing_df[missing_df['time_bin'] == '1'].isna().sum().sum()\n",
    "num_nas_time_2 = missing_df[missing_df['time_bin'] == '2'].isna().sum().sum()\n",
    "num_nas_time_3 = missing_df[missing_df['time_bin'] == '3'].isna().sum().sum()\n",
    "num_nas_time_4 = missing_df[missing_df['time_bin'] == '4'].isna().sum().sum()\n",
    "\n",
    "#TODO: Calculate number of observations with missing values per time_bin using .shape[0]\n",
    "\n",
    "# Percent of total na's per age bin\n",
    "perc_nas_time_1 = (num_nas_time_1 / total_na) * 100\n",
    "perc_nas_time_2 = (num_nas_time_2 / total_na) * 100\n",
    "perc_nas_time_3 = (num_nas_time_3 / total_na) * 100\n",
    "perc_nas_time_4 = (num_nas_time_4 / total_na) * 100\n",
    "\n",
    "# Print num's and percentages na's\n",
    "tab = ' '\n",
    "print(f'Missing Data by Time Variable:\\n'\n",
    "      f'{tab*2}- {num_time_na:,}, or {perc_time_na:,.1f} percent of '\n",
    "      f'time data are missing\\n'\n",
    "      f'{tab*2}- {num_nas_when_time_na:,}, or{perc_nas_when_time_na: ,.1f} percent of all '\n",
    "      f'missing data occur when values for time are missing\\n'\n",
    "      f'{tab*2}- {num_nas_time_1}, or{perc_nas_time_1: .1f} percent of the null values occur when '\n",
    "      f'the time is in bin 1\\n'\n",
    "      f'{tab*2}- {num_nas_time_2}, or{perc_nas_time_2: .1f} percent of the null values occur when '\n",
    "      f'the time is in bin 2\\n'\n",
    "      f'{tab*2}- {num_nas_time_3}, or{perc_nas_time_3: .1f} percent of the null values occur when '\n",
    "      f'the time is in bin 3\\n'\n",
    "      f'{tab*2}- {num_nas_time_4}, or{perc_nas_time_4: .1f} percent of the null values occur when '\n",
    "      f'the time is in bin 4')\n",
    "#TODO: Add the time ranges for each bin above\n",
    "#NOTE: Should bin size equal 1 standard deviation?"
   ]
  },
  {
   "cell_type": "markdown",
   "metadata": {},
   "source": [
    "Missing Data by Physician ECOG"
   ]
  },
  {
   "cell_type": "code",
   "execution_count": 36,
   "metadata": {},
   "outputs": [
    {
     "name": "stdout",
     "output_type": "stream",
     "text": [
      "Missing Data by Physician ECOG\n",
      "\n",
      "Descriptive Statistics of ph_ecog Variable for Observations Missing Data:\n",
      "        ph_ecog\n",
      "count        60\n",
      "unique        3\n",
      "top           1\n",
      "freq         32\n",
      "\n",
      "Missing Data by ph_ecog Variable:\n",
      "  - 1, or 0.4 percent of ph_ecog data are missing\n",
      "  - 0, or 0.0 percent of all missing data occur when values for ph_ecog are missing\n",
      "  - 31, or 46.3 percent of the null values occur when the ph_ecog is 0\n",
      "  - 68, or 101.5 percent of the null values occur when the ph_ecog is 1\n",
      "  - 28, or 41.8 percent of the null values occur when the ph_ecog is 2\n",
      "  - 0.0, or 0.0 percent of the null values occur when the ph_ecog is 3\n",
      "  - 0.0, or 0.0 percent of the null values occur when the ph_ecog is 4\n",
      "  - 0.0, or 0.0 percent of the null values occur when the ph_ecog is 5\n",
      "\n"
     ]
    }
   ],
   "source": [
    "# Missing data by ph.ecog\n",
    "#-------------------------------------------------------------------------------\n",
    "\n",
    "# Print variable by which missing data is grouped\n",
    "print(f'Missing Data by Physician ECOG\\n')\n",
    "\n",
    "# Descriptive stats of ph_ecog data from observations with missing data\n",
    "ph_ecog_desc_stat = missing_df[['ph_ecog']].describe()\n",
    "print(f'Descriptive Statistics of ph_ecog Variable for Observations Missing Data:\\n'\n",
    "      f'{ph_ecog_desc_stat}\\n')\n",
    "\n",
    "# Number and percent of missing ph_ecog data\n",
    "num_ph_ecog_na = missing_df['ph_ecog'].isna().sum()\n",
    "perc_ph_ecog_na = (num_ph_ecog_na / df.shape[0]) * 100\n",
    "num_nas_when_ph_ecog_na = missing_df[missing_df['ph_ecog'].isna()].isna().sum().sum() \\\n",
    "                                                    - num_ph_ecog_na\n",
    "perc_nas_when_ph_ecog_na = (num_nas_when_ph_ecog_na / df.shape[0]) * 100\n",
    "\n",
    "# Number of na's per ph_ecog category\n",
    "num_nas_ph_ecog_0 = missing_df[missing_df['ph_ecog'] == 0].isna().sum().sum()\n",
    "num_nas_ph_ecog_1 = missing_df[missing_df['ph_ecog'] == 1].isna().sum().sum()\n",
    "num_nas_ph_ecog_2 = missing_df[missing_df['ph_ecog'] == 2].isna().sum().sum()\n",
    "num_nas_ph_ecog_3 = missing_df[missing_df['ph_ecog'] == 3].isna().sum().sum()\n",
    "num_nas_ph_ecog_4 = missing_df[missing_df['ph_ecog'] == 4].isna().sum().sum()\n",
    "num_nas_ph_ecog_5 = missing_df[missing_df['ph_ecog'] == 5].isna().sum().sum()\n",
    "\n",
    "#TODO: Calculate number of observations with missing values per ph_ecog using .shape[0]\n",
    "\n",
    "# Percent of total na's per ph_ecog category\n",
    "perc_nas_ph_ecog_0 = (num_nas_ph_ecog_0 / total_na) * 100\n",
    "perc_nas_ph_ecog_1 = (num_nas_ph_ecog_1 / total_na) * 100\n",
    "perc_nas_ph_ecog_2 = (num_nas_ph_ecog_2 / total_na) * 100\n",
    "perc_nas_ph_ecog_3 = (num_nas_ph_ecog_3 / total_na) * 100\n",
    "perc_nas_ph_ecog_4 = (num_nas_ph_ecog_4 / total_na) * 100\n",
    "perc_nas_ph_ecog_5 = (num_nas_ph_ecog_5 / total_na) * 100\n",
    "\n",
    "# Print num's and percentages na's\n",
    "tab = ' '\n",
    "print(f'Missing Data by ph_ecog Variable:\\n'\n",
    "      f'{tab*2}- {num_ph_ecog_na:,}, or {perc_ph_ecog_na:,.1f} percent of '\n",
    "      f'ph_ecog data are missing\\n'\n",
    "      f'{tab*2}- {num_nas_when_ph_ecog_na:,}, or{perc_nas_when_ph_ecog_na: ,.1f} percent of '\n",
    "      f'all missing data occur when values for ph_ecog are missing\\n'\n",
    "      f'{tab*2}- {num_nas_ph_ecog_0}, or{perc_nas_ph_ecog_0: .1f} percent of the null values '\n",
    "      f'occur when the ph_ecog is 0\\n'\n",
    "      f'{tab*2}- {num_nas_ph_ecog_1}, or{perc_nas_ph_ecog_1: .1f} percent of the null values '\n",
    "      f'occur when the ph_ecog is 1\\n'\n",
    "      f'{tab*2}- {num_nas_ph_ecog_2}, or{perc_nas_ph_ecog_2: .1f} percent of the null values '\n",
    "      f'occur when the ph_ecog is 2\\n'\n",
    "      f'{tab*2}- {num_nas_ph_ecog_3}, or{perc_nas_ph_ecog_3: .1f} percent of the null values '\n",
    "      f'occur when the ph_ecog is 3\\n'\n",
    "      f'{tab*2}- {num_nas_ph_ecog_4}, or{perc_nas_ph_ecog_4: .1f} percent of the null values '\n",
    "      f'occur when the ph_ecog is 4\\n'\n",
    "      f'{tab*2}- {num_nas_ph_ecog_5}, or{perc_nas_ph_ecog_5: .1f} percent of the null values '\n",
    "      f'occur when the ph_ecog is 5\\n')"
   ]
  },
  {
   "cell_type": "markdown",
   "metadata": {},
   "source": [
    "Missing Data by Physician Karnofsky Performance Score"
   ]
  },
  {
   "cell_type": "code",
   "execution_count": 35,
   "metadata": {},
   "outputs": [
    {
     "name": "stdout",
     "output_type": "stream",
     "text": [
      "Missing Data by Physician Karnofsky Score\n",
      "\n",
      "Descriptive Statistics of ph_karno Variable for Observations Missing Data:\n",
      "        ph_karno\n",
      "count         60\n",
      "unique         6\n",
      "top           90\n",
      "freq          24\n",
      "\n",
      "Missing Data by ph_karno Variable:\n",
      "  - 1, or 0.4 percent of ph_karno data are missing\n",
      "  - 4, or 1.8 percent of all missing data occur when values for ph_karno are missing\n",
      "  - 5, or 7.5 percent of the null values occur when the ph_karno is 50\n",
      "  - 5, or 7.5 percent of the null values occur when the ph_karno is 60\n",
      "  - 16, or 23.9 percent of the null values occur when the ph_karno is 70\n",
      "  - 44, or 65.7 percent of the null values occur when the ph_karno is 80\n",
      "  - 47, or 70.1 percent of the null values occur when the ph_karno is 90\n",
      "  - 6, or 9.0 percent of the null values occur when the ph_karno is 100\n",
      "\n"
     ]
    }
   ],
   "source": [
    "# Missing data by ph_karno\n",
    "#-------------------------------------------------------------------------------\n",
    "\n",
    "# Print variable by which missing data is grouped\n",
    "print(f'Missing Data by Physician Karnofsky Score\\n')\n",
    "\n",
    "# Descriptive stats of ph_ecog data from observations with missing data\n",
    "ph_karno_desc_stat = missing_df[['ph_karno']].describe()\n",
    "print(f'Descriptive Statistics of ph_karno Variable for Observations Missing Data:\\n'\n",
    "      f'{ph_karno_desc_stat}\\n')\n",
    "\n",
    "# Number and percent of missing ph_karno data\n",
    "num_ph_karno_na = missing_df['ph_karno'].isna().sum()\n",
    "perc_ph_karno_na = (num_ph_karno_na / df.shape[0]) * 100\n",
    "# Number of na's that exist when ph_karno is missing\n",
    "num_nas_when_ph_karno_na = missing_df[missing_df['ph_karno'].isna()].isna().sum().sum() \\\n",
    "                                                        - num_ph_karno_na\n",
    "perc_nas_when_ph_karno_na = (num_nas_when_ph_karno_na / df.shape[0]) * 100\n",
    "\n",
    "# Number of na's per ph_ecog category\n",
    "num_nas_ph_karno_5 = missing_df[missing_df['ph_karno'] == 50].isna().sum().sum()\n",
    "num_nas_ph_karno_6 = missing_df[missing_df['ph_karno'] == 60].isna().sum().sum()\n",
    "num_nas_ph_karno_7 = missing_df[missing_df['ph_karno'] == 70].isna().sum().sum()\n",
    "num_nas_ph_karno_8 = missing_df[missing_df['ph_karno'] == 80].isna().sum().sum()\n",
    "num_nas_ph_karno_9 = missing_df[missing_df['ph_karno'] == 90].isna().sum().sum()\n",
    "num_nas_ph_karno_10 = missing_df[missing_df['ph_karno'] == 100].isna().sum().sum()\n",
    "\n",
    "#TODO: Calculate number of observations with missing values per ph_karno using .shape[0]\n",
    "\n",
    "# Percent of total na's per ph_karno category\n",
    "perc_nas_ph_karno_5 = (num_nas_ph_karno_5 / total_na) * 100\n",
    "perc_nas_ph_karno_6 = (num_nas_ph_karno_6 / total_na) * 100\n",
    "perc_nas_ph_karno_7 = (num_nas_ph_karno_7 / total_na) * 100\n",
    "perc_nas_ph_karno_8 = (num_nas_ph_karno_8 / total_na) * 100\n",
    "perc_nas_ph_karno_9 = (num_nas_ph_karno_9 / total_na) * 100\n",
    "perc_nas_ph_karno_10 = (num_nas_ph_karno_10 / total_na) * 100\n",
    "\n",
    "# Print num's and percentages na's\n",
    "tab = ' '\n",
    "print(f'Missing Data by ph_karno Variable:\\n'\n",
    "      f'{tab*2}- {num_ph_karno_na:,}, or {perc_ph_karno_na:,.1f} percent of '\n",
    "      f'ph_karno data are missing\\n'\n",
    "      f'{tab*2}- {num_nas_when_ph_karno_na:,}, or{perc_nas_when_ph_karno_na: ,.1f} percent '\n",
    "      f'of all missing data occur when values for ph_karno are missing\\n'\n",
    "      f'{tab*2}- {num_nas_ph_karno_5}, or{perc_nas_ph_karno_5: .1f} percent of the null values '\n",
    "      f'occur when the ph_karno is 50\\n'\n",
    "      f'{tab*2}- {num_nas_ph_karno_6}, or{perc_nas_ph_karno_6: .1f} percent of the null values '\n",
    "      f'occur when the ph_karno is 60\\n'\n",
    "      f'{tab*2}- {num_nas_ph_karno_7}, or{perc_nas_ph_karno_7: .1f} percent of the null values '\n",
    "      f'occur when the ph_karno is 70\\n'\n",
    "      f'{tab*2}- {num_nas_ph_karno_8}, or{perc_nas_ph_karno_8: .1f} percent of the null values '\n",
    "      f'occur when the ph_karno is 80\\n'\n",
    "      f'{tab*2}- {num_nas_ph_karno_9}, or{perc_nas_ph_karno_9: .1f} percent of the null values '\n",
    "      f'occur when the ph_karno is 90\\n'\n",
    "      f'{tab*2}- {num_nas_ph_karno_10}, or{perc_nas_ph_karno_10: .1f} percent of the null '\n",
    "      f'values occur when the ph_karno is 100\\n')"
   ]
  },
  {
   "cell_type": "code",
   "execution_count": 26,
   "metadata": {},
   "outputs": [
    {
     "name": "stdout",
     "output_type": "stream",
     "text": [
      "Missing Data by Patient Karnofsky Score\n",
      "\n",
      "Descriptive Statistics of pat_karno Variable for Observations Missing Data:\n",
      "        pat_karno\n",
      "count          58\n",
      "unique          6\n",
      "top            90\n",
      "freq           16\n",
      "\n",
      "Missing Data by pat_karno Variable:\n",
      "  - 3, or 1.3 percent of pat_karno data are missing\n",
      "  - 1, or 0.4 percent of all missing data occur when values for pat_karno are missing\n",
      "  - 1, or 1.5 percent of the null values occur when the pat_karno is 50\n",
      "  - 8, or 11.9 percent of the null values occur when the pat_karno is 60\n",
      "  - 15, or 22.4 percent of the null values occur when the pat_karno is 70\n",
      "  - 14, or 20.9 percent of the null values occur when the pat_karno is 80\n",
      "  - 16, or 23.9 percent of the null values occur when the pat_karno is 50\n",
      "  - 9, or 13.4 percent of the null values occur when the pat_karno is 100\n",
      "\n"
     ]
    }
   ],
   "source": [
    "# Missing data by pat_karno\n",
    "#-------------------------------------------------------------------------------\n",
    "\n",
    "# Print variable by which missing data is grouped\n",
    "print(f'Missing Data by Patient Karnofsky Score\\n')\n",
    "\n",
    "# Descriptive stats of ph_ecog data from observations with missing data\n",
    "pat_karno_desc_stat = missing_df[['pat_karno']].describe()\n",
    "print(f'Descriptive Statistics of pat_karno Variable for Observations Missing Data:\\n'\n",
    "      f'{pat_karno_desc_stat}\\n')\n",
    "\n",
    "# Number and percent of missing ph_karno data\n",
    "num_pat_karno_na = missing_df['pat_karno'].isna().sum()\n",
    "perc_pat_karno_na = (num_pat_karno_na / df.shape[0]) * 100\n",
    "# Number of na's that exist when pat_karno is missing\n",
    "num_nas_when_pat_karno_na = missing_df[missing_df['pat_karno'].isna()].isna().sum().sum() \\\n",
    "                                                        - num_pat_karno_na\n",
    "perc_nas_when_pat_karno_na = (num_nas_when_pat_karno_na / df.shape[0]) * 100\n",
    "\n",
    "# Number of na's per ph_ecog category\n",
    "num_nas_pat_karno_5 = missing_df[missing_df['pat_karno'] == 50].isna().sum().sum()\n",
    "num_nas_pat_karno_6 = missing_df[missing_df['pat_karno'] == 60].isna().sum().sum()\n",
    "num_nas_pat_karno_7 = missing_df[missing_df['pat_karno'] == 70].isna().sum().sum()\n",
    "num_nas_pat_karno_8 = missing_df[missing_df['pat_karno'] == 80].isna().sum().sum()\n",
    "num_nas_pat_karno_9 = missing_df[missing_df['pat_karno'] == 90].isna().sum().sum()\n",
    "num_nas_pat_karno_10 = missing_df[missing_df['pat_karno'] == 100].isna().sum().sum()\n",
    "\n",
    "#TODO: Calculate number of observations with missing values per pat_karno using .shape[0]\n",
    "\n",
    "# Percent of total na's per ph_karno category\n",
    "perc_nas_pat_karno_5 = (num_nas_pat_karno_5 / total_na) * 100\n",
    "perc_nas_pat_karno_6 = (num_nas_pat_karno_6 / total_na) * 100\n",
    "perc_nas_pat_karno_7 = (num_nas_pat_karno_7 / total_na) * 100\n",
    "perc_nas_pat_karno_8 = (num_nas_pat_karno_8 / total_na) * 100\n",
    "perc_nas_pat_karno_9 = (num_nas_pat_karno_9 / total_na) * 100\n",
    "perc_nas_pat_karno_10 = (num_nas_pat_karno_10 / total_na) * 100\n",
    "\n",
    "# Print num's and percentages na's\n",
    "tab = ' '\n",
    "print(f'Missing Data by pat_karno Variable:\\n'\n",
    "      f'{tab*2}- {num_pat_karno_na:,}, or {perc_pat_karno_na:,.1f} percent of '\n",
    "      f'pat_karno data are missing\\n'\n",
    "      f'{tab*2}- {num_nas_when_pat_karno_na:,}, or{perc_nas_when_pat_karno_na: ,.1f} percent '\n",
    "      f'of all missing data occur when values for pat_karno are missing\\n'\n",
    "      f'{tab*2}- {num_nas_pat_karno_5}, or{perc_nas_pat_karno_5: .1f} percent of the null values '\n",
    "      f'occur when the pat_karno is 50\\n'\n",
    "      f'{tab*2}- {num_nas_pat_karno_6}, or{perc_nas_pat_karno_6: .1f} percent of the null values '\n",
    "      f'occur when the pat_karno is 60\\n'\n",
    "      f'{tab*2}- {num_nas_pat_karno_7}, or{perc_nas_pat_karno_7: .1f} percent of the null values '\n",
    "      f'occur when the pat_karno is 70\\n'\n",
    "      f'{tab*2}- {num_nas_pat_karno_8}, or{perc_nas_pat_karno_8: .1f} percent of the null values '\n",
    "      f'occur when the pat_karno is 80\\n'\n",
    "      f'{tab*2}- {num_nas_pat_karno_9}, or{perc_nas_pat_karno_9: .1f} percent of the null values  '\n",
    "      f'occur whenthe pat_karno is 50\\n'\n",
    "      f'{tab*2}- {num_nas_pat_karno_10}, or{perc_nas_pat_karno_10: .1f} percent of the null '\n",
    "      f'values occur when the pat_karno is 100\\n')"
   ]
  },
  {
   "cell_type": "markdown",
   "metadata": {},
   "source": [
    "Missing Data by Meal Calories"
   ]
  },
  {
   "cell_type": "code",
   "execution_count": 34,
   "metadata": {},
   "outputs": [
    {
     "name": "stdout",
     "output_type": "stream",
     "text": [
      "Missing Data by Meal Calories\n",
      "\n",
      "Descriptive Statistics of meal_cal Variable for Observations Missing Data:\n",
      "          meal_cal\n",
      "count    14.000000\n",
      "mean    924.642857\n",
      "std     237.307203\n",
      "min     513.000000\n",
      "25%     726.500000\n",
      "50%    1025.000000\n",
      "75%    1075.000000\n",
      "max    1225.000000\n",
      "\n",
      "Descriptive Stats of meal_cal Bins:\n",
      "count     14\n",
      "unique     4\n",
      "top        4\n",
      "freq       5\n",
      "Name: meal_cal_bin, dtype: object\n",
      "\n",
      "Missing Data by meal_cal:\n",
      "  - 47, or 20.6 percent of meal_cal data are missing\n",
      "  - 57, or 25.0 percent of all missing data occur when values for meal_cal data are missing\n",
      "  - 3, or 4.5 percent of the null values occur when the patient meal_cal is in bin 1\n",
      "  - 4, or 6.0 percent of the null values occur when the patient meal_cal is in bin 2\n",
      "  - 8, or 11.9 percent of the null values occur when the patient meal_cal is in bin 3\n",
      "  - 9, or 13.4 percent of the null values occur when the patient meal_cal is in bin 4\n"
     ]
    }
   ],
   "source": [
    "# Missing data by meal calories\n",
    "#-------------------------------------------------------------------------------\n",
    "\n",
    "# Print variable by which missing data is grouped\n",
    "print(f'Missing Data by Meal Calories\\n')\n",
    "\n",
    "# Descriptive stats of meal_cal data from observations with missing data\n",
    "meal_cal_desc_stat = missing_df[['meal_cal']].describe()\n",
    "print(f'Descriptive Statistics of meal_cal Variable for Observations Missing Data:\\n'\n",
    "      f'{meal_cal_desc_stat}\\n')\n",
    "\n",
    "# Bin age data\n",
    "missing_df['meal_cal_bin'] = pd.cut(missing_df['meal_cal'], 4, labels=['1', '2', '3', '4'],\n",
    "                                 include_lowest=True)\n",
    "\n",
    "meal_cal_bins_stats = missing_df['meal_cal_bin'].describe()\n",
    "print(f'Descriptive Stats of meal_cal Bins:\\n'\n",
    "      f'{meal_cal_bins_stats}\\n')\n",
    "\n",
    "# Number and percent of missing age data\n",
    "num_meal_cal_na = missing_df['meal_cal'].isna().sum()\n",
    "perc_meal_cal_na = (num_meal_cal_na / df.shape[0]) * 100\n",
    "# Cannot use .shape[0] below because it will count na's in meal_cal, too\n",
    "num_nas_when_meal_cal_na = missing_df[missing_df['meal_cal'].isna()].isna().sum().sum() \\\n",
    "                                                        - num_meal_cal_na\n",
    "perc_nas_when_meal_cal_na = (num_nas_when_meal_cal_na / df.shape[0]) * 100\n",
    "\n",
    "# Number of na's per age bin\n",
    "num_nas_meal_cal_1 = missing_df[missing_df['meal_cal_bin'] == '1'].isna().sum().sum()\n",
    "num_nas_meal_cal_2 = missing_df[missing_df['meal_cal_bin'] == '2'].isna().sum().sum()\n",
    "num_nas_meal_cal_3 = missing_df[missing_df['meal_cal_bin'] == '3'].isna().sum().sum()\n",
    "num_nas_meal_cal_4 = missing_df[missing_df['meal_cal_bin'] == '4'].isna().sum().sum()\n",
    "\n",
    "# Percent of total na's per age bin\n",
    "perc_nas_meal_cal_1 = (num_nas_meal_cal_1 / total_na) * 100\n",
    "perc_nas_meal_cal_2 = (num_nas_meal_cal_2 / total_na) * 100\n",
    "perc_nas_meal_cal_3 = (num_nas_meal_cal_3 / total_na) * 100\n",
    "perc_nas_meal_cal_4 = (num_nas_meal_cal_4 / total_na) * 100\n",
    "\n",
    "# Print num's and percentages\n",
    "tab = ' '\n",
    "print(f'Missing Data by meal_cal:\\n'\n",
    "      f'{tab*2}- {num_meal_cal_na:,}, or {perc_meal_cal_na:,.1f} percent of '\n",
    "      f'meal_cal data are missing\\n'\n",
    "      f'{tab*2}- {num_nas_when_meal_cal_na:,}, or{perc_nas_when_meal_cal_na: ,.1f} percent of '\n",
    "      f'all missing data occur when values for meal_cal data are missing\\n'\n",
    "      f'{tab*2}- {num_nas_meal_cal_1}, or{perc_nas_meal_cal_1: .1f} percent of the null values '\n",
    "      f'occur when the patient meal_cal is in bin 1\\n'\n",
    "      f'{tab*2}- {num_nas_meal_cal_2}, or{perc_nas_meal_cal_2: .1f} percent of the null values '\n",
    "      f'occur when the patient meal_cal is in bin 2\\n'\n",
    "      f'{tab*2}- {num_nas_meal_cal_3}, or{perc_nas_meal_cal_3: .1f} percent of the null values '\n",
    "      f'occur when the patient meal_cal is in bin 3\\n'\n",
    "      f'{tab*2}- {num_nas_meal_cal_4}, or{perc_nas_meal_cal_4: .1f} percent of the null values '\n",
    "      f'occur when the patient meal_cal is in bin 4')\n",
    "#TODO: Add the meal_cal ranges for each bin above\n",
    "#NOTE: Should bin size equal 1 standard deviation?"
   ]
  },
  {
   "cell_type": "markdown",
   "metadata": {},
   "source": [
    "Missing Data by Weight Loss"
   ]
  },
  {
   "cell_type": "code",
   "execution_count": 40,
   "metadata": {},
   "outputs": [
    {
     "name": "stdout",
     "output_type": "stream",
     "text": [
      "Missing Data by Weight Loss\n",
      "\n",
      "Descriptive Statistics of wt_loss Variable for Observations Missing Data:\n",
      "         wt_loss\n",
      "count  47.000000\n",
      "mean   10.234043\n",
      "std    12.383742\n",
      "min   -11.000000\n",
      "25%     0.000000\n",
      "50%     7.000000\n",
      "75%    17.000000\n",
      "max    49.000000\n",
      "\n",
      "Descriptive Stats of wt_loss Bins:\n",
      "count     47\n",
      "unique     4\n",
      "top        1\n",
      "freq      22\n",
      "Name: wt_loss_bin, dtype: object\n",
      "\n",
      "Missing Data by wt_loss:\n",
      "  - 14, or 6.1 percent of wt_loss data are missing\n",
      "  - 23, or 10.1 percent of all missing data occur when values for wt_loss data are missing\n",
      "  - 43, or 64.2 percent of the null values occur when the patient wt_loss is in bin 1\n",
      "  - 27, or 40.3 percent of the null values occur when the patient wt_loss is in bin 2\n",
      "  - 19, or 28.4 percent of the null values occur when the patient wt_loss is in bin 3\n",
      "  - 2, or 3.0 percent of the null values occur when the patient wt_loss is in bin 4\n"
     ]
    }
   ],
   "source": [
    "# Missing data by weight loss\n",
    "#-------------------------------------------------------------------------------\n",
    "\n",
    "# Print variable by which missing data is grouped\n",
    "print(f'Missing Data by Weight Loss\\n')\n",
    "\n",
    "# Descriptive stats of wt_loss data from observations with missing data\n",
    "wt_loss_desc_stat = missing_df[['wt_loss']].describe()\n",
    "print(f'Descriptive Statistics of wt_loss Variable for Observations Missing Data:\\n'\n",
    "      f'{wt_loss_desc_stat}\\n')\n",
    "\n",
    "# Bin age data\n",
    "missing_df['wt_loss_bin'] = pd.cut(missing_df['wt_loss'], 4, labels=['1', '2', '3', '4'],\n",
    "                                 include_lowest=True)\n",
    "\n",
    "wt_loss_bins_stats = missing_df['wt_loss_bin'].describe()\n",
    "print(f'Descriptive Stats of wt_loss Bins:\\n'\n",
    "      f'{wt_loss_bins_stats}\\n')\n",
    "\n",
    "# Number and percent of missing age data\n",
    "num_wt_loss_na = missing_df['wt_loss'].isna().sum()\n",
    "perc_wt_loss_na = (num_wt_loss_na / df.shape[0]) * 100\n",
    "# Cannot use .shape[0] below because it will count na's in meal_cal, too\n",
    "num_nas_when_wt_loss_na = missing_df[missing_df['wt_loss'].isna()].isna().sum().sum() \\\n",
    "                                                     - num_wt_loss_na\n",
    "perc_nas_when_wt_loss_na = (num_nas_when_wt_loss_na / df.shape[0]) * 100\n",
    "\n",
    "# Number of na's per age bin\n",
    "num_nas_wt_loss_1 = missing_df[missing_df['wt_loss_bin'] == '1'].isna().sum().sum()\n",
    "num_nas_wt_loss_2 = missing_df[missing_df['wt_loss_bin'] == '2'].isna().sum().sum()\n",
    "num_nas_wt_loss_3 = missing_df[missing_df['wt_loss_bin'] == '3'].isna().sum().sum()\n",
    "num_nas_wt_loss_4 = missing_df[missing_df['wt_loss_bin'] == '4'].isna().sum().sum()\n",
    "\n",
    "# Percent of total na's per age bin\n",
    "perc_nas_wt_loss_1 = (num_nas_wt_loss_1 / total_na) * 100\n",
    "perc_nas_wt_loss_2 = (num_nas_wt_loss_2 / total_na) * 100\n",
    "perc_nas_wt_loss_3 = (num_nas_wt_loss_3 / total_na) * 100\n",
    "perc_nas_wt_loss_4 = (num_nas_wt_loss_4 / total_na) * 100\n",
    "\n",
    "# Print num's and percentages\n",
    "tab = ' '\n",
    "print(f'Missing Data by wt_loss:\\n'\n",
    "      f'{tab*2}- {num_wt_loss_na:,}, or {perc_wt_loss_na:,.1f} percent of '\n",
    "      f'wt_loss data are missing\\n'\n",
    "      f'{tab*2}- {num_nas_when_wt_loss_na:,}, or{perc_nas_when_wt_loss_na: ,.1f} percent of all '\n",
    "      f'missing data occur when values for wt_loss data are missing\\n'\n",
    "      f'{tab*2}- {num_nas_wt_loss_1}, or{perc_nas_wt_loss_1: .1f} percent of the null values '\n",
    "      f'occur when the patient wt_loss is in bin 1\\n'\n",
    "      f'{tab*2}- {num_nas_wt_loss_2}, or{perc_nas_wt_loss_2: .1f} percent of the null values '\n",
    "      f'occur when the patient wt_loss is in bin 2\\n'\n",
    "      f'{tab*2}- {num_nas_wt_loss_3}, or{perc_nas_wt_loss_3: .1f} percent of the null values '\n",
    "      f'occur when the patient wt_loss is in bin 3\\n'\n",
    "      f'{tab*2}- {num_nas_wt_loss_4}, or{perc_nas_wt_loss_4: .1f} percent of the null values '\n",
    "      f'occur when the patient wt_loss is in bin 4')\n",
    "#TODO: Add the meal_cal ranges for each bin above\n",
    "#NOTE: Should bin size equal 1 standard deviation?"
   ]
  },
  {
   "cell_type": "markdown",
   "metadata": {},
   "source": [
    "## III. Impute Data"
   ]
  },
  {
   "cell_type": "markdown",
   "metadata": {},
   "source": [
    "How we handle missing data depends on the type of missingness:\n",
    "- MCAR: Delete rows or columns\n",
    "- MAR: Impute data\n",
    "- MNAR: Improve data\n",
    "\n",
    "There are several different approaches to imputing missing\n",
    "values:\n",
    "1. Plug in the mean (quantitative) or most common class\n",
    "(categorical) for all missing values in a variable.\n",
    "2. Create a new variable that is an indicator of missingness,\n",
    "and include it in any model to predict the response (also\n",
    "plug in zero or the mean in the actual variable).\n",
    "3. Hot deck imputation: for each missing entry, randomly\n",
    "select an observed entry in the variable and plug it in.\n",
    "4. Model the imputation: plug in predicted values (yˆ) from\n",
    "a model based on the other observed predictors.\n",
    "5. Model the imputation with uncertainty: plug in predicted\n",
    "values plus randomness (yˆ + ε) from a model based on\n",
    "the other observed predictors.\n",
    "\n",
    "Reference: [Pandas Categorical Data Documentation](https://pandas.pydata.org/pandas-docs/stable/user_guide/categorical.html)"
   ]
  },
  {
   "cell_type": "code",
   "execution_count": 22,
   "metadata": {},
   "outputs": [],
   "source": [
    "# TODO: Figure out the order of imputation using statistical models: k-NN doesn't like NaN values, so I should fill certain variables first"
   ]
  },
  {
   "cell_type": "code",
   "execution_count": 33,
   "metadata": {},
   "outputs": [
    {
     "data": {
      "text/html": [
       "<div>\n",
       "<style scoped>\n",
       "    .dataframe tbody tr th:only-of-type {\n",
       "        vertical-align: middle;\n",
       "    }\n",
       "\n",
       "    .dataframe tbody tr th {\n",
       "        vertical-align: top;\n",
       "    }\n",
       "\n",
       "    .dataframe thead th {\n",
       "        text-align: right;\n",
       "    }\n",
       "</style>\n",
       "<table border=\"1\" class=\"dataframe\">\n",
       "  <thead>\n",
       "    <tr style=\"text-align: right;\">\n",
       "      <th></th>\n",
       "      <th>inst</th>\n",
       "      <th>time</th>\n",
       "      <th>status</th>\n",
       "      <th>age</th>\n",
       "      <th>sex</th>\n",
       "      <th>ph_ecog</th>\n",
       "      <th>ph_karno</th>\n",
       "      <th>pat_karno</th>\n",
       "      <th>meal_cal</th>\n",
       "      <th>wt_loss</th>\n",
       "    </tr>\n",
       "  </thead>\n",
       "  <tbody>\n",
       "    <tr>\n",
       "      <th>1</th>\n",
       "      <td>3</td>\n",
       "      <td>306</td>\n",
       "      <td>2</td>\n",
       "      <td>74</td>\n",
       "      <td>1</td>\n",
       "      <td>1</td>\n",
       "      <td>90</td>\n",
       "      <td>100</td>\n",
       "      <td>1175.0</td>\n",
       "      <td>NaN</td>\n",
       "    </tr>\n",
       "  </tbody>\n",
       "</table>\n",
       "</div>"
      ],
      "text/plain": [
       "  inst  time status  age sex ph_ecog ph_karno pat_karno  meal_cal  wt_loss\n",
       "1    3   306      2   74   1       1       90       100    1175.0      NaN"
      ]
     },
     "execution_count": 33,
     "metadata": {},
     "output_type": "execute_result"
    }
   ],
   "source": [
    "# Create df of missing data imputed using kNN and Linear Regression\n",
    "df_imputed = df.copy()\n",
    "df_imputed.head(1)"
   ]
  },
  {
   "cell_type": "markdown",
   "metadata": {},
   "source": [
    "Impute Missing Numerical Data Using Linear Regression\n",
    "\n",
    "Better values than means, medians, and modes can be calculated if we know there is a correlation between the variable for which there are missing values and other variables."
   ]
  },
  {
   "cell_type": "code",
   "execution_count": 35,
   "metadata": {},
   "outputs": [
    {
     "data": {
      "image/png": "[encoded data removed]",
      "text/plain": [
       "<Figure size 576x432 with 2 Axes>"
      ]
     },
     "metadata": {
      "needs_background": "light"
     },
     "output_type": "display_data"
    }
   ],
   "source": [
    "corr = df_imputed.corr()\n",
    "_ , ax = plt.subplots(figsize =(8, 6))\n",
    "cmap = sns.diverging_palette(220, 10, as_cmap=True)\n",
    "_ = sns.heatmap(corr, cmap=cmap, square=True, cbar_kws={'shrink' : .9}, ax=ax, annot=True, annot_kws={'fontsize' : 12})"
   ]
  },
  {
   "cell_type": "markdown",
   "metadata": {},
   "source": [
    "Recall the probabilistic model in linear regression:\n",
    "\n",
    "Y = β0 + β1X1 + ... + βpXp + ε\n",
    "\n",
    "where ε ∼ N(0, σ2). \n",
    "\n",
    "How can we take advantage of this model to impute with uncertainty?\n",
    "\n",
    "It’s a 3 step process:\n",
    "1. Fit a model to predict the predictor variable with\n",
    "missingness from all the other predictors.\n",
    "2. Predict the missing values from the model in the\n",
    "previous part.\n",
    "3. Add in a measure of uncertainty to this prediction by\n",
    "randomly sampling from a N(0, σˆ2) distribution,\n",
    "where σˆ2 is the mean square error (MSE) from the model."
   ]
  },
  {
   "cell_type": "code",
   "execution_count": 113,
   "metadata": {},
   "outputs": [],
   "source": [
    "from sklearn.preprocessing import OneHotEncoder, StandardScaler\n",
    "\n",
    "categorical_preprocessor = OneHotEncoder(handle_unknown=\"ignore\")\n",
    "numerical_preprocessor = StandardScaler()"
   ]
  },
  {
   "cell_type": "code",
   "execution_count": 115,
   "metadata": {},
   "outputs": [],
   "source": [
    "from sklearn.compose import ColumnTransformer\n",
    "\n",
    "categorical_columns = ['inst', 'status', 'sex', 'ph_ecog', 'ph_karno', 'pat_karno']\n",
    "numerical_columns = ['time', 'age', 'meal_cal', 'wt_loss']\n",
    "\n",
    "preprocessor = ColumnTransformer([\n",
    "    ('one-hot-encoder', categorical_preprocessor, categorical_columns),\n",
    "    ('standard_scaler', numerical_preprocessor, numerical_columns)])"
   ]
  },
  {
   "cell_type": "code",
   "execution_count": 139,
   "metadata": {},
   "outputs": [],
   "source": [
    "y = df_imputed['meal_cal']\n",
    "# X = df_imputed.drop(['meal_cal'], axis=1)\n",
    "X = df_imputed"
   ]
  },
  {
   "cell_type": "code",
   "execution_count": 140,
   "metadata": {},
   "outputs": [],
   "source": [
    "from sklearn.linear_model import LinearRegression\n",
    "from sklearn.pipeline import make_pipeline\n",
    "model = make_pipeline(preprocessor, LinearRegression(fit_intercept=True))"
   ]
  },
  {
   "cell_type": "code",
   "execution_count": 141,
   "metadata": {},
   "outputs": [],
   "source": [
    "from sklearn.model_selection import train_test_split\n",
    "X_train, X_test, y_train, y_test = train_test_split(\n",
    "    X, y, random_state=42)"
   ]
  },
  {
   "cell_type": "code",
   "execution_count": 142,
   "metadata": {},
   "outputs": [
    {
     "ename": "ValueError",
     "evalue": "Input contains NaN, infinity or a value too large for dtype('float64').",
     "output_type": "error",
     "traceback": [
      "\u001b[0;31m---------------------------------------------------------------------------\u001b[0m",
      "\u001b[0;31mValueError\u001b[0m                                Traceback (most recent call last)",
      "\u001b[0;32m/tmp/ipykernel_1952388/180087699.py\u001b[0m in \u001b[0;36m<module>\u001b[0;34m\u001b[0m\n\u001b[0;32m----> 1\u001b[0;31m \u001b[0mmodel\u001b[0m\u001b[0;34m.\u001b[0m\u001b[0mfit\u001b[0m\u001b[0;34m(\u001b[0m\u001b[0mX_train\u001b[0m\u001b[0;34m,\u001b[0m \u001b[0my_train\u001b[0m\u001b[0;34m)\u001b[0m\u001b[0;34m\u001b[0m\u001b[0;34m\u001b[0m\u001b[0m\n\u001b[0m",
      "\u001b[0;32m~/Dev/DS_Projects/survival_analysis/survival-wrkspc/lib/python3.8/site-packages/sklearn/pipeline.py\u001b[0m in \u001b[0;36mfit\u001b[0;34m(self, X, y, **fit_params)\u001b[0m\n\u001b[1;32m    392\u001b[0m             \u001b[0;32mif\u001b[0m \u001b[0mself\u001b[0m\u001b[0;34m.\u001b[0m\u001b[0m_final_estimator\u001b[0m \u001b[0;34m!=\u001b[0m \u001b[0;34m\"passthrough\"\u001b[0m\u001b[0;34m:\u001b[0m\u001b[0;34m\u001b[0m\u001b[0;34m\u001b[0m\u001b[0m\n\u001b[1;32m    393\u001b[0m                 \u001b[0mfit_params_last_step\u001b[0m \u001b[0;34m=\u001b[0m \u001b[0mfit_params_steps\u001b[0m\u001b[0;34m[\u001b[0m\u001b[0mself\u001b[0m\u001b[0;34m.\u001b[0m\u001b[0msteps\u001b[0m\u001b[0;34m[\u001b[0m\u001b[0;34m-\u001b[0m\u001b[0;36m1\u001b[0m\u001b[0;34m]\u001b[0m\u001b[0;34m[\u001b[0m\u001b[0;36m0\u001b[0m\u001b[0;34m]\u001b[0m\u001b[0;34m]\u001b[0m\u001b[0;34m\u001b[0m\u001b[0;34m\u001b[0m\u001b[0m\n\u001b[0;32m--> 394\u001b[0;31m                 \u001b[0mself\u001b[0m\u001b[0;34m.\u001b[0m\u001b[0m_final_estimator\u001b[0m\u001b[0;34m.\u001b[0m\u001b[0mfit\u001b[0m\u001b[0;34m(\u001b[0m\u001b[0mXt\u001b[0m\u001b[0;34m,\u001b[0m \u001b[0my\u001b[0m\u001b[0;34m,\u001b[0m \u001b[0;34m**\u001b[0m\u001b[0mfit_params_last_step\u001b[0m\u001b[0;34m)\u001b[0m\u001b[0;34m\u001b[0m\u001b[0;34m\u001b[0m\u001b[0m\n\u001b[0m\u001b[1;32m    395\u001b[0m \u001b[0;34m\u001b[0m\u001b[0m\n\u001b[1;32m    396\u001b[0m         \u001b[0;32mreturn\u001b[0m \u001b[0mself\u001b[0m\u001b[0;34m\u001b[0m\u001b[0;34m\u001b[0m\u001b[0m\n",
      "\u001b[0;32m~/Dev/DS_Projects/survival_analysis/survival-wrkspc/lib/python3.8/site-packages/sklearn/linear_model/_base.py\u001b[0m in \u001b[0;36mfit\u001b[0;34m(self, X, y, sample_weight)\u001b[0m\n\u001b[1;32m    660\u001b[0m         \u001b[0maccept_sparse\u001b[0m \u001b[0;34m=\u001b[0m \u001b[0;32mFalse\u001b[0m \u001b[0;32mif\u001b[0m \u001b[0mself\u001b[0m\u001b[0;34m.\u001b[0m\u001b[0mpositive\u001b[0m \u001b[0;32melse\u001b[0m \u001b[0;34m[\u001b[0m\u001b[0;34m\"csr\"\u001b[0m\u001b[0;34m,\u001b[0m \u001b[0;34m\"csc\"\u001b[0m\u001b[0;34m,\u001b[0m \u001b[0;34m\"coo\"\u001b[0m\u001b[0;34m]\u001b[0m\u001b[0;34m\u001b[0m\u001b[0;34m\u001b[0m\u001b[0m\n\u001b[1;32m    661\u001b[0m \u001b[0;34m\u001b[0m\u001b[0m\n\u001b[0;32m--> 662\u001b[0;31m         X, y = self._validate_data(\n\u001b[0m\u001b[1;32m    663\u001b[0m             \u001b[0mX\u001b[0m\u001b[0;34m,\u001b[0m \u001b[0my\u001b[0m\u001b[0;34m,\u001b[0m \u001b[0maccept_sparse\u001b[0m\u001b[0;34m=\u001b[0m\u001b[0maccept_sparse\u001b[0m\u001b[0;34m,\u001b[0m \u001b[0my_numeric\u001b[0m\u001b[0;34m=\u001b[0m\u001b[0;32mTrue\u001b[0m\u001b[0;34m,\u001b[0m \u001b[0mmulti_output\u001b[0m\u001b[0;34m=\u001b[0m\u001b[0;32mTrue\u001b[0m\u001b[0;34m\u001b[0m\u001b[0;34m\u001b[0m\u001b[0m\n\u001b[1;32m    664\u001b[0m         )\n",
      "\u001b[0;32m~/Dev/DS_Projects/survival_analysis/survival-wrkspc/lib/python3.8/site-packages/sklearn/base.py\u001b[0m in \u001b[0;36m_validate_data\u001b[0;34m(self, X, y, reset, validate_separately, **check_params)\u001b[0m\n\u001b[1;32m    574\u001b[0m                 \u001b[0my\u001b[0m \u001b[0;34m=\u001b[0m \u001b[0mcheck_array\u001b[0m\u001b[0;34m(\u001b[0m\u001b[0my\u001b[0m\u001b[0;34m,\u001b[0m \u001b[0;34m**\u001b[0m\u001b[0mcheck_y_params\u001b[0m\u001b[0;34m)\u001b[0m\u001b[0;34m\u001b[0m\u001b[0;34m\u001b[0m\u001b[0m\n\u001b[1;32m    575\u001b[0m             \u001b[0;32melse\u001b[0m\u001b[0;34m:\u001b[0m\u001b[0;34m\u001b[0m\u001b[0;34m\u001b[0m\u001b[0m\n\u001b[0;32m--> 576\u001b[0;31m                 \u001b[0mX\u001b[0m\u001b[0;34m,\u001b[0m \u001b[0my\u001b[0m \u001b[0;34m=\u001b[0m \u001b[0mcheck_X_y\u001b[0m\u001b[0;34m(\u001b[0m\u001b[0mX\u001b[0m\u001b[0;34m,\u001b[0m \u001b[0my\u001b[0m\u001b[0;34m,\u001b[0m \u001b[0;34m**\u001b[0m\u001b[0mcheck_params\u001b[0m\u001b[0;34m)\u001b[0m\u001b[0;34m\u001b[0m\u001b[0;34m\u001b[0m\u001b[0m\n\u001b[0m\u001b[1;32m    577\u001b[0m             \u001b[0mout\u001b[0m \u001b[0;34m=\u001b[0m \u001b[0mX\u001b[0m\u001b[0;34m,\u001b[0m \u001b[0my\u001b[0m\u001b[0;34m\u001b[0m\u001b[0;34m\u001b[0m\u001b[0m\n\u001b[1;32m    578\u001b[0m \u001b[0;34m\u001b[0m\u001b[0m\n",
      "\u001b[0;32m~/Dev/DS_Projects/survival_analysis/survival-wrkspc/lib/python3.8/site-packages/sklearn/utils/validation.py\u001b[0m in \u001b[0;36mcheck_X_y\u001b[0;34m(X, y, accept_sparse, accept_large_sparse, dtype, order, copy, force_all_finite, ensure_2d, allow_nd, multi_output, ensure_min_samples, ensure_min_features, y_numeric, estimator)\u001b[0m\n\u001b[1;32m    954\u001b[0m         \u001b[0;32mraise\u001b[0m \u001b[0mValueError\u001b[0m\u001b[0;34m(\u001b[0m\u001b[0;34m\"y cannot be None\"\u001b[0m\u001b[0;34m)\u001b[0m\u001b[0;34m\u001b[0m\u001b[0;34m\u001b[0m\u001b[0m\n\u001b[1;32m    955\u001b[0m \u001b[0;34m\u001b[0m\u001b[0m\n\u001b[0;32m--> 956\u001b[0;31m     X = check_array(\n\u001b[0m\u001b[1;32m    957\u001b[0m         \u001b[0mX\u001b[0m\u001b[0;34m,\u001b[0m\u001b[0;34m\u001b[0m\u001b[0;34m\u001b[0m\u001b[0m\n\u001b[1;32m    958\u001b[0m         \u001b[0maccept_sparse\u001b[0m\u001b[0;34m=\u001b[0m\u001b[0maccept_sparse\u001b[0m\u001b[0;34m,\u001b[0m\u001b[0;34m\u001b[0m\u001b[0;34m\u001b[0m\u001b[0m\n",
      "\u001b[0;32m~/Dev/DS_Projects/survival_analysis/survival-wrkspc/lib/python3.8/site-packages/sklearn/utils/validation.py\u001b[0m in \u001b[0;36mcheck_array\u001b[0;34m(array, accept_sparse, accept_large_sparse, dtype, order, copy, force_all_finite, ensure_2d, allow_nd, ensure_min_samples, ensure_min_features, estimator)\u001b[0m\n\u001b[1;32m    710\u001b[0m     \u001b[0;32mif\u001b[0m \u001b[0msp\u001b[0m\u001b[0;34m.\u001b[0m\u001b[0missparse\u001b[0m\u001b[0;34m(\u001b[0m\u001b[0marray\u001b[0m\u001b[0;34m)\u001b[0m\u001b[0;34m:\u001b[0m\u001b[0;34m\u001b[0m\u001b[0;34m\u001b[0m\u001b[0m\n\u001b[1;32m    711\u001b[0m         \u001b[0m_ensure_no_complex_data\u001b[0m\u001b[0;34m(\u001b[0m\u001b[0marray\u001b[0m\u001b[0;34m)\u001b[0m\u001b[0;34m\u001b[0m\u001b[0;34m\u001b[0m\u001b[0m\n\u001b[0;32m--> 712\u001b[0;31m         array = _ensure_sparse_format(\n\u001b[0m\u001b[1;32m    713\u001b[0m             \u001b[0marray\u001b[0m\u001b[0;34m,\u001b[0m\u001b[0;34m\u001b[0m\u001b[0;34m\u001b[0m\u001b[0m\n\u001b[1;32m    714\u001b[0m             \u001b[0maccept_sparse\u001b[0m\u001b[0;34m=\u001b[0m\u001b[0maccept_sparse\u001b[0m\u001b[0;34m,\u001b[0m\u001b[0;34m\u001b[0m\u001b[0;34m\u001b[0m\u001b[0m\n",
      "\u001b[0;32m~/Dev/DS_Projects/survival_analysis/survival-wrkspc/lib/python3.8/site-packages/sklearn/utils/validation.py\u001b[0m in \u001b[0;36m_ensure_sparse_format\u001b[0;34m(spmatrix, accept_sparse, dtype, copy, force_all_finite, accept_large_sparse)\u001b[0m\n\u001b[1;32m    469\u001b[0m             )\n\u001b[1;32m    470\u001b[0m         \u001b[0;32melse\u001b[0m\u001b[0;34m:\u001b[0m\u001b[0;34m\u001b[0m\u001b[0;34m\u001b[0m\u001b[0m\n\u001b[0;32m--> 471\u001b[0;31m             \u001b[0m_assert_all_finite\u001b[0m\u001b[0;34m(\u001b[0m\u001b[0mspmatrix\u001b[0m\u001b[0;34m.\u001b[0m\u001b[0mdata\u001b[0m\u001b[0;34m,\u001b[0m \u001b[0mallow_nan\u001b[0m\u001b[0;34m=\u001b[0m\u001b[0mforce_all_finite\u001b[0m \u001b[0;34m==\u001b[0m \u001b[0;34m\"allow-nan\"\u001b[0m\u001b[0;34m)\u001b[0m\u001b[0;34m\u001b[0m\u001b[0;34m\u001b[0m\u001b[0m\n\u001b[0m\u001b[1;32m    472\u001b[0m \u001b[0;34m\u001b[0m\u001b[0m\n\u001b[1;32m    473\u001b[0m     \u001b[0;32mreturn\u001b[0m \u001b[0mspmatrix\u001b[0m\u001b[0;34m\u001b[0m\u001b[0;34m\u001b[0m\u001b[0m\n",
      "\u001b[0;32m~/Dev/DS_Projects/survival_analysis/survival-wrkspc/lib/python3.8/site-packages/sklearn/utils/validation.py\u001b[0m in \u001b[0;36m_assert_all_finite\u001b[0;34m(X, allow_nan, msg_dtype)\u001b[0m\n\u001b[1;32m    112\u001b[0m         ):\n\u001b[1;32m    113\u001b[0m             \u001b[0mtype_err\u001b[0m \u001b[0;34m=\u001b[0m \u001b[0;34m\"infinity\"\u001b[0m \u001b[0;32mif\u001b[0m \u001b[0mallow_nan\u001b[0m \u001b[0;32melse\u001b[0m \u001b[0;34m\"NaN, infinity\"\u001b[0m\u001b[0;34m\u001b[0m\u001b[0;34m\u001b[0m\u001b[0m\n\u001b[0;32m--> 114\u001b[0;31m             raise ValueError(\n\u001b[0m\u001b[1;32m    115\u001b[0m                 msg_err.format(\n\u001b[1;32m    116\u001b[0m                     \u001b[0mtype_err\u001b[0m\u001b[0;34m,\u001b[0m \u001b[0mmsg_dtype\u001b[0m \u001b[0;32mif\u001b[0m \u001b[0mmsg_dtype\u001b[0m \u001b[0;32mis\u001b[0m \u001b[0;32mnot\u001b[0m \u001b[0;32mNone\u001b[0m \u001b[0;32melse\u001b[0m \u001b[0mX\u001b[0m\u001b[0;34m.\u001b[0m\u001b[0mdtype\u001b[0m\u001b[0;34m\u001b[0m\u001b[0;34m\u001b[0m\u001b[0m\n",
      "\u001b[0;31mValueError\u001b[0m: Input contains NaN, infinity or a value too large for dtype('float64')."
     ]
    }
   ],
   "source": [
    "model.fit(X_train, y_train)"
   ]
  },
  {
   "cell_type": "markdown",
   "metadata": {},
   "source": [
    "Impute Categorical Data Using kNN"
   ]
  },
  {
   "cell_type": "markdown",
   "metadata": {},
   "source": [
    "## II. Explore Data"
   ]
  },
  {
   "cell_type": "code",
   "execution_count": 101,
   "metadata": {},
   "outputs": [],
   "source": [
    "# Global variables for plot formatting\n",
    "#-------------------------------------------------------------------------------\n",
    "\n",
    "# Title\n",
    "title_font = {'fontname': 'Arial', 'size': '16',\n",
    "              'color': 'black', 'weight': 'normal'}\n",
    "\n",
    "# Sub-title\n",
    "subtitle_font = {'fontname': 'Arial', 'size': '14',\n",
    "              'color': 'black', 'weight': 'normal'}\n",
    "\n",
    "# x-axis\n",
    "x_lab_font = {'fontname': 'Arial', 'size': '12',\n",
    "                'color': 'black', 'weight': 'normal'}\n",
    "\n",
    "# y-axis\n",
    "y_lab_font = {'fontname': 'Arial', 'size': '12',\n",
    "                'color': 'black', 'weight': 'normal'}\n",
    "\n",
    "# TODO: Create proxy artist: (https://matplotlib.org/users/legend_guide.html#creating-artists-specifically-for-adding-to-the-legend-aka-proxy-artists)\n",
    "# Legend\n",
    "leg_font = {'fontname': 'Arial', 'size': '12'}\n",
    "\n",
    "# Single line plot figure size\n",
    "single_fig_size = (10, 6)"
   ]
  },
  {
   "cell_type": "code",
   "execution_count": 48,
   "metadata": {},
   "outputs": [
    {
     "name": "stdout",
     "output_type": "stream",
     "text": [
      "AxesSubplot(0.125,0.125;0.775x0.755)\n"
     ]
    },
    {
     "data": {
      "image/png": "[encoded data removed]",
      "text/plain": [
       "<Figure size 432x288 with 1 Axes>"
      ]
     },
     "metadata": {
      "needs_background": "light"
     },
     "output_type": "display_data"
    }
   ],
   "source": [
    "# Plot histogrm of sex column\n",
    "print(df['sex'].hist())"
   ]
  },
  {
   "cell_type": "code",
   "execution_count": 113,
   "metadata": {},
   "outputs": [
    {
     "data": {
      "text/plain": [
       "meal_cal     31\n",
       "wt_loss      13\n",
       "pat_karno     3\n",
       "inst          1\n",
       "ph_ecog       1\n",
       "ph_karno      1\n",
       "dtype: int64"
      ]
     },
     "execution_count": 113,
     "metadata": {},
     "output_type": "execute_result"
    }
   ],
   "source": [
    "vars_nas_status_2 = df[df['status'] == 2].isna().sum().sort_values(ascending=False)\n",
    "vars_nas_status_2 = vars_nas_status_2[vars_nas_status_2 > 0]\n",
    "vars_nas_status_2"
   ]
  },
  {
   "cell_type": "markdown",
   "metadata": {},
   "source": [
    "## Kaplan-Meier Estimator"
   ]
  },
  {
   "cell_type": "code",
   "execution_count": 49,
   "metadata": {},
   "outputs": [],
   "source": [
    "# Create KaplanMeieerFitter object\n",
    "kmf = KaplanMeierFitter()"
   ]
  },
  {
   "cell_type": "code",
   "execution_count": 50,
   "metadata": {},
   "outputs": [
    {
     "data": {
      "text/html": [
       "<div>\n",
       "<style scoped>\n",
       "    .dataframe tbody tr th:only-of-type {\n",
       "        vertical-align: middle;\n",
       "    }\n",
       "\n",
       "    .dataframe tbody tr th {\n",
       "        vertical-align: top;\n",
       "    }\n",
       "\n",
       "    .dataframe thead th {\n",
       "        text-align: right;\n",
       "    }\n",
       "</style>\n",
       "<table border=\"1\" class=\"dataframe\">\n",
       "  <thead>\n",
       "    <tr style=\"text-align: right;\">\n",
       "      <th></th>\n",
       "      <th>inst</th>\n",
       "      <th>time</th>\n",
       "      <th>status</th>\n",
       "      <th>age</th>\n",
       "      <th>sex</th>\n",
       "      <th>ph_ecog</th>\n",
       "      <th>ph_karno</th>\n",
       "      <th>pat_karno</th>\n",
       "      <th>meal_cal</th>\n",
       "      <th>wt_loss</th>\n",
       "      <th>is.dead</th>\n",
       "    </tr>\n",
       "  </thead>\n",
       "  <tbody>\n",
       "    <tr>\n",
       "      <th>1</th>\n",
       "      <td>3</td>\n",
       "      <td>306</td>\n",
       "      <td>2</td>\n",
       "      <td>74</td>\n",
       "      <td>1</td>\n",
       "      <td>1</td>\n",
       "      <td>90</td>\n",
       "      <td>100</td>\n",
       "      <td>1175.0</td>\n",
       "      <td>NaN</td>\n",
       "      <td>1.0</td>\n",
       "    </tr>\n",
       "    <tr>\n",
       "      <th>2</th>\n",
       "      <td>3</td>\n",
       "      <td>455</td>\n",
       "      <td>2</td>\n",
       "      <td>68</td>\n",
       "      <td>1</td>\n",
       "      <td>0</td>\n",
       "      <td>90</td>\n",
       "      <td>90</td>\n",
       "      <td>1225.0</td>\n",
       "      <td>15.0</td>\n",
       "      <td>1.0</td>\n",
       "    </tr>\n",
       "    <tr>\n",
       "      <th>3</th>\n",
       "      <td>3</td>\n",
       "      <td>1010</td>\n",
       "      <td>1</td>\n",
       "      <td>56</td>\n",
       "      <td>1</td>\n",
       "      <td>0</td>\n",
       "      <td>90</td>\n",
       "      <td>90</td>\n",
       "      <td>NaN</td>\n",
       "      <td>15.0</td>\n",
       "      <td>0.0</td>\n",
       "    </tr>\n",
       "    <tr>\n",
       "      <th>4</th>\n",
       "      <td>5</td>\n",
       "      <td>210</td>\n",
       "      <td>2</td>\n",
       "      <td>57</td>\n",
       "      <td>1</td>\n",
       "      <td>1</td>\n",
       "      <td>90</td>\n",
       "      <td>60</td>\n",
       "      <td>1150.0</td>\n",
       "      <td>11.0</td>\n",
       "      <td>1.0</td>\n",
       "    </tr>\n",
       "    <tr>\n",
       "      <th>5</th>\n",
       "      <td>1</td>\n",
       "      <td>883</td>\n",
       "      <td>2</td>\n",
       "      <td>60</td>\n",
       "      <td>1</td>\n",
       "      <td>0</td>\n",
       "      <td>100</td>\n",
       "      <td>90</td>\n",
       "      <td>NaN</td>\n",
       "      <td>0.0</td>\n",
       "      <td>1.0</td>\n",
       "    </tr>\n",
       "  </tbody>\n",
       "</table>\n",
       "</div>"
      ],
      "text/plain": [
       "  inst  time status  age sex ph_ecog ph_karno pat_karno  meal_cal  wt_loss  \\\n",
       "1    3   306      2   74   1       1       90       100    1175.0      NaN   \n",
       "2    3   455      2   68   1       0       90        90    1225.0     15.0   \n",
       "3    3  1010      1   56   1       0       90        90       NaN     15.0   \n",
       "4    5   210      2   57   1       1       90        60    1150.0     11.0   \n",
       "5    1   883      2   60   1       0      100        90       NaN      0.0   \n",
       "\n",
       "   is.dead  \n",
       "1      1.0  \n",
       "2      1.0  \n",
       "3      0.0  \n",
       "4      1.0  \n",
       "5      1.0  "
      ]
     },
     "execution_count": 50,
     "metadata": {},
     "output_type": "execute_result"
    }
   ],
   "source": [
    "# Create is.dead column\n",
    "#-------------------------------------------------------------------------------\n",
    "\n",
    "# If status == 1, then is.dead == 0\n",
    "# If status == 2, then is.dead == 1\n",
    "df.loc[df.status == 1, 'is.dead'] = 0\n",
    "df.loc[df.status == 2, 'is.dead'] = 1\n",
    "\n",
    "# Check changes\n",
    "df.head()"
   ]
  },
  {
   "cell_type": "code",
   "execution_count": 51,
   "metadata": {},
   "outputs": [
    {
     "data": {
      "text/plain": [
       "<lifelines.KaplanMeierFitter:\"KM_estimate\", fitted with 228 total observations, 63 right-censored observations>"
      ]
     },
     "execution_count": 51,
     "metadata": {},
     "output_type": "execute_result"
    }
   ],
   "source": [
    "# Fit parameters to kmf object\n",
    "kmf.fit(durations = df['time'], event_observed = df['is.dead'])"
   ]
  },
  {
   "cell_type": "markdown",
   "metadata": {},
   "source": [
    "## Event Table"
   ]
  },
  {
   "cell_type": "code",
   "execution_count": 52,
   "metadata": {},
   "outputs": [
    {
     "data": {
      "text/html": [
       "<div>\n",
       "<style scoped>\n",
       "    .dataframe tbody tr th:only-of-type {\n",
       "        vertical-align: middle;\n",
       "    }\n",
       "\n",
       "    .dataframe tbody tr th {\n",
       "        vertical-align: top;\n",
       "    }\n",
       "\n",
       "    .dataframe thead th {\n",
       "        text-align: right;\n",
       "    }\n",
       "</style>\n",
       "<table border=\"1\" class=\"dataframe\">\n",
       "  <thead>\n",
       "    <tr style=\"text-align: right;\">\n",
       "      <th></th>\n",
       "      <th>removed</th>\n",
       "      <th>observed</th>\n",
       "      <th>censored</th>\n",
       "      <th>entrance</th>\n",
       "      <th>at_risk</th>\n",
       "    </tr>\n",
       "    <tr>\n",
       "      <th>event_at</th>\n",
       "      <th></th>\n",
       "      <th></th>\n",
       "      <th></th>\n",
       "      <th></th>\n",
       "      <th></th>\n",
       "    </tr>\n",
       "  </thead>\n",
       "  <tbody>\n",
       "    <tr>\n",
       "      <th>0.0</th>\n",
       "      <td>0</td>\n",
       "      <td>0</td>\n",
       "      <td>0</td>\n",
       "      <td>228</td>\n",
       "      <td>228</td>\n",
       "    </tr>\n",
       "    <tr>\n",
       "      <th>5.0</th>\n",
       "      <td>1</td>\n",
       "      <td>1</td>\n",
       "      <td>0</td>\n",
       "      <td>0</td>\n",
       "      <td>228</td>\n",
       "    </tr>\n",
       "    <tr>\n",
       "      <th>11.0</th>\n",
       "      <td>3</td>\n",
       "      <td>3</td>\n",
       "      <td>0</td>\n",
       "      <td>0</td>\n",
       "      <td>227</td>\n",
       "    </tr>\n",
       "    <tr>\n",
       "      <th>12.0</th>\n",
       "      <td>1</td>\n",
       "      <td>1</td>\n",
       "      <td>0</td>\n",
       "      <td>0</td>\n",
       "      <td>224</td>\n",
       "    </tr>\n",
       "    <tr>\n",
       "      <th>13.0</th>\n",
       "      <td>2</td>\n",
       "      <td>2</td>\n",
       "      <td>0</td>\n",
       "      <td>0</td>\n",
       "      <td>223</td>\n",
       "    </tr>\n",
       "    <tr>\n",
       "      <th>...</th>\n",
       "      <td>...</td>\n",
       "      <td>...</td>\n",
       "      <td>...</td>\n",
       "      <td>...</td>\n",
       "      <td>...</td>\n",
       "    </tr>\n",
       "    <tr>\n",
       "      <th>840.0</th>\n",
       "      <td>1</td>\n",
       "      <td>0</td>\n",
       "      <td>1</td>\n",
       "      <td>0</td>\n",
       "      <td>5</td>\n",
       "    </tr>\n",
       "    <tr>\n",
       "      <th>883.0</th>\n",
       "      <td>1</td>\n",
       "      <td>1</td>\n",
       "      <td>0</td>\n",
       "      <td>0</td>\n",
       "      <td>4</td>\n",
       "    </tr>\n",
       "    <tr>\n",
       "      <th>965.0</th>\n",
       "      <td>1</td>\n",
       "      <td>0</td>\n",
       "      <td>1</td>\n",
       "      <td>0</td>\n",
       "      <td>3</td>\n",
       "    </tr>\n",
       "    <tr>\n",
       "      <th>1010.0</th>\n",
       "      <td>1</td>\n",
       "      <td>0</td>\n",
       "      <td>1</td>\n",
       "      <td>0</td>\n",
       "      <td>2</td>\n",
       "    </tr>\n",
       "    <tr>\n",
       "      <th>1022.0</th>\n",
       "      <td>1</td>\n",
       "      <td>0</td>\n",
       "      <td>1</td>\n",
       "      <td>0</td>\n",
       "      <td>1</td>\n",
       "    </tr>\n",
       "  </tbody>\n",
       "</table>\n",
       "<p>187 rows × 5 columns</p>\n",
       "</div>"
      ],
      "text/plain": [
       "          removed  observed  censored  entrance  at_risk\n",
       "event_at                                                \n",
       "0.0             0         0         0       228      228\n",
       "5.0             1         1         0         0      228\n",
       "11.0            3         3         0         0      227\n",
       "12.0            1         1         0         0      224\n",
       "13.0            2         2         0         0      223\n",
       "...           ...       ...       ...       ...      ...\n",
       "840.0           1         0         1         0        5\n",
       "883.0           1         1         0         0        4\n",
       "965.0           1         0         1         0        3\n",
       "1010.0          1         0         1         0        2\n",
       "1022.0          1         0         1         0        1\n",
       "\n",
       "[187 rows x 5 columns]"
      ]
     },
     "execution_count": 52,
     "metadata": {},
     "output_type": "execute_result"
    }
   ],
   "source": [
    "# Print event table\n",
    "kmf.event_table"
   ]
  },
  {
   "cell_type": "markdown",
   "metadata": {},
   "source": [
    "#### NOTE:\n",
    "- removed = observed + censored\n",
    "- censored = person that did not die\n",
    "- observed = person that did die\n",
    "\n",
    "- entrance = the number of new patients in a given timeline; new patients could be diagnosed during experiment\n",
    "- at_risk = # current patiens observed; at_risk = current patients at_risk + entrance - removed"
   ]
  },
  {
   "cell_type": "code",
   "execution_count": 53,
   "metadata": {},
   "outputs": [
    {
     "data": {
      "text/html": [
       "<div>\n",
       "<style scoped>\n",
       "    .dataframe tbody tr th:only-of-type {\n",
       "        vertical-align: middle;\n",
       "    }\n",
       "\n",
       "    .dataframe tbody tr th {\n",
       "        vertical-align: top;\n",
       "    }\n",
       "\n",
       "    .dataframe thead th {\n",
       "        text-align: right;\n",
       "    }\n",
       "</style>\n",
       "<table border=\"1\" class=\"dataframe\">\n",
       "  <thead>\n",
       "    <tr style=\"text-align: right;\">\n",
       "      <th></th>\n",
       "      <th>removed</th>\n",
       "      <th>observed</th>\n",
       "      <th>censored</th>\n",
       "      <th>entrance</th>\n",
       "      <th>at_risk</th>\n",
       "    </tr>\n",
       "  </thead>\n",
       "  <tbody>\n",
       "    <tr>\n",
       "      <th>count</th>\n",
       "      <td>187.000000</td>\n",
       "      <td>187.000000</td>\n",
       "      <td>187.000000</td>\n",
       "      <td>187.000000</td>\n",
       "      <td>187.000000</td>\n",
       "    </tr>\n",
       "    <tr>\n",
       "      <th>mean</th>\n",
       "      <td>1.219251</td>\n",
       "      <td>0.882353</td>\n",
       "      <td>0.336898</td>\n",
       "      <td>1.219251</td>\n",
       "      <td>108.288770</td>\n",
       "    </tr>\n",
       "    <tr>\n",
       "      <th>std</th>\n",
       "      <td>0.452060</td>\n",
       "      <td>0.636741</td>\n",
       "      <td>0.506811</td>\n",
       "      <td>16.673011</td>\n",
       "      <td>66.490941</td>\n",
       "    </tr>\n",
       "    <tr>\n",
       "      <th>min</th>\n",
       "      <td>0.000000</td>\n",
       "      <td>0.000000</td>\n",
       "      <td>0.000000</td>\n",
       "      <td>0.000000</td>\n",
       "      <td>1.000000</td>\n",
       "    </tr>\n",
       "    <tr>\n",
       "      <th>25%</th>\n",
       "      <td>1.000000</td>\n",
       "      <td>0.000000</td>\n",
       "      <td>0.000000</td>\n",
       "      <td>0.000000</td>\n",
       "      <td>50.500000</td>\n",
       "    </tr>\n",
       "    <tr>\n",
       "      <th>50%</th>\n",
       "      <td>1.000000</td>\n",
       "      <td>1.000000</td>\n",
       "      <td>0.000000</td>\n",
       "      <td>0.000000</td>\n",
       "      <td>107.000000</td>\n",
       "    </tr>\n",
       "    <tr>\n",
       "      <th>75%</th>\n",
       "      <td>1.000000</td>\n",
       "      <td>1.000000</td>\n",
       "      <td>1.000000</td>\n",
       "      <td>0.000000</td>\n",
       "      <td>163.000000</td>\n",
       "    </tr>\n",
       "    <tr>\n",
       "      <th>max</th>\n",
       "      <td>3.000000</td>\n",
       "      <td>3.000000</td>\n",
       "      <td>2.000000</td>\n",
       "      <td>228.000000</td>\n",
       "      <td>228.000000</td>\n",
       "    </tr>\n",
       "  </tbody>\n",
       "</table>\n",
       "</div>"
      ],
      "text/plain": [
       "          removed    observed    censored    entrance     at_risk\n",
       "count  187.000000  187.000000  187.000000  187.000000  187.000000\n",
       "mean     1.219251    0.882353    0.336898    1.219251  108.288770\n",
       "std      0.452060    0.636741    0.506811   16.673011   66.490941\n",
       "min      0.000000    0.000000    0.000000    0.000000    1.000000\n",
       "25%      1.000000    0.000000    0.000000    0.000000   50.500000\n",
       "50%      1.000000    1.000000    0.000000    0.000000  107.000000\n",
       "75%      1.000000    1.000000    1.000000    0.000000  163.000000\n",
       "max      3.000000    3.000000    2.000000  228.000000  228.000000"
      ]
     },
     "execution_count": 53,
     "metadata": {},
     "output_type": "execute_result"
    }
   ],
   "source": [
    "# Print descriptive stats of kmf event table\n",
    "kmf.event_table.describe()"
   ]
  },
  {
   "cell_type": "markdown",
   "metadata": {},
   "source": [
    "## Predicting probabilities\n",
    "TODO: [Forest Plot](https://cran.r-project.org/web/packages/survivalAnalysis/vignettes/multivariate.html)"
   ]
  },
  {
   "cell_type": "markdown",
   "metadata": {},
   "source": [
    "### Survival probability for t=0"
   ]
  },
  {
   "cell_type": "code",
   "execution_count": 54,
   "metadata": {},
   "outputs": [
    {
     "data": {
      "text/plain": [
       "1.0"
      ]
     },
     "execution_count": 54,
     "metadata": {},
     "output_type": "execute_result"
    }
   ],
   "source": [
    "# Calculate survival probability at a given time\n",
    "event_at_0 = kmf.event_table.iloc[0,:]\n",
    "\n",
    "# Calculate survival probability for t-0\n",
    "surv_for_0 = (event_at_0.at_risk - event_at_0.observed) / event_at_0.at_risk\n",
    "surv_for_0"
   ]
  },
  {
   "cell_type": "markdown",
   "metadata": {},
   "source": [
    "### Survival probability for t=5"
   ]
  },
  {
   "cell_type": "code",
   "execution_count": 55,
   "metadata": {},
   "outputs": [
    {
     "data": {
      "text/plain": [
       "0.9956140350877193"
      ]
     },
     "execution_count": 55,
     "metadata": {},
     "output_type": "execute_result"
    }
   ],
   "source": [
    "# Calculate survival probability at a given time\n",
    "event_at_5 = kmf.event_table.iloc[1,:]\n",
    "\n",
    "# Calculate survival probability for t=5\n",
    "surv_for_5 = (event_at_5.at_risk - event_at_5.observed) / event_at_5.at_risk\n",
    "surv_for_5"
   ]
  },
  {
   "cell_type": "markdown",
   "metadata": {},
   "source": [
    "### Survival probability for t=11"
   ]
  },
  {
   "cell_type": "code",
   "execution_count": 56,
   "metadata": {},
   "outputs": [
    {
     "data": {
      "text/plain": [
       "0.986784140969163"
      ]
     },
     "execution_count": 56,
     "metadata": {},
     "output_type": "execute_result"
    }
   ],
   "source": [
    "# Calculate survival probability at a given time\n",
    "event_at_11 = kmf.event_table.iloc[2,:]\n",
    "\n",
    "# Calculate survival probability for t-0\n",
    "surv_for_11 = (event_at_11.at_risk - event_at_11.observed) / event_at_11.at_risk\n",
    "surv_for_11"
   ]
  },
  {
   "cell_type": "code",
   "execution_count": 57,
   "metadata": {},
   "outputs": [
    {
     "name": "stdout",
     "output_type": "stream",
     "text": [
      "Survival probability for t=0:  1.0\n",
      "Survival probability for t=5:  0.9956140350877193\n",
      "Survival probability for t=11:  0.9824561403508766\n"
     ]
    }
   ],
   "source": [
    "# Probabilities of survival\n",
    "print(\"Survival probability for t=0: \", kmf.predict(0))\n",
    "print(\"Survival probability for t=5: \", kmf.predict(5))\n",
    "print(\"Survival probability for t=11: \", kmf.predict(11))"
   ]
  },
  {
   "cell_type": "code",
   "execution_count": 58,
   "metadata": {},
   "outputs": [
    {
     "data": {
      "text/plain": [
       "0     1.000000\n",
       "5     0.995614\n",
       "11    0.982456\n",
       "12    0.978070\n",
       "Name: KM_estimate, dtype: float64"
      ]
     },
     "execution_count": 58,
     "metadata": {},
     "output_type": "execute_result"
    }
   ],
   "source": [
    "# Can do the above like this, too:\n",
    "kmf.predict([0, 5, 11, 12])"
   ]
  },
  {
   "cell_type": "markdown",
   "metadata": {},
   "source": [
    "### Table of survival probabilities"
   ]
  },
  {
   "cell_type": "code",
   "execution_count": 59,
   "metadata": {},
   "outputs": [
    {
     "data": {
      "text/html": [
       "<div>\n",
       "<style scoped>\n",
       "    .dataframe tbody tr th:only-of-type {\n",
       "        vertical-align: middle;\n",
       "    }\n",
       "\n",
       "    .dataframe tbody tr th {\n",
       "        vertical-align: top;\n",
       "    }\n",
       "\n",
       "    .dataframe thead th {\n",
       "        text-align: right;\n",
       "    }\n",
       "</style>\n",
       "<table border=\"1\" class=\"dataframe\">\n",
       "  <thead>\n",
       "    <tr style=\"text-align: right;\">\n",
       "      <th></th>\n",
       "      <th>KM_estimate</th>\n",
       "    </tr>\n",
       "    <tr>\n",
       "      <th>timeline</th>\n",
       "      <th></th>\n",
       "    </tr>\n",
       "  </thead>\n",
       "  <tbody>\n",
       "    <tr>\n",
       "      <th>0.0</th>\n",
       "      <td>1.000000</td>\n",
       "    </tr>\n",
       "    <tr>\n",
       "      <th>5.0</th>\n",
       "      <td>0.995614</td>\n",
       "    </tr>\n",
       "    <tr>\n",
       "      <th>11.0</th>\n",
       "      <td>0.982456</td>\n",
       "    </tr>\n",
       "    <tr>\n",
       "      <th>12.0</th>\n",
       "      <td>0.978070</td>\n",
       "    </tr>\n",
       "    <tr>\n",
       "      <th>13.0</th>\n",
       "      <td>0.969298</td>\n",
       "    </tr>\n",
       "    <tr>\n",
       "      <th>...</th>\n",
       "      <td>...</td>\n",
       "    </tr>\n",
       "    <tr>\n",
       "      <th>840.0</th>\n",
       "      <td>0.067127</td>\n",
       "    </tr>\n",
       "    <tr>\n",
       "      <th>883.0</th>\n",
       "      <td>0.050346</td>\n",
       "    </tr>\n",
       "    <tr>\n",
       "      <th>965.0</th>\n",
       "      <td>0.050346</td>\n",
       "    </tr>\n",
       "    <tr>\n",
       "      <th>1010.0</th>\n",
       "      <td>0.050346</td>\n",
       "    </tr>\n",
       "    <tr>\n",
       "      <th>1022.0</th>\n",
       "      <td>0.050346</td>\n",
       "    </tr>\n",
       "  </tbody>\n",
       "</table>\n",
       "<p>187 rows × 1 columns</p>\n",
       "</div>"
      ],
      "text/plain": [
       "          KM_estimate\n",
       "timeline             \n",
       "0.0          1.000000\n",
       "5.0          0.995614\n",
       "11.0         0.982456\n",
       "12.0         0.978070\n",
       "13.0         0.969298\n",
       "...               ...\n",
       "840.0        0.067127\n",
       "883.0        0.050346\n",
       "965.0        0.050346\n",
       "1010.0       0.050346\n",
       "1022.0       0.050346\n",
       "\n",
       "[187 rows x 1 columns]"
      ]
     },
     "execution_count": 59,
     "metadata": {},
     "output_type": "execute_result"
    }
   ],
   "source": [
    "# Or, you can make predictions for the entire timeline like this:\n",
    "kmf.survival_function_"
   ]
  },
  {
   "cell_type": "markdown",
   "metadata": {},
   "source": [
    "### Plot of survival probabilities"
   ]
  },
  {
   "cell_type": "code",
   "execution_count": 112,
   "metadata": {},
   "outputs": [
    {
     "data": {
      "image/png": "[encoded data removed]",
      "text/plain": [
       "<Figure size 720x432 with 1 Axes>"
      ]
     },
     "metadata": {
      "needs_background": "light"
     },
     "output_type": "display_data"
    }
   ],
   "source": [
    "# Plot graph of probabilities\n",
    "kmf.plot(figsize=single_fig_size)\n",
    "plt.title('The Kapplan-Meier Estimate', title_font)\n",
    "plt.xlabel('Number of days', x_lab_font)\n",
    "plt.ylabel('Probability of survival', y_lab_font)\n",
    "plt.legend(loc='upper right')\n",
    "plt.savefig('plots/kmf_plot')\n",
    "plt.show()\n",
    "\n",
    "# TODO: Why aren't the axis labels larger??"
   ]
  },
  {
   "cell_type": "markdown",
   "metadata": {},
   "source": [
    "## Median number of survival days\n",
    "### Provides the number of days where, on average, 50% of the patients survived"
   ]
  },
  {
   "cell_type": "code",
   "execution_count": 113,
   "metadata": {},
   "outputs": [
    {
     "name": "stdout",
     "output_type": "stream",
     "text": [
      "The median survival time:  310.0\n"
     ]
    }
   ],
   "source": [
    "# Print the median number of days where, on average, 50% of the patients survived\n",
    "print('The median survival time: ', kmf.median_survival_time_)"
   ]
  },
  {
   "cell_type": "markdown",
   "metadata": {},
   "source": [
    "## Table of survival probability with confidence interval"
   ]
  },
  {
   "cell_type": "code",
   "execution_count": 114,
   "metadata": {},
   "outputs": [
    {
     "data": {
      "text/html": [
       "<div>\n",
       "<style scoped>\n",
       "    .dataframe tbody tr th:only-of-type {\n",
       "        vertical-align: middle;\n",
       "    }\n",
       "\n",
       "    .dataframe tbody tr th {\n",
       "        vertical-align: top;\n",
       "    }\n",
       "\n",
       "    .dataframe thead th {\n",
       "        text-align: right;\n",
       "    }\n",
       "</style>\n",
       "<table border=\"1\" class=\"dataframe\">\n",
       "  <thead>\n",
       "    <tr style=\"text-align: right;\">\n",
       "      <th></th>\n",
       "      <th>KM_estimate_lower_0.95</th>\n",
       "      <th>KM_estimate_upper_0.95</th>\n",
       "    </tr>\n",
       "  </thead>\n",
       "  <tbody>\n",
       "    <tr>\n",
       "      <th>0.0</th>\n",
       "      <td>1.000000</td>\n",
       "      <td>1.000000</td>\n",
       "    </tr>\n",
       "    <tr>\n",
       "      <th>5.0</th>\n",
       "      <td>0.969277</td>\n",
       "      <td>0.999381</td>\n",
       "    </tr>\n",
       "    <tr>\n",
       "      <th>11.0</th>\n",
       "      <td>0.953935</td>\n",
       "      <td>0.993379</td>\n",
       "    </tr>\n",
       "    <tr>\n",
       "      <th>12.0</th>\n",
       "      <td>0.948120</td>\n",
       "      <td>0.990813</td>\n",
       "    </tr>\n",
       "    <tr>\n",
       "      <th>13.0</th>\n",
       "      <td>0.936682</td>\n",
       "      <td>0.985244</td>\n",
       "    </tr>\n",
       "    <tr>\n",
       "      <th>...</th>\n",
       "      <td>...</td>\n",
       "      <td>...</td>\n",
       "    </tr>\n",
       "    <tr>\n",
       "      <th>840.0</th>\n",
       "      <td>0.030728</td>\n",
       "      <td>0.123060</td>\n",
       "    </tr>\n",
       "    <tr>\n",
       "      <th>883.0</th>\n",
       "      <td>0.017866</td>\n",
       "      <td>0.108662</td>\n",
       "    </tr>\n",
       "    <tr>\n",
       "      <th>965.0</th>\n",
       "      <td>0.017866</td>\n",
       "      <td>0.108662</td>\n",
       "    </tr>\n",
       "    <tr>\n",
       "      <th>1010.0</th>\n",
       "      <td>0.017866</td>\n",
       "      <td>0.108662</td>\n",
       "    </tr>\n",
       "    <tr>\n",
       "      <th>1022.0</th>\n",
       "      <td>0.017866</td>\n",
       "      <td>0.108662</td>\n",
       "    </tr>\n",
       "  </tbody>\n",
       "</table>\n",
       "<p>187 rows × 2 columns</p>\n",
       "</div>"
      ],
      "text/plain": [
       "        KM_estimate_lower_0.95  KM_estimate_upper_0.95\n",
       "0.0                   1.000000                1.000000\n",
       "5.0                   0.969277                0.999381\n",
       "11.0                  0.953935                0.993379\n",
       "12.0                  0.948120                0.990813\n",
       "13.0                  0.936682                0.985244\n",
       "...                        ...                     ...\n",
       "840.0                 0.030728                0.123060\n",
       "883.0                 0.017866                0.108662\n",
       "965.0                 0.017866                0.108662\n",
       "1010.0                0.017866                0.108662\n",
       "1022.0                0.017866                0.108662\n",
       "\n",
       "[187 rows x 2 columns]"
      ]
     },
     "execution_count": 114,
     "metadata": {},
     "output_type": "execute_result"
    }
   ],
   "source": [
    "# Print survival probabilities with confidence intervals\n",
    "kmf.confidence_interval_survival_function_"
   ]
  },
  {
   "cell_type": "markdown",
   "metadata": {},
   "source": [
    "## Plot of survival probability with confidence interval"
   ]
  },
  {
   "cell_type": "code",
   "execution_count": 120,
   "metadata": {},
   "outputs": [
    {
     "data": {
      "image/png": "[encoded data removed]",
      "text/plain": [
       "<Figure size 432x288 with 1 Axes>"
      ]
     },
     "metadata": {
      "needs_background": "light"
     },
     "output_type": "display_data"
    }
   ],
   "source": [
    "# Plot survival function with confidence interval\n",
    "confidence_surv_func = kmf.confidence_interval_survival_function_\n",
    "\n",
    "# plt.plot(figsize=single_fig_size)\n",
    "plt.plot(confidence_surv_func['KM_estimate_lower_0.95'], label='Lower')\n",
    "plt.plot(confidence_surv_func['KM_estimate_upper_0.95'], label='Upper')\n",
    "plt.title('Survival Function with Confidence Interval', title_font)\n",
    "plt.xlabel('Number of Days', x_lab_font)\n",
    "plt.ylabel('Survival Probability', y_lab_font)\n",
    "plt.legend()\n",
    "plt.savefig('plots/kmf_confidence_plot')\n",
    "plt.show()"
   ]
  },
  {
   "cell_type": "markdown",
   "metadata": {},
   "source": [
    "## Probability of a person dying at time t\n",
    "### number of subjects that died at time t / number of subjects at risk just before time t"
   ]
  },
  {
   "cell_type": "code",
   "execution_count": 23,
   "metadata": {},
   "outputs": [
    {
     "data": {
      "text/html": [
       "<div>\n",
       "<style scoped>\n",
       "    .dataframe tbody tr th:only-of-type {\n",
       "        vertical-align: middle;\n",
       "    }\n",
       "\n",
       "    .dataframe tbody tr th {\n",
       "        vertical-align: top;\n",
       "    }\n",
       "\n",
       "    .dataframe thead th {\n",
       "        text-align: right;\n",
       "    }\n",
       "</style>\n",
       "<table border=\"1\" class=\"dataframe\">\n",
       "  <thead>\n",
       "    <tr style=\"text-align: right;\">\n",
       "      <th></th>\n",
       "      <th>KM_estimate</th>\n",
       "    </tr>\n",
       "    <tr>\n",
       "      <th>timeline</th>\n",
       "      <th></th>\n",
       "    </tr>\n",
       "  </thead>\n",
       "  <tbody>\n",
       "    <tr>\n",
       "      <th>0.0</th>\n",
       "      <td>0.000000</td>\n",
       "    </tr>\n",
       "    <tr>\n",
       "      <th>5.0</th>\n",
       "      <td>0.004386</td>\n",
       "    </tr>\n",
       "    <tr>\n",
       "      <th>11.0</th>\n",
       "      <td>0.017544</td>\n",
       "    </tr>\n",
       "    <tr>\n",
       "      <th>12.0</th>\n",
       "      <td>0.021930</td>\n",
       "    </tr>\n",
       "    <tr>\n",
       "      <th>13.0</th>\n",
       "      <td>0.030702</td>\n",
       "    </tr>\n",
       "    <tr>\n",
       "      <th>...</th>\n",
       "      <td>...</td>\n",
       "    </tr>\n",
       "    <tr>\n",
       "      <th>840.0</th>\n",
       "      <td>0.932873</td>\n",
       "    </tr>\n",
       "    <tr>\n",
       "      <th>883.0</th>\n",
       "      <td>0.949654</td>\n",
       "    </tr>\n",
       "    <tr>\n",
       "      <th>965.0</th>\n",
       "      <td>0.949654</td>\n",
       "    </tr>\n",
       "    <tr>\n",
       "      <th>1010.0</th>\n",
       "      <td>0.949654</td>\n",
       "    </tr>\n",
       "    <tr>\n",
       "      <th>1022.0</th>\n",
       "      <td>0.949654</td>\n",
       "    </tr>\n",
       "  </tbody>\n",
       "</table>\n",
       "<p>187 rows × 1 columns</p>\n",
       "</div>"
      ],
      "text/plain": [
       "          KM_estimate\n",
       "timeline             \n",
       "0.0          0.000000\n",
       "5.0          0.004386\n",
       "11.0         0.017544\n",
       "12.0         0.021930\n",
       "13.0         0.030702\n",
       "...               ...\n",
       "840.0        0.932873\n",
       "883.0        0.949654\n",
       "965.0        0.949654\n",
       "1010.0       0.949654\n",
       "1022.0       0.949654\n",
       "\n",
       "[187 rows x 1 columns]"
      ]
     },
     "execution_count": 23,
     "metadata": {},
     "output_type": "execute_result"
    }
   ],
   "source": [
    "# Print cumulative density\n",
    "\n",
    "# Probability of a subject dying\n",
    "# p(1022) = p(0) + ... + p(1022)\n",
    "kmf.cumulative_density_"
   ]
  },
  {
   "cell_type": "markdown",
   "metadata": {},
   "source": [
    "## Plot of cumulative density"
   ]
  },
  {
   "cell_type": "code",
   "execution_count": 128,
   "metadata": {},
   "outputs": [
    {
     "data": {
      "image/png": "[encoded data removed]",
      "text/plain": [
       "<Figure size 720x432 with 1 Axes>"
      ]
     },
     "metadata": {
      "needs_background": "light"
     },
     "output_type": "display_data"
    }
   ],
   "source": [
    "# Plot graph of cumulative density\n",
    "\n",
    "kmf.plot_cumulative_density(figsize=single_fig_size)\n",
    "plt.title('Cumulative Density Plot', title_font)\n",
    "plt.xlabel('Number of Days', x_lab_font)\n",
    "plt.ylabel(\"Probability of Death\", y_lab_font)\n",
    "plt.legend(loc='upper left')\n",
    "plt.savefig('plots/kmf_cumulative_density_plot')\n",
    "plt.show()"
   ]
  },
  {
   "cell_type": "markdown",
   "metadata": {},
   "source": [
    "## Table of cumulative densities with a confidence interval"
   ]
  },
  {
   "cell_type": "code",
   "execution_count": 25,
   "metadata": {},
   "outputs": [
    {
     "data": {
      "text/html": [
       "<div>\n",
       "<style scoped>\n",
       "    .dataframe tbody tr th:only-of-type {\n",
       "        vertical-align: middle;\n",
       "    }\n",
       "\n",
       "    .dataframe tbody tr th {\n",
       "        vertical-align: top;\n",
       "    }\n",
       "\n",
       "    .dataframe thead th {\n",
       "        text-align: right;\n",
       "    }\n",
       "</style>\n",
       "<table border=\"1\" class=\"dataframe\">\n",
       "  <thead>\n",
       "    <tr style=\"text-align: right;\">\n",
       "      <th></th>\n",
       "      <th>KM_estimate_lower_0.95</th>\n",
       "      <th>KM_estimate_upper_0.95</th>\n",
       "    </tr>\n",
       "  </thead>\n",
       "  <tbody>\n",
       "    <tr>\n",
       "      <th>0.0</th>\n",
       "      <td>0.000000</td>\n",
       "      <td>0.000000</td>\n",
       "    </tr>\n",
       "    <tr>\n",
       "      <th>5.0</th>\n",
       "      <td>0.030723</td>\n",
       "      <td>0.000619</td>\n",
       "    </tr>\n",
       "    <tr>\n",
       "      <th>11.0</th>\n",
       "      <td>0.046065</td>\n",
       "      <td>0.006621</td>\n",
       "    </tr>\n",
       "    <tr>\n",
       "      <th>12.0</th>\n",
       "      <td>0.051880</td>\n",
       "      <td>0.009187</td>\n",
       "    </tr>\n",
       "    <tr>\n",
       "      <th>13.0</th>\n",
       "      <td>0.063318</td>\n",
       "      <td>0.014756</td>\n",
       "    </tr>\n",
       "    <tr>\n",
       "      <th>...</th>\n",
       "      <td>...</td>\n",
       "      <td>...</td>\n",
       "    </tr>\n",
       "    <tr>\n",
       "      <th>840.0</th>\n",
       "      <td>0.969272</td>\n",
       "      <td>0.876940</td>\n",
       "    </tr>\n",
       "    <tr>\n",
       "      <th>883.0</th>\n",
       "      <td>0.982134</td>\n",
       "      <td>0.891338</td>\n",
       "    </tr>\n",
       "    <tr>\n",
       "      <th>965.0</th>\n",
       "      <td>0.982134</td>\n",
       "      <td>0.891338</td>\n",
       "    </tr>\n",
       "    <tr>\n",
       "      <th>1010.0</th>\n",
       "      <td>0.982134</td>\n",
       "      <td>0.891338</td>\n",
       "    </tr>\n",
       "    <tr>\n",
       "      <th>1022.0</th>\n",
       "      <td>0.982134</td>\n",
       "      <td>0.891338</td>\n",
       "    </tr>\n",
       "  </tbody>\n",
       "</table>\n",
       "<p>187 rows × 2 columns</p>\n",
       "</div>"
      ],
      "text/plain": [
       "        KM_estimate_lower_0.95  KM_estimate_upper_0.95\n",
       "0.0                   0.000000                0.000000\n",
       "5.0                   0.030723                0.000619\n",
       "11.0                  0.046065                0.006621\n",
       "12.0                  0.051880                0.009187\n",
       "13.0                  0.063318                0.014756\n",
       "...                        ...                     ...\n",
       "840.0                 0.969272                0.876940\n",
       "883.0                 0.982134                0.891338\n",
       "965.0                 0.982134                0.891338\n",
       "1010.0                0.982134                0.891338\n",
       "1022.0                0.982134                0.891338\n",
       "\n",
       "[187 rows x 2 columns]"
      ]
     },
     "execution_count": 25,
     "metadata": {},
     "output_type": "execute_result"
    }
   ],
   "source": [
    "# Cumalative density with confidence interval\n",
    "kmf.confidence_interval_cumulative_density_"
   ]
  },
  {
   "cell_type": "markdown",
   "metadata": {},
   "source": [
    "## Plot cumulative density with a confidence interval"
   ]
  },
  {
   "cell_type": "code",
   "execution_count": 131,
   "metadata": {},
   "outputs": [
    {
     "data": {
      "image/png": "[encoded data removed]",
      "text/plain": [
       "<Figure size 432x288 with 1 Axes>"
      ]
     },
     "metadata": {
      "needs_background": "light"
     },
     "output_type": "display_data"
    }
   ],
   "source": [
    "# Plot cumulative density with confidence interval\n",
    "\n",
    "confidence_cumulative_density = kmf.confidence_interval_cumulative_density_\n",
    "\n",
    "plt.plot(kmf.confidence_interval_cumulative_density_['KM_estimate_lower_0.95'], label='Lower')\n",
    "plt.plot(kmf.confidence_interval_cumulative_density_['KM_estimate_upper_0.95'], label='Upper')\n",
    "plt.title('Cumulative Density with Confidence Interval', title_font)\n",
    "plt.xlabel('Number of days', x_lab_font)\n",
    "plt.ylabel('Cumulative Density', y_lab_font)\n",
    "plt.legend()\n",
    "plt.savefig('plots/kmf_cumulative_density_confidence_plot')\n",
    "plt.show()"
   ]
  },
  {
   "cell_type": "markdown",
   "metadata": {},
   "source": [
    "## Cumulative density for a particular time"
   ]
  },
  {
   "cell_type": "code",
   "execution_count": 27,
   "metadata": {},
   "outputs": [
    {
     "data": {
      "text/plain": [
       "1022    0.949654\n",
       "Name: KM_estimate, dtype: float64"
      ]
     },
     "execution_count": 27,
     "metadata": {},
     "output_type": "execute_result"
    }
   ],
   "source": [
    "# Find cumulative density at a specific time\n",
    "kmf.cumulative_density_at_times(times=1022)"
   ]
  },
  {
   "cell_type": "markdown",
   "metadata": {},
   "source": [
    "## Median time to an event\n",
    "### IE: the amount of time remaining from the median survival time"
   ]
  },
  {
   "cell_type": "code",
   "execution_count": 28,
   "metadata": {},
   "outputs": [
    {
     "data": {
      "text/html": [
       "<div>\n",
       "<style scoped>\n",
       "    .dataframe tbody tr th:only-of-type {\n",
       "        vertical-align: middle;\n",
       "    }\n",
       "\n",
       "    .dataframe tbody tr th {\n",
       "        vertical-align: top;\n",
       "    }\n",
       "\n",
       "    .dataframe thead th {\n",
       "        text-align: right;\n",
       "    }\n",
       "</style>\n",
       "<table border=\"1\" class=\"dataframe\">\n",
       "  <thead>\n",
       "    <tr style=\"text-align: right;\">\n",
       "      <th></th>\n",
       "      <th>KM_estimate - Conditional median duration remaining to event</th>\n",
       "    </tr>\n",
       "    <tr>\n",
       "      <th>timeline</th>\n",
       "      <th></th>\n",
       "    </tr>\n",
       "  </thead>\n",
       "  <tbody>\n",
       "    <tr>\n",
       "      <th>0.0</th>\n",
       "      <td>310.0</td>\n",
       "    </tr>\n",
       "    <tr>\n",
       "      <th>5.0</th>\n",
       "      <td>305.0</td>\n",
       "    </tr>\n",
       "    <tr>\n",
       "      <th>11.0</th>\n",
       "      <td>309.0</td>\n",
       "    </tr>\n",
       "    <tr>\n",
       "      <th>12.0</th>\n",
       "      <td>308.0</td>\n",
       "    </tr>\n",
       "    <tr>\n",
       "      <th>13.0</th>\n",
       "      <td>316.0</td>\n",
       "    </tr>\n",
       "    <tr>\n",
       "      <th>...</th>\n",
       "      <td>...</td>\n",
       "    </tr>\n",
       "    <tr>\n",
       "      <th>840.0</th>\n",
       "      <td>inf</td>\n",
       "    </tr>\n",
       "    <tr>\n",
       "      <th>883.0</th>\n",
       "      <td>inf</td>\n",
       "    </tr>\n",
       "    <tr>\n",
       "      <th>965.0</th>\n",
       "      <td>inf</td>\n",
       "    </tr>\n",
       "    <tr>\n",
       "      <th>1010.0</th>\n",
       "      <td>inf</td>\n",
       "    </tr>\n",
       "    <tr>\n",
       "      <th>1022.0</th>\n",
       "      <td>inf</td>\n",
       "    </tr>\n",
       "  </tbody>\n",
       "</table>\n",
       "<p>187 rows × 1 columns</p>\n",
       "</div>"
      ],
      "text/plain": [
       "          KM_estimate - Conditional median duration remaining to event\n",
       "timeline                                                              \n",
       "0.0                                                   310.0           \n",
       "5.0                                                   305.0           \n",
       "11.0                                                  309.0           \n",
       "12.0                                                  308.0           \n",
       "13.0                                                  316.0           \n",
       "...                                                     ...           \n",
       "840.0                                                   inf           \n",
       "883.0                                                   inf           \n",
       "965.0                                                   inf           \n",
       "1010.0                                                  inf           \n",
       "1022.0                                                  inf           \n",
       "\n",
       "[187 rows x 1 columns]"
      ]
     },
     "execution_count": 28,
     "metadata": {},
     "output_type": "execute_result"
    }
   ],
   "source": [
    "# Conditional median time to event of interest\n",
    "kmf.conditional_time_to_event_"
   ]
  },
  {
   "cell_type": "markdown",
   "metadata": {},
   "source": [
    "# Plot of median time to the event"
   ]
  },
  {
   "cell_type": "code",
   "execution_count": 136,
   "metadata": {},
   "outputs": [
    {
     "data": {
      "image/png": "[encoded data removed]",
      "text/plain": [
       "<Figure size 432x288 with 1 Axes>"
      ]
     },
     "metadata": {
      "needs_background": "light"
     },
     "output_type": "display_data"
    }
   ],
   "source": [
    "# Conditional median time left for event\n",
    "median_time_to_event = kmf.conditional_time_to_event_\n",
    "plt.plot(median_time_to_event, label='Median Time Left')\n",
    "plt.title('Conditional Median Time-to-Event', title_font)\n",
    "plt.xlabel('Total Days', x_lab_font)\n",
    "plt.ylabel('Conditional Median Time-to-Event', y_lab_font)\n",
    "plt.legend()\n",
    "plt.savefig('plots/kmf_conditional_median_time_to_event_plot')\n",
    "plt.show()"
   ]
  },
  {
   "cell_type": "markdown",
   "metadata": {},
   "source": [
    "## Nelson-Aalen Estimator"
   ]
  },
  {
   "cell_type": "code",
   "execution_count": 137,
   "metadata": {},
   "outputs": [],
   "source": [
    "# Create Nelson-Aalen Fitter object\n",
    "naf = NelsonAalenFitter()"
   ]
  },
  {
   "cell_type": "code",
   "execution_count": 138,
   "metadata": {},
   "outputs": [
    {
     "data": {
      "text/plain": [
       "<lifelines.NelsonAalenFitter:\"NA_estimate\", fitted with 228 total observations, 63 right-censored observations>"
      ]
     },
     "execution_count": 138,
     "metadata": {},
     "output_type": "execute_result"
    }
   ],
   "source": [
    "# Fit data to object\n",
    "naf.fit(df['time'], event_observed=df['is.dead'])"
   ]
  },
  {
   "cell_type": "code",
   "execution_count": 139,
   "metadata": {},
   "outputs": [
    {
     "data": {
      "text/html": [
       "<div>\n",
       "<style scoped>\n",
       "    .dataframe tbody tr th:only-of-type {\n",
       "        vertical-align: middle;\n",
       "    }\n",
       "\n",
       "    .dataframe tbody tr th {\n",
       "        vertical-align: top;\n",
       "    }\n",
       "\n",
       "    .dataframe thead th {\n",
       "        text-align: right;\n",
       "    }\n",
       "</style>\n",
       "<table border=\"1\" class=\"dataframe\">\n",
       "  <thead>\n",
       "    <tr style=\"text-align: right;\">\n",
       "      <th></th>\n",
       "      <th>NA_estimate</th>\n",
       "    </tr>\n",
       "    <tr>\n",
       "      <th>timeline</th>\n",
       "      <th></th>\n",
       "    </tr>\n",
       "  </thead>\n",
       "  <tbody>\n",
       "    <tr>\n",
       "      <th>0.0</th>\n",
       "      <td>0.000000</td>\n",
       "    </tr>\n",
       "    <tr>\n",
       "      <th>5.0</th>\n",
       "      <td>0.004386</td>\n",
       "    </tr>\n",
       "    <tr>\n",
       "      <th>11.0</th>\n",
       "      <td>0.017660</td>\n",
       "    </tr>\n",
       "    <tr>\n",
       "      <th>12.0</th>\n",
       "      <td>0.022125</td>\n",
       "    </tr>\n",
       "    <tr>\n",
       "      <th>13.0</th>\n",
       "      <td>0.031114</td>\n",
       "    </tr>\n",
       "    <tr>\n",
       "      <th>...</th>\n",
       "      <td>...</td>\n",
       "    </tr>\n",
       "    <tr>\n",
       "      <th>840.0</th>\n",
       "      <td>2.641565</td>\n",
       "    </tr>\n",
       "    <tr>\n",
       "      <th>883.0</th>\n",
       "      <td>2.891565</td>\n",
       "    </tr>\n",
       "    <tr>\n",
       "      <th>965.0</th>\n",
       "      <td>2.891565</td>\n",
       "    </tr>\n",
       "    <tr>\n",
       "      <th>1010.0</th>\n",
       "      <td>2.891565</td>\n",
       "    </tr>\n",
       "    <tr>\n",
       "      <th>1022.0</th>\n",
       "      <td>2.891565</td>\n",
       "    </tr>\n",
       "  </tbody>\n",
       "</table>\n",
       "<p>187 rows × 1 columns</p>\n",
       "</div>"
      ],
      "text/plain": [
       "          NA_estimate\n",
       "timeline             \n",
       "0.0          0.000000\n",
       "5.0          0.004386\n",
       "11.0         0.017660\n",
       "12.0         0.022125\n",
       "13.0         0.031114\n",
       "...               ...\n",
       "840.0        2.641565\n",
       "883.0        2.891565\n",
       "965.0        2.891565\n",
       "1010.0       2.891565\n",
       "1022.0       2.891565\n",
       "\n",
       "[187 rows x 1 columns]"
      ]
     },
     "execution_count": 139,
     "metadata": {},
     "output_type": "execute_result"
    }
   ],
   "source": [
    "# Print cumulative hazard\n",
    "naf.cumulative_hazard_"
   ]
  },
  {
   "cell_type": "markdown",
   "metadata": {},
   "source": [
    "## Plot of cumulative hazard"
   ]
  },
  {
   "cell_type": "code",
   "execution_count": 143,
   "metadata": {},
   "outputs": [
    {
     "data": {
      "image/png": "[encoded data removed]",
      "text/plain": [
       "<Figure size 720x432 with 1 Axes>"
      ]
     },
     "metadata": {
      "needs_background": "light"
     },
     "output_type": "display_data"
    }
   ],
   "source": [
    "# Plot the cumulative hazard graph\n",
    "naf.plot_cumulative_hazard(figsize=single_fig_size)\n",
    "plt.title('Cumulative Probability for Event of Interest', title_font)\n",
    "plt.xlabel('Number of days', x_lab_font)\n",
    "plt.ylabel('Cumulative Probability of person\\'s death', y_lab_font)\n",
    "plt.savefig('plots/naf_plot')\n",
    "plt.show()"
   ]
  },
  {
   "cell_type": "markdown",
   "metadata": {},
   "source": [
    "## Predict values"
   ]
  },
  {
   "cell_type": "code",
   "execution_count": 35,
   "metadata": {},
   "outputs": [
    {
     "name": "stdout",
     "output_type": "stream",
     "text": [
      "Time = 500 days:  1.219546171331098\n",
      "Time = 1022 days:  2.8915648373471052\n"
     ]
    }
   ],
   "source": [
    "# Predict the value at a certain point\n",
    "print('Time = 500 days: ', naf.predict(500))\n",
    "print('Time = 1022 days: ', naf.predict(1022))"
   ]
  },
  {
   "cell_type": "markdown",
   "metadata": {},
   "source": [
    "## Table of cumulative hazard probabilities with confidence interval"
   ]
  },
  {
   "cell_type": "code",
   "execution_count": 36,
   "metadata": {},
   "outputs": [
    {
     "data": {
      "text/html": [
       "<div>\n",
       "<style scoped>\n",
       "    .dataframe tbody tr th:only-of-type {\n",
       "        vertical-align: middle;\n",
       "    }\n",
       "\n",
       "    .dataframe tbody tr th {\n",
       "        vertical-align: top;\n",
       "    }\n",
       "\n",
       "    .dataframe thead th {\n",
       "        text-align: right;\n",
       "    }\n",
       "</style>\n",
       "<table border=\"1\" class=\"dataframe\">\n",
       "  <thead>\n",
       "    <tr style=\"text-align: right;\">\n",
       "      <th></th>\n",
       "      <th>NA_estimate_lower_0.95</th>\n",
       "      <th>NA_estimate_upper_0.95</th>\n",
       "    </tr>\n",
       "  </thead>\n",
       "  <tbody>\n",
       "    <tr>\n",
       "      <th>0.0</th>\n",
       "      <td>0.000000</td>\n",
       "      <td>0.000000</td>\n",
       "    </tr>\n",
       "    <tr>\n",
       "      <th>5.0</th>\n",
       "      <td>0.000618</td>\n",
       "      <td>0.031136</td>\n",
       "    </tr>\n",
       "    <tr>\n",
       "      <th>11.0</th>\n",
       "      <td>0.006628</td>\n",
       "      <td>0.047055</td>\n",
       "    </tr>\n",
       "    <tr>\n",
       "      <th>12.0</th>\n",
       "      <td>0.009209</td>\n",
       "      <td>0.053156</td>\n",
       "    </tr>\n",
       "    <tr>\n",
       "      <th>13.0</th>\n",
       "      <td>0.014832</td>\n",
       "      <td>0.065266</td>\n",
       "    </tr>\n",
       "    <tr>\n",
       "      <th>...</th>\n",
       "      <td>...</td>\n",
       "      <td>...</td>\n",
       "    </tr>\n",
       "    <tr>\n",
       "      <th>840.0</th>\n",
       "      <td>2.058738</td>\n",
       "      <td>3.389389</td>\n",
       "    </tr>\n",
       "    <tr>\n",
       "      <th>883.0</th>\n",
       "      <td>2.176987</td>\n",
       "      <td>3.840697</td>\n",
       "    </tr>\n",
       "    <tr>\n",
       "      <th>965.0</th>\n",
       "      <td>2.176987</td>\n",
       "      <td>3.840697</td>\n",
       "    </tr>\n",
       "    <tr>\n",
       "      <th>1010.0</th>\n",
       "      <td>2.176987</td>\n",
       "      <td>3.840697</td>\n",
       "    </tr>\n",
       "    <tr>\n",
       "      <th>1022.0</th>\n",
       "      <td>2.176987</td>\n",
       "      <td>3.840697</td>\n",
       "    </tr>\n",
       "  </tbody>\n",
       "</table>\n",
       "<p>187 rows × 2 columns</p>\n",
       "</div>"
      ],
      "text/plain": [
       "        NA_estimate_lower_0.95  NA_estimate_upper_0.95\n",
       "0.0                   0.000000                0.000000\n",
       "5.0                   0.000618                0.031136\n",
       "11.0                  0.006628                0.047055\n",
       "12.0                  0.009209                0.053156\n",
       "13.0                  0.014832                0.065266\n",
       "...                        ...                     ...\n",
       "840.0                 2.058738                3.389389\n",
       "883.0                 2.176987                3.840697\n",
       "965.0                 2.176987                3.840697\n",
       "1010.0                2.176987                3.840697\n",
       "1022.0                2.176987                3.840697\n",
       "\n",
       "[187 rows x 2 columns]"
      ]
     },
     "execution_count": 36,
     "metadata": {},
     "output_type": "execute_result"
    }
   ],
   "source": [
    "# Cumulative hazard with confidence interval\n",
    "naf.confidence_interval_"
   ]
  },
  {
   "cell_type": "markdown",
   "metadata": {},
   "source": [
    "## Plot of cumulative hazard probability with confidence interval"
   ]
  },
  {
   "cell_type": "code",
   "execution_count": 19,
   "metadata": {},
   "outputs": [
    {
     "data": {
      "image/png": "[encoded data removed]",
      "text/plain": [
       "<Figure size 432x288 with 1 Axes>"
      ]
     },
     "metadata": {
      "needs_background": "light"
     },
     "output_type": "display_data"
    }
   ],
   "source": [
    "# Plot cumulative hazard rate with confidence interval\n",
    "confidence_interval = naf.confidence_interval_\n",
    "\n",
    "plt.plot(confidence_interval[\"NA_estimate_lower_0.95\"], label='Lower')\n",
    "plt.plot(confidence_interval[\"NA_estimate_upper_0.95\"], label='Upper')\n",
    "plt.title('Cumlative Hazard with Confidence Interval')\n",
    "plt.xlabel('Number of Days')\n",
    "plt.ylabel('Cumulative Hazard Rate')\n",
    "plt.legend()\n",
    "plt.savefig('plots/naf_ci_plot')"
   ]
  },
  {
   "cell_type": "markdown",
   "metadata": {},
   "source": [
    "## Plot Cumulative Hazard vs. Cumulative Density"
   ]
  },
  {
   "cell_type": "code",
   "execution_count": 20,
   "metadata": {},
   "outputs": [
    {
     "data": {
      "image/png": "[encoded data removed]",
      "text/plain": [
       "<Figure size 432x288 with 1 Axes>"
      ]
     },
     "metadata": {
      "needs_background": "light"
     },
     "output_type": "display_data"
    }
   ],
   "source": [
    "# Plot cumulative hazard vs cumultive density\n",
    "kmf.plot_cumulative_density(label='Cumulative Density')\n",
    "naf.plot_cumulative_hazard(label='Cumulative Hazard')\n",
    "plt.title('Cumulative Hazard vs. Cumulative Density')\n",
    "plt.xlabel('Number of Days')\n",
    "plt.savefig('plots/naf_vs_kmf_plot')"
   ]
  },
  {
   "cell_type": "markdown",
   "metadata": {},
   "source": [
    "## Kaplan-Meier Estimator with Groups\n",
    "### Determine if there is any difference in survival probability if we divide our data into groups based on certain criteria.\n",
    "### Here, the data are divided into two groups based on sex:\n",
    "1. Male\n",
    "2. Female"
   ]
  },
  {
   "cell_type": "markdown",
   "metadata": {},
   "source": [
    "### Create Kaplan-Meier Fitter objects for each group"
   ]
  },
  {
   "cell_type": "code",
   "execution_count": 22,
   "metadata": {},
   "outputs": [],
   "source": [
    "# Create two objects, one for male group and one for female group\n",
    "\n",
    "#kmf_m for male data\n",
    "kmf_m = KaplanMeierFitter()\n",
    "kmf_f = KaplanMeierFitter()"
   ]
  },
  {
   "cell_type": "markdown",
   "metadata": {},
   "source": [
    "### Divide data into two groups"
   ]
  },
  {
   "cell_type": "code",
   "execution_count": 23,
   "metadata": {},
   "outputs": [],
   "source": [
    "# Divide data\n",
    "male_df = df.query('sex == 1')\n",
    "female_df = df.query('sex == 2')"
   ]
  },
  {
   "cell_type": "code",
   "execution_count": 24,
   "metadata": {},
   "outputs": [
    {
     "data": {
      "text/html": [
       "<div>\n",
       "<style scoped>\n",
       "    .dataframe tbody tr th:only-of-type {\n",
       "        vertical-align: middle;\n",
       "    }\n",
       "\n",
       "    .dataframe tbody tr th {\n",
       "        vertical-align: top;\n",
       "    }\n",
       "\n",
       "    .dataframe thead th {\n",
       "        text-align: right;\n",
       "    }\n",
       "</style>\n",
       "<table border=\"1\" class=\"dataframe\">\n",
       "  <thead>\n",
       "    <tr style=\"text-align: right;\">\n",
       "      <th></th>\n",
       "      <th>Unnamed: 0</th>\n",
       "      <th>inst</th>\n",
       "      <th>time</th>\n",
       "      <th>status</th>\n",
       "      <th>age</th>\n",
       "      <th>sex</th>\n",
       "      <th>ph.ecog</th>\n",
       "      <th>ph.karno</th>\n",
       "      <th>pat.karno</th>\n",
       "      <th>meal.cal</th>\n",
       "      <th>wt.loss</th>\n",
       "      <th>is.dead</th>\n",
       "    </tr>\n",
       "  </thead>\n",
       "  <tbody>\n",
       "    <tr>\n",
       "      <th>0</th>\n",
       "      <td>1</td>\n",
       "      <td>3.0</td>\n",
       "      <td>306</td>\n",
       "      <td>2</td>\n",
       "      <td>74</td>\n",
       "      <td>1</td>\n",
       "      <td>1.0</td>\n",
       "      <td>90.0</td>\n",
       "      <td>100.0</td>\n",
       "      <td>1175.0</td>\n",
       "      <td>NaN</td>\n",
       "      <td>1.0</td>\n",
       "    </tr>\n",
       "    <tr>\n",
       "      <th>1</th>\n",
       "      <td>2</td>\n",
       "      <td>3.0</td>\n",
       "      <td>455</td>\n",
       "      <td>2</td>\n",
       "      <td>68</td>\n",
       "      <td>1</td>\n",
       "      <td>0.0</td>\n",
       "      <td>90.0</td>\n",
       "      <td>90.0</td>\n",
       "      <td>1225.0</td>\n",
       "      <td>15.0</td>\n",
       "      <td>1.0</td>\n",
       "    </tr>\n",
       "    <tr>\n",
       "      <th>2</th>\n",
       "      <td>3</td>\n",
       "      <td>3.0</td>\n",
       "      <td>1010</td>\n",
       "      <td>1</td>\n",
       "      <td>56</td>\n",
       "      <td>1</td>\n",
       "      <td>0.0</td>\n",
       "      <td>90.0</td>\n",
       "      <td>90.0</td>\n",
       "      <td>NaN</td>\n",
       "      <td>15.0</td>\n",
       "      <td>0.0</td>\n",
       "    </tr>\n",
       "    <tr>\n",
       "      <th>3</th>\n",
       "      <td>4</td>\n",
       "      <td>5.0</td>\n",
       "      <td>210</td>\n",
       "      <td>2</td>\n",
       "      <td>57</td>\n",
       "      <td>1</td>\n",
       "      <td>1.0</td>\n",
       "      <td>90.0</td>\n",
       "      <td>60.0</td>\n",
       "      <td>1150.0</td>\n",
       "      <td>11.0</td>\n",
       "      <td>1.0</td>\n",
       "    </tr>\n",
       "    <tr>\n",
       "      <th>4</th>\n",
       "      <td>5</td>\n",
       "      <td>1.0</td>\n",
       "      <td>883</td>\n",
       "      <td>2</td>\n",
       "      <td>60</td>\n",
       "      <td>1</td>\n",
       "      <td>0.0</td>\n",
       "      <td>100.0</td>\n",
       "      <td>90.0</td>\n",
       "      <td>NaN</td>\n",
       "      <td>0.0</td>\n",
       "      <td>1.0</td>\n",
       "    </tr>\n",
       "  </tbody>\n",
       "</table>\n",
       "</div>"
      ],
      "text/plain": [
       "   Unnamed: 0  inst  time  status  age  sex  ph.ecog  ph.karno  pat.karno  \\\n",
       "0           1   3.0   306       2   74    1      1.0      90.0      100.0   \n",
       "1           2   3.0   455       2   68    1      0.0      90.0       90.0   \n",
       "2           3   3.0  1010       1   56    1      0.0      90.0       90.0   \n",
       "3           4   5.0   210       2   57    1      1.0      90.0       60.0   \n",
       "4           5   1.0   883       2   60    1      0.0     100.0       90.0   \n",
       "\n",
       "   meal.cal  wt.loss  is.dead  \n",
       "0    1175.0      NaN      1.0  \n",
       "1    1225.0     15.0      1.0  \n",
       "2       NaN     15.0      0.0  \n",
       "3    1150.0     11.0      1.0  \n",
       "4       NaN      0.0      1.0  "
      ]
     },
     "execution_count": 24,
     "metadata": {},
     "output_type": "execute_result"
    }
   ],
   "source": [
    "# Inspect male data\n",
    "male_df.head()"
   ]
  },
  {
   "cell_type": "code",
   "execution_count": 25,
   "metadata": {},
   "outputs": [
    {
     "data": {
      "text/html": [
       "<div>\n",
       "<style scoped>\n",
       "    .dataframe tbody tr th:only-of-type {\n",
       "        vertical-align: middle;\n",
       "    }\n",
       "\n",
       "    .dataframe tbody tr th {\n",
       "        vertical-align: top;\n",
       "    }\n",
       "\n",
       "    .dataframe thead th {\n",
       "        text-align: right;\n",
       "    }\n",
       "</style>\n",
       "<table border=\"1\" class=\"dataframe\">\n",
       "  <thead>\n",
       "    <tr style=\"text-align: right;\">\n",
       "      <th></th>\n",
       "      <th>Unnamed: 0</th>\n",
       "      <th>inst</th>\n",
       "      <th>time</th>\n",
       "      <th>status</th>\n",
       "      <th>age</th>\n",
       "      <th>sex</th>\n",
       "      <th>ph.ecog</th>\n",
       "      <th>ph.karno</th>\n",
       "      <th>pat.karno</th>\n",
       "      <th>meal.cal</th>\n",
       "      <th>wt.loss</th>\n",
       "      <th>is.dead</th>\n",
       "    </tr>\n",
       "  </thead>\n",
       "  <tbody>\n",
       "    <tr>\n",
       "      <th>6</th>\n",
       "      <td>7</td>\n",
       "      <td>7.0</td>\n",
       "      <td>310</td>\n",
       "      <td>2</td>\n",
       "      <td>68</td>\n",
       "      <td>2</td>\n",
       "      <td>2.0</td>\n",
       "      <td>70.0</td>\n",
       "      <td>60.0</td>\n",
       "      <td>384.0</td>\n",
       "      <td>10.0</td>\n",
       "      <td>1.0</td>\n",
       "    </tr>\n",
       "    <tr>\n",
       "      <th>7</th>\n",
       "      <td>8</td>\n",
       "      <td>11.0</td>\n",
       "      <td>361</td>\n",
       "      <td>2</td>\n",
       "      <td>71</td>\n",
       "      <td>2</td>\n",
       "      <td>2.0</td>\n",
       "      <td>60.0</td>\n",
       "      <td>80.0</td>\n",
       "      <td>538.0</td>\n",
       "      <td>1.0</td>\n",
       "      <td>1.0</td>\n",
       "    </tr>\n",
       "    <tr>\n",
       "      <th>11</th>\n",
       "      <td>12</td>\n",
       "      <td>16.0</td>\n",
       "      <td>654</td>\n",
       "      <td>2</td>\n",
       "      <td>68</td>\n",
       "      <td>2</td>\n",
       "      <td>2.0</td>\n",
       "      <td>70.0</td>\n",
       "      <td>70.0</td>\n",
       "      <td>NaN</td>\n",
       "      <td>23.0</td>\n",
       "      <td>1.0</td>\n",
       "    </tr>\n",
       "    <tr>\n",
       "      <th>12</th>\n",
       "      <td>13</td>\n",
       "      <td>11.0</td>\n",
       "      <td>728</td>\n",
       "      <td>2</td>\n",
       "      <td>68</td>\n",
       "      <td>2</td>\n",
       "      <td>1.0</td>\n",
       "      <td>90.0</td>\n",
       "      <td>90.0</td>\n",
       "      <td>NaN</td>\n",
       "      <td>5.0</td>\n",
       "      <td>1.0</td>\n",
       "    </tr>\n",
       "    <tr>\n",
       "      <th>18</th>\n",
       "      <td>19</td>\n",
       "      <td>1.0</td>\n",
       "      <td>61</td>\n",
       "      <td>2</td>\n",
       "      <td>56</td>\n",
       "      <td>2</td>\n",
       "      <td>2.0</td>\n",
       "      <td>60.0</td>\n",
       "      <td>60.0</td>\n",
       "      <td>238.0</td>\n",
       "      <td>10.0</td>\n",
       "      <td>1.0</td>\n",
       "    </tr>\n",
       "  </tbody>\n",
       "</table>\n",
       "</div>"
      ],
      "text/plain": [
       "    Unnamed: 0  inst  time  status  age  sex  ph.ecog  ph.karno  pat.karno  \\\n",
       "6            7   7.0   310       2   68    2      2.0      70.0       60.0   \n",
       "7            8  11.0   361       2   71    2      2.0      60.0       80.0   \n",
       "11          12  16.0   654       2   68    2      2.0      70.0       70.0   \n",
       "12          13  11.0   728       2   68    2      1.0      90.0       90.0   \n",
       "18          19   1.0    61       2   56    2      2.0      60.0       60.0   \n",
       "\n",
       "    meal.cal  wt.loss  is.dead  \n",
       "6      384.0     10.0      1.0  \n",
       "7      538.0      1.0      1.0  \n",
       "11       NaN     23.0      1.0  \n",
       "12       NaN      5.0      1.0  \n",
       "18     238.0     10.0      1.0  "
      ]
     },
     "execution_count": 25,
     "metadata": {},
     "output_type": "execute_result"
    }
   ],
   "source": [
    "# Inspect female data\n",
    "female_df.head()"
   ]
  },
  {
   "cell_type": "code",
   "execution_count": 26,
   "metadata": {},
   "outputs": [],
   "source": [
    "# Fit data into objects\n",
    "male_kmf = kmf_m.fit(durations=male_df['time'], event_observed=male_df['is.dead'], label='Male')\n",
    "female_kmf = kmf_f.fit(durations=female_df['time'], event_observed=female_df['is.dead'], label='Female')"
   ]
  },
  {
   "cell_type": "markdown",
   "metadata": {},
   "source": [
    "### Male group event table"
   ]
  },
  {
   "cell_type": "code",
   "execution_count": 27,
   "metadata": {},
   "outputs": [
    {
     "data": {
      "text/html": [
       "<div>\n",
       "<style scoped>\n",
       "    .dataframe tbody tr th:only-of-type {\n",
       "        vertical-align: middle;\n",
       "    }\n",
       "\n",
       "    .dataframe tbody tr th {\n",
       "        vertical-align: top;\n",
       "    }\n",
       "\n",
       "    .dataframe thead th {\n",
       "        text-align: right;\n",
       "    }\n",
       "</style>\n",
       "<table border=\"1\" class=\"dataframe\">\n",
       "  <thead>\n",
       "    <tr style=\"text-align: right;\">\n",
       "      <th></th>\n",
       "      <th>removed</th>\n",
       "      <th>observed</th>\n",
       "      <th>censored</th>\n",
       "      <th>entrance</th>\n",
       "      <th>at_risk</th>\n",
       "    </tr>\n",
       "    <tr>\n",
       "      <th>event_at</th>\n",
       "      <th></th>\n",
       "      <th></th>\n",
       "      <th></th>\n",
       "      <th></th>\n",
       "      <th></th>\n",
       "    </tr>\n",
       "  </thead>\n",
       "  <tbody>\n",
       "    <tr>\n",
       "      <th>0.0</th>\n",
       "      <td>0</td>\n",
       "      <td>0</td>\n",
       "      <td>0</td>\n",
       "      <td>138</td>\n",
       "      <td>138</td>\n",
       "    </tr>\n",
       "    <tr>\n",
       "      <th>11.0</th>\n",
       "      <td>3</td>\n",
       "      <td>3</td>\n",
       "      <td>0</td>\n",
       "      <td>0</td>\n",
       "      <td>138</td>\n",
       "    </tr>\n",
       "    <tr>\n",
       "      <th>12.0</th>\n",
       "      <td>1</td>\n",
       "      <td>1</td>\n",
       "      <td>0</td>\n",
       "      <td>0</td>\n",
       "      <td>135</td>\n",
       "    </tr>\n",
       "    <tr>\n",
       "      <th>13.0</th>\n",
       "      <td>2</td>\n",
       "      <td>2</td>\n",
       "      <td>0</td>\n",
       "      <td>0</td>\n",
       "      <td>134</td>\n",
       "    </tr>\n",
       "    <tr>\n",
       "      <th>15.0</th>\n",
       "      <td>1</td>\n",
       "      <td>1</td>\n",
       "      <td>0</td>\n",
       "      <td>0</td>\n",
       "      <td>132</td>\n",
       "    </tr>\n",
       "    <tr>\n",
       "      <th>...</th>\n",
       "      <td>...</td>\n",
       "      <td>...</td>\n",
       "      <td>...</td>\n",
       "      <td>...</td>\n",
       "      <td>...</td>\n",
       "    </tr>\n",
       "    <tr>\n",
       "      <th>814.0</th>\n",
       "      <td>1</td>\n",
       "      <td>1</td>\n",
       "      <td>0</td>\n",
       "      <td>0</td>\n",
       "      <td>5</td>\n",
       "    </tr>\n",
       "    <tr>\n",
       "      <th>840.0</th>\n",
       "      <td>1</td>\n",
       "      <td>0</td>\n",
       "      <td>1</td>\n",
       "      <td>0</td>\n",
       "      <td>4</td>\n",
       "    </tr>\n",
       "    <tr>\n",
       "      <th>883.0</th>\n",
       "      <td>1</td>\n",
       "      <td>1</td>\n",
       "      <td>0</td>\n",
       "      <td>0</td>\n",
       "      <td>3</td>\n",
       "    </tr>\n",
       "    <tr>\n",
       "      <th>1010.0</th>\n",
       "      <td>1</td>\n",
       "      <td>0</td>\n",
       "      <td>1</td>\n",
       "      <td>0</td>\n",
       "      <td>2</td>\n",
       "    </tr>\n",
       "    <tr>\n",
       "      <th>1022.0</th>\n",
       "      <td>1</td>\n",
       "      <td>0</td>\n",
       "      <td>1</td>\n",
       "      <td>0</td>\n",
       "      <td>1</td>\n",
       "    </tr>\n",
       "  </tbody>\n",
       "</table>\n",
       "<p>120 rows × 5 columns</p>\n",
       "</div>"
      ],
      "text/plain": [
       "          removed  observed  censored  entrance  at_risk\n",
       "event_at                                                \n",
       "0.0             0         0         0       138      138\n",
       "11.0            3         3         0         0      138\n",
       "12.0            1         1         0         0      135\n",
       "13.0            2         2         0         0      134\n",
       "15.0            1         1         0         0      132\n",
       "...           ...       ...       ...       ...      ...\n",
       "814.0           1         1         0         0        5\n",
       "840.0           1         0         1         0        4\n",
       "883.0           1         1         0         0        3\n",
       "1010.0          1         0         1         0        2\n",
       "1022.0          1         0         1         0        1\n",
       "\n",
       "[120 rows x 5 columns]"
      ]
     },
     "execution_count": 27,
     "metadata": {},
     "output_type": "execute_result"
    }
   ],
   "source": [
    "# Event table for male group\n",
    "male_kmf.event_table"
   ]
  },
  {
   "cell_type": "markdown",
   "metadata": {},
   "source": [
    "### Female group event table"
   ]
  },
  {
   "cell_type": "code",
   "execution_count": 28,
   "metadata": {},
   "outputs": [
    {
     "data": {
      "text/html": [
       "<div>\n",
       "<style scoped>\n",
       "    .dataframe tbody tr th:only-of-type {\n",
       "        vertical-align: middle;\n",
       "    }\n",
       "\n",
       "    .dataframe tbody tr th {\n",
       "        vertical-align: top;\n",
       "    }\n",
       "\n",
       "    .dataframe thead th {\n",
       "        text-align: right;\n",
       "    }\n",
       "</style>\n",
       "<table border=\"1\" class=\"dataframe\">\n",
       "  <thead>\n",
       "    <tr style=\"text-align: right;\">\n",
       "      <th></th>\n",
       "      <th>removed</th>\n",
       "      <th>observed</th>\n",
       "      <th>censored</th>\n",
       "      <th>entrance</th>\n",
       "      <th>at_risk</th>\n",
       "    </tr>\n",
       "    <tr>\n",
       "      <th>event_at</th>\n",
       "      <th></th>\n",
       "      <th></th>\n",
       "      <th></th>\n",
       "      <th></th>\n",
       "      <th></th>\n",
       "    </tr>\n",
       "  </thead>\n",
       "  <tbody>\n",
       "    <tr>\n",
       "      <th>0.0</th>\n",
       "      <td>0</td>\n",
       "      <td>0</td>\n",
       "      <td>0</td>\n",
       "      <td>90</td>\n",
       "      <td>90</td>\n",
       "    </tr>\n",
       "    <tr>\n",
       "      <th>5.0</th>\n",
       "      <td>1</td>\n",
       "      <td>1</td>\n",
       "      <td>0</td>\n",
       "      <td>0</td>\n",
       "      <td>90</td>\n",
       "    </tr>\n",
       "    <tr>\n",
       "      <th>60.0</th>\n",
       "      <td>1</td>\n",
       "      <td>1</td>\n",
       "      <td>0</td>\n",
       "      <td>0</td>\n",
       "      <td>89</td>\n",
       "    </tr>\n",
       "    <tr>\n",
       "      <th>61.0</th>\n",
       "      <td>1</td>\n",
       "      <td>1</td>\n",
       "      <td>0</td>\n",
       "      <td>0</td>\n",
       "      <td>88</td>\n",
       "    </tr>\n",
       "    <tr>\n",
       "      <th>62.0</th>\n",
       "      <td>1</td>\n",
       "      <td>1</td>\n",
       "      <td>0</td>\n",
       "      <td>0</td>\n",
       "      <td>87</td>\n",
       "    </tr>\n",
       "    <tr>\n",
       "      <th>...</th>\n",
       "      <td>...</td>\n",
       "      <td>...</td>\n",
       "      <td>...</td>\n",
       "      <td>...</td>\n",
       "      <td>...</td>\n",
       "    </tr>\n",
       "    <tr>\n",
       "      <th>735.0</th>\n",
       "      <td>1</td>\n",
       "      <td>1</td>\n",
       "      <td>0</td>\n",
       "      <td>0</td>\n",
       "      <td>5</td>\n",
       "    </tr>\n",
       "    <tr>\n",
       "      <th>740.0</th>\n",
       "      <td>1</td>\n",
       "      <td>0</td>\n",
       "      <td>1</td>\n",
       "      <td>0</td>\n",
       "      <td>4</td>\n",
       "    </tr>\n",
       "    <tr>\n",
       "      <th>765.0</th>\n",
       "      <td>1</td>\n",
       "      <td>1</td>\n",
       "      <td>0</td>\n",
       "      <td>0</td>\n",
       "      <td>3</td>\n",
       "    </tr>\n",
       "    <tr>\n",
       "      <th>821.0</th>\n",
       "      <td>1</td>\n",
       "      <td>0</td>\n",
       "      <td>1</td>\n",
       "      <td>0</td>\n",
       "      <td>2</td>\n",
       "    </tr>\n",
       "    <tr>\n",
       "      <th>965.0</th>\n",
       "      <td>1</td>\n",
       "      <td>0</td>\n",
       "      <td>1</td>\n",
       "      <td>0</td>\n",
       "      <td>1</td>\n",
       "    </tr>\n",
       "  </tbody>\n",
       "</table>\n",
       "<p>88 rows × 5 columns</p>\n",
       "</div>"
      ],
      "text/plain": [
       "          removed  observed  censored  entrance  at_risk\n",
       "event_at                                                \n",
       "0.0             0         0         0        90       90\n",
       "5.0             1         1         0         0       90\n",
       "60.0            1         1         0         0       89\n",
       "61.0            1         1         0         0       88\n",
       "62.0            1         1         0         0       87\n",
       "...           ...       ...       ...       ...      ...\n",
       "735.0           1         1         0         0        5\n",
       "740.0           1         0         1         0        4\n",
       "765.0           1         1         0         0        3\n",
       "821.0           1         0         1         0        2\n",
       "965.0           1         0         1         0        1\n",
       "\n",
       "[88 rows x 5 columns]"
      ]
     },
     "execution_count": 28,
     "metadata": {},
     "output_type": "execute_result"
    }
   ],
   "source": [
    "# Event table for female group\n",
    "female_kmf.event_table"
   ]
  },
  {
   "cell_type": "markdown",
   "metadata": {},
   "source": [
    "### Predicting survival probabilities"
   ]
  },
  {
   "cell_type": "code",
   "execution_count": 29,
   "metadata": {},
   "outputs": [
    {
     "name": "stdout",
     "output_type": "stream",
     "text": [
      "Male survival probability at 11 days:  0.9782608695652172\n",
      "Female survival probability at 11 days:  0.9888888888888887\n"
     ]
    }
   ],
   "source": [
    "# Predict value based on time\n",
    "print('Male survival probability at 11 days: ', kmf_m.predict(11))\n",
    "print('Female survival probability at 11 days: ', kmf_f.predict(11))"
   ]
  },
  {
   "cell_type": "code",
   "execution_count": 30,
   "metadata": {},
   "outputs": [],
   "source": [
    "# calculte survival probability for entire data set in group\n",
    "kmf_male_survival_rates = kmf_m.survival_function_\n",
    "kmf_female_survival_rates = kmf_f.survival_function_"
   ]
  },
  {
   "cell_type": "code",
   "execution_count": 31,
   "metadata": {},
   "outputs": [
    {
     "data": {
      "image/png": "[encoded data removed]",
      "text/plain": [
       "<Figure size 432x288 with 1 Axes>"
      ]
     },
     "metadata": {
      "needs_background": "light"
     },
     "output_type": "display_data"
    }
   ],
   "source": [
    "### Plot survival probabilities\n",
    "kmf_m.plot()\n",
    "kmf_f.plot()\n",
    "\n",
    "plt.title('Survival Rates by Group')\n",
    "plt.xlabel('Days Passed')\n",
    "plt.ylabel('Survival Probability')\n",
    "plt.savefig('plots/survival_rates_by_sex_plot')"
   ]
  },
  {
   "cell_type": "markdown",
   "metadata": {},
   "source": [
    "Above, we can see that female lung cancer patients have a higher probability of surviving lung cancer than men. This information can be used to inform future research and policies."
   ]
  },
  {
   "cell_type": "markdown",
   "metadata": {},
   "source": [
    "## Cumlative Densities by Group"
   ]
  },
  {
   "cell_type": "code",
   "execution_count": 67,
   "metadata": {},
   "outputs": [
    {
     "data": {
      "text/html": [
       "<div>\n",
       "<style scoped>\n",
       "    .dataframe tbody tr th:only-of-type {\n",
       "        vertical-align: middle;\n",
       "    }\n",
       "\n",
       "    .dataframe tbody tr th {\n",
       "        vertical-align: top;\n",
       "    }\n",
       "\n",
       "    .dataframe thead th {\n",
       "        text-align: right;\n",
       "    }\n",
       "</style>\n",
       "<table border=\"1\" class=\"dataframe\">\n",
       "  <thead>\n",
       "    <tr style=\"text-align: right;\">\n",
       "      <th></th>\n",
       "      <th>Male</th>\n",
       "    </tr>\n",
       "    <tr>\n",
       "      <th>timeline</th>\n",
       "      <th></th>\n",
       "    </tr>\n",
       "  </thead>\n",
       "  <tbody>\n",
       "    <tr>\n",
       "      <th>0.0</th>\n",
       "      <td>0.000000</td>\n",
       "    </tr>\n",
       "    <tr>\n",
       "      <th>11.0</th>\n",
       "      <td>0.021739</td>\n",
       "    </tr>\n",
       "    <tr>\n",
       "      <th>12.0</th>\n",
       "      <td>0.028986</td>\n",
       "    </tr>\n",
       "    <tr>\n",
       "      <th>13.0</th>\n",
       "      <td>0.043478</td>\n",
       "    </tr>\n",
       "    <tr>\n",
       "      <th>15.0</th>\n",
       "      <td>0.050725</td>\n",
       "    </tr>\n",
       "    <tr>\n",
       "      <th>...</th>\n",
       "      <td>...</td>\n",
       "    </tr>\n",
       "    <tr>\n",
       "      <th>814.0</th>\n",
       "      <td>0.946429</td>\n",
       "    </tr>\n",
       "    <tr>\n",
       "      <th>840.0</th>\n",
       "      <td>0.946429</td>\n",
       "    </tr>\n",
       "    <tr>\n",
       "      <th>883.0</th>\n",
       "      <td>0.964286</td>\n",
       "    </tr>\n",
       "    <tr>\n",
       "      <th>1010.0</th>\n",
       "      <td>0.964286</td>\n",
       "    </tr>\n",
       "    <tr>\n",
       "      <th>1022.0</th>\n",
       "      <td>0.964286</td>\n",
       "    </tr>\n",
       "  </tbody>\n",
       "</table>\n",
       "<p>120 rows × 1 columns</p>\n",
       "</div>"
      ],
      "text/plain": [
       "              Male\n",
       "timeline          \n",
       "0.0       0.000000\n",
       "11.0      0.021739\n",
       "12.0      0.028986\n",
       "13.0      0.043478\n",
       "15.0      0.050725\n",
       "...            ...\n",
       "814.0     0.946429\n",
       "840.0     0.946429\n",
       "883.0     0.964286\n",
       "1010.0    0.964286\n",
       "1022.0    0.964286\n",
       "\n",
       "[120 rows x 1 columns]"
      ]
     },
     "execution_count": 67,
     "metadata": {},
     "output_type": "execute_result"
    }
   ],
   "source": [
    "# # Cumlative density for male group\n",
    "kmf_m.cumulative_density_"
   ]
  },
  {
   "cell_type": "code",
   "execution_count": 68,
   "metadata": {},
   "outputs": [
    {
     "data": {
      "text/html": [
       "<div>\n",
       "<style scoped>\n",
       "    .dataframe tbody tr th:only-of-type {\n",
       "        vertical-align: middle;\n",
       "    }\n",
       "\n",
       "    .dataframe tbody tr th {\n",
       "        vertical-align: top;\n",
       "    }\n",
       "\n",
       "    .dataframe thead th {\n",
       "        text-align: right;\n",
       "    }\n",
       "</style>\n",
       "<table border=\"1\" class=\"dataframe\">\n",
       "  <thead>\n",
       "    <tr style=\"text-align: right;\">\n",
       "      <th></th>\n",
       "      <th>Female</th>\n",
       "    </tr>\n",
       "    <tr>\n",
       "      <th>timeline</th>\n",
       "      <th></th>\n",
       "    </tr>\n",
       "  </thead>\n",
       "  <tbody>\n",
       "    <tr>\n",
       "      <th>0.0</th>\n",
       "      <td>0.000000</td>\n",
       "    </tr>\n",
       "    <tr>\n",
       "      <th>5.0</th>\n",
       "      <td>0.011111</td>\n",
       "    </tr>\n",
       "    <tr>\n",
       "      <th>60.0</th>\n",
       "      <td>0.022222</td>\n",
       "    </tr>\n",
       "    <tr>\n",
       "      <th>61.0</th>\n",
       "      <td>0.033333</td>\n",
       "    </tr>\n",
       "    <tr>\n",
       "      <th>62.0</th>\n",
       "      <td>0.044444</td>\n",
       "    </tr>\n",
       "    <tr>\n",
       "      <th>...</th>\n",
       "      <td>...</td>\n",
       "    </tr>\n",
       "    <tr>\n",
       "      <th>735.0</th>\n",
       "      <td>0.875178</td>\n",
       "    </tr>\n",
       "    <tr>\n",
       "      <th>740.0</th>\n",
       "      <td>0.875178</td>\n",
       "    </tr>\n",
       "    <tr>\n",
       "      <th>765.0</th>\n",
       "      <td>0.916786</td>\n",
       "    </tr>\n",
       "    <tr>\n",
       "      <th>821.0</th>\n",
       "      <td>0.916786</td>\n",
       "    </tr>\n",
       "    <tr>\n",
       "      <th>965.0</th>\n",
       "      <td>0.916786</td>\n",
       "    </tr>\n",
       "  </tbody>\n",
       "</table>\n",
       "<p>88 rows × 1 columns</p>\n",
       "</div>"
      ],
      "text/plain": [
       "            Female\n",
       "timeline          \n",
       "0.0       0.000000\n",
       "5.0       0.011111\n",
       "60.0      0.022222\n",
       "61.0      0.033333\n",
       "62.0      0.044444\n",
       "...            ...\n",
       "735.0     0.875178\n",
       "740.0     0.875178\n",
       "765.0     0.916786\n",
       "821.0     0.916786\n",
       "965.0     0.916786\n",
       "\n",
       "[88 rows x 1 columns]"
      ]
     },
     "execution_count": 68,
     "metadata": {},
     "output_type": "execute_result"
    }
   ],
   "source": [
    "# Cumulative density for female group\n",
    "kmf_f.cumulative_density_"
   ]
  },
  {
   "cell_type": "markdown",
   "metadata": {},
   "source": [
    "## Plot Group Cumulative Densities"
   ]
  },
  {
   "cell_type": "code",
   "execution_count": 33,
   "metadata": {},
   "outputs": [
    {
     "data": {
      "image/png": "[encoded data removed]",
      "text/plain": [
       "<Figure size 432x288 with 1 Axes>"
      ]
     },
     "metadata": {
      "needs_background": "light"
     },
     "output_type": "display_data"
    }
   ],
   "source": [
    "# Plot cumulative density for each group\n",
    "kmf_m.plot_cumulative_density()\n",
    "kmf_f.plot_cumulative_density()\n",
    "plt.title('Cumulative Density')\n",
    "plt.xlabel('Number of Days')\n",
    "plt.ylabel('Probability')\n",
    "plt.legend()\n",
    "plt.savefig('plots/cumulative_density_by_sex_plot')"
   ]
  },
  {
   "cell_type": "markdown",
   "metadata": {},
   "source": [
    "## Hazard Function\n",
    "\n",
    "Create objects for each group and fit relevant data"
   ]
  },
  {
   "cell_type": "code",
   "execution_count": 35,
   "metadata": {},
   "outputs": [
    {
     "data": {
      "text/plain": [
       "<lifelines.NelsonAalenFitter:\"NA_estimate\", fitted with 90 total observations, 37 right-censored observations>"
      ]
     },
     "execution_count": 35,
     "metadata": {},
     "output_type": "execute_result"
    }
   ],
   "source": [
    "# Create objects\n",
    "naf_m = NelsonAalenFitter()\n",
    "naf_f = NelsonAalenFitter()\n",
    "\n",
    "# Fit data\n",
    "naf_m.fit(male_df['time'], event_observed=male_df['is.dead'])\n",
    "naf_f.fit(female_df['time'], event_observed=female_df['is.dead'])"
   ]
  },
  {
   "cell_type": "markdown",
   "metadata": {},
   "source": [
    "## Cumulative Hazard Probability"
   ]
  },
  {
   "cell_type": "code",
   "execution_count": 36,
   "metadata": {},
   "outputs": [
    {
     "data": {
      "text/html": [
       "<div>\n",
       "<style scoped>\n",
       "    .dataframe tbody tr th:only-of-type {\n",
       "        vertical-align: middle;\n",
       "    }\n",
       "\n",
       "    .dataframe tbody tr th {\n",
       "        vertical-align: top;\n",
       "    }\n",
       "\n",
       "    .dataframe thead th {\n",
       "        text-align: right;\n",
       "    }\n",
       "</style>\n",
       "<table border=\"1\" class=\"dataframe\">\n",
       "  <thead>\n",
       "    <tr style=\"text-align: right;\">\n",
       "      <th></th>\n",
       "      <th>NA_estimate</th>\n",
       "    </tr>\n",
       "    <tr>\n",
       "      <th>timeline</th>\n",
       "      <th></th>\n",
       "    </tr>\n",
       "  </thead>\n",
       "  <tbody>\n",
       "    <tr>\n",
       "      <th>0.0</th>\n",
       "      <td>0.000000</td>\n",
       "    </tr>\n",
       "    <tr>\n",
       "      <th>11.0</th>\n",
       "      <td>0.021899</td>\n",
       "    </tr>\n",
       "    <tr>\n",
       "      <th>12.0</th>\n",
       "      <td>0.029306</td>\n",
       "    </tr>\n",
       "    <tr>\n",
       "      <th>13.0</th>\n",
       "      <td>0.044287</td>\n",
       "    </tr>\n",
       "    <tr>\n",
       "      <th>15.0</th>\n",
       "      <td>0.051863</td>\n",
       "    </tr>\n",
       "    <tr>\n",
       "      <th>...</th>\n",
       "      <td>...</td>\n",
       "    </tr>\n",
       "    <tr>\n",
       "      <th>814.0</th>\n",
       "      <td>2.831337</td>\n",
       "    </tr>\n",
       "    <tr>\n",
       "      <th>840.0</th>\n",
       "      <td>2.831337</td>\n",
       "    </tr>\n",
       "    <tr>\n",
       "      <th>883.0</th>\n",
       "      <td>3.164670</td>\n",
       "    </tr>\n",
       "    <tr>\n",
       "      <th>1010.0</th>\n",
       "      <td>3.164670</td>\n",
       "    </tr>\n",
       "    <tr>\n",
       "      <th>1022.0</th>\n",
       "      <td>3.164670</td>\n",
       "    </tr>\n",
       "  </tbody>\n",
       "</table>\n",
       "<p>120 rows × 1 columns</p>\n",
       "</div>"
      ],
      "text/plain": [
       "          NA_estimate\n",
       "timeline             \n",
       "0.0          0.000000\n",
       "11.0         0.021899\n",
       "12.0         0.029306\n",
       "13.0         0.044287\n",
       "15.0         0.051863\n",
       "...               ...\n",
       "814.0        2.831337\n",
       "840.0        2.831337\n",
       "883.0        3.164670\n",
       "1010.0       3.164670\n",
       "1022.0       3.164670\n",
       "\n",
       "[120 rows x 1 columns]"
      ]
     },
     "execution_count": 36,
     "metadata": {},
     "output_type": "execute_result"
    }
   ],
   "source": [
    "# Cumulative hazard probability for male group\n",
    "naf_m.cumulative_hazard_"
   ]
  },
  {
   "cell_type": "code",
   "execution_count": 37,
   "metadata": {},
   "outputs": [
    {
     "data": {
      "text/html": [
       "<div>\n",
       "<style scoped>\n",
       "    .dataframe tbody tr th:only-of-type {\n",
       "        vertical-align: middle;\n",
       "    }\n",
       "\n",
       "    .dataframe tbody tr th {\n",
       "        vertical-align: top;\n",
       "    }\n",
       "\n",
       "    .dataframe thead th {\n",
       "        text-align: right;\n",
       "    }\n",
       "</style>\n",
       "<table border=\"1\" class=\"dataframe\">\n",
       "  <thead>\n",
       "    <tr style=\"text-align: right;\">\n",
       "      <th></th>\n",
       "      <th>NA_estimate</th>\n",
       "    </tr>\n",
       "    <tr>\n",
       "      <th>timeline</th>\n",
       "      <th></th>\n",
       "    </tr>\n",
       "  </thead>\n",
       "  <tbody>\n",
       "    <tr>\n",
       "      <th>0.0</th>\n",
       "      <td>0.000000</td>\n",
       "    </tr>\n",
       "    <tr>\n",
       "      <th>5.0</th>\n",
       "      <td>0.011111</td>\n",
       "    </tr>\n",
       "    <tr>\n",
       "      <th>60.0</th>\n",
       "      <td>0.022347</td>\n",
       "    </tr>\n",
       "    <tr>\n",
       "      <th>61.0</th>\n",
       "      <td>0.033711</td>\n",
       "    </tr>\n",
       "    <tr>\n",
       "      <th>62.0</th>\n",
       "      <td>0.045205</td>\n",
       "    </tr>\n",
       "    <tr>\n",
       "      <th>...</th>\n",
       "      <td>...</td>\n",
       "    </tr>\n",
       "    <tr>\n",
       "      <th>735.0</th>\n",
       "      <td>1.988977</td>\n",
       "    </tr>\n",
       "    <tr>\n",
       "      <th>740.0</th>\n",
       "      <td>1.988977</td>\n",
       "    </tr>\n",
       "    <tr>\n",
       "      <th>765.0</th>\n",
       "      <td>2.322310</td>\n",
       "    </tr>\n",
       "    <tr>\n",
       "      <th>821.0</th>\n",
       "      <td>2.322310</td>\n",
       "    </tr>\n",
       "    <tr>\n",
       "      <th>965.0</th>\n",
       "      <td>2.322310</td>\n",
       "    </tr>\n",
       "  </tbody>\n",
       "</table>\n",
       "<p>88 rows × 1 columns</p>\n",
       "</div>"
      ],
      "text/plain": [
       "          NA_estimate\n",
       "timeline             \n",
       "0.0          0.000000\n",
       "5.0          0.011111\n",
       "60.0         0.022347\n",
       "61.0         0.033711\n",
       "62.0         0.045205\n",
       "...               ...\n",
       "735.0        1.988977\n",
       "740.0        1.988977\n",
       "765.0        2.322310\n",
       "821.0        2.322310\n",
       "965.0        2.322310\n",
       "\n",
       "[88 rows x 1 columns]"
      ]
     },
     "execution_count": 37,
     "metadata": {},
     "output_type": "execute_result"
    }
   ],
   "source": [
    "# Cumulative hazard probability for female group\n",
    "naf_f.cumulative_hazard_"
   ]
  },
  {
   "cell_type": "markdown",
   "metadata": {},
   "source": [
    "## Plot Cumulative Hazard Probability for each group"
   ]
  },
  {
   "cell_type": "code",
   "execution_count": 38,
   "metadata": {},
   "outputs": [
    {
     "data": {
      "image/png": "[encoded data removed]",
      "text/plain": [
       "<Figure size 432x288 with 1 Axes>"
      ]
     },
     "metadata": {
      "needs_background": "light"
     },
     "output_type": "display_data"
    }
   ],
   "source": [
    "# Plot cumulative hazard probability for each group\n",
    "naf_m.plot_cumulative_hazard(label='Male')\n",
    "naf_f.plot_cumulative_hazard(label='Female')\n",
    "plt.title('Cumulative Hazard Plot')\n",
    "plt.xlabel('Number of Days')\n",
    "plt.ylabel('Cumulative Hazard')\n",
    "plt.legend(loc='upper left')\n",
    "plt.savefig('plots/cumulative_hazard_by_sex_plot')"
   ]
  },
  {
   "cell_type": "markdown",
   "metadata": {},
   "source": [
    "## Median time to event for male group"
   ]
  },
  {
   "cell_type": "code",
   "execution_count": 39,
   "metadata": {},
   "outputs": [
    {
     "data": {
      "text/html": [
       "<div>\n",
       "<style scoped>\n",
       "    .dataframe tbody tr th:only-of-type {\n",
       "        vertical-align: middle;\n",
       "    }\n",
       "\n",
       "    .dataframe tbody tr th {\n",
       "        vertical-align: top;\n",
       "    }\n",
       "\n",
       "    .dataframe thead th {\n",
       "        text-align: right;\n",
       "    }\n",
       "</style>\n",
       "<table border=\"1\" class=\"dataframe\">\n",
       "  <thead>\n",
       "    <tr style=\"text-align: right;\">\n",
       "      <th></th>\n",
       "      <th>Male - Conditional median duration remaining to event</th>\n",
       "    </tr>\n",
       "    <tr>\n",
       "      <th>timeline</th>\n",
       "      <th></th>\n",
       "    </tr>\n",
       "  </thead>\n",
       "  <tbody>\n",
       "    <tr>\n",
       "      <th>0.0</th>\n",
       "      <td>270.0</td>\n",
       "    </tr>\n",
       "    <tr>\n",
       "      <th>11.0</th>\n",
       "      <td>272.0</td>\n",
       "    </tr>\n",
       "    <tr>\n",
       "      <th>12.0</th>\n",
       "      <td>271.0</td>\n",
       "    </tr>\n",
       "    <tr>\n",
       "      <th>13.0</th>\n",
       "      <td>271.0</td>\n",
       "    </tr>\n",
       "    <tr>\n",
       "      <th>15.0</th>\n",
       "      <td>270.0</td>\n",
       "    </tr>\n",
       "    <tr>\n",
       "      <th>...</th>\n",
       "      <td>...</td>\n",
       "    </tr>\n",
       "    <tr>\n",
       "      <th>814.0</th>\n",
       "      <td>inf</td>\n",
       "    </tr>\n",
       "    <tr>\n",
       "      <th>840.0</th>\n",
       "      <td>inf</td>\n",
       "    </tr>\n",
       "    <tr>\n",
       "      <th>883.0</th>\n",
       "      <td>inf</td>\n",
       "    </tr>\n",
       "    <tr>\n",
       "      <th>1010.0</th>\n",
       "      <td>inf</td>\n",
       "    </tr>\n",
       "    <tr>\n",
       "      <th>1022.0</th>\n",
       "      <td>inf</td>\n",
       "    </tr>\n",
       "  </tbody>\n",
       "</table>\n",
       "<p>120 rows × 1 columns</p>\n",
       "</div>"
      ],
      "text/plain": [
       "          Male - Conditional median duration remaining to event\n",
       "timeline                                                       \n",
       "0.0                                                   270.0    \n",
       "11.0                                                  272.0    \n",
       "12.0                                                  271.0    \n",
       "13.0                                                  271.0    \n",
       "15.0                                                  270.0    \n",
       "...                                                     ...    \n",
       "814.0                                                   inf    \n",
       "840.0                                                   inf    \n",
       "883.0                                                   inf    \n",
       "1010.0                                                  inf    \n",
       "1022.0                                                  inf    \n",
       "\n",
       "[120 rows x 1 columns]"
      ]
     },
     "execution_count": 39,
     "metadata": {},
     "output_type": "execute_result"
    }
   ],
   "source": [
    "# Conditional median time to event of interest\n",
    "kmf_m.conditional_time_to_event_"
   ]
  },
  {
   "cell_type": "code",
   "execution_count": 41,
   "metadata": {},
   "outputs": [
    {
     "data": {
      "image/png": "[encoded data removed]",
      "text/plain": [
       "<Figure size 432x288 with 1 Axes>"
      ]
     },
     "metadata": {
      "needs_background": "light"
     },
     "output_type": "display_data"
    }
   ],
   "source": [
    "## Plot median time to event for each group\n",
    "plt.plot(kmf_m.conditional_time_to_event_, label='Male Median Time Left')\n",
    "plt.plot(kmf_f.conditional_time_to_event_, label='Female Median Time Left')\n",
    "plt.title('Conditional Median Times to Event')\n",
    "plt.xlabel('Total Days')\n",
    "plt.ylabel('Conditional Median Time to Event')\n",
    "plt.legend()\n",
    "plt.savefig('plots/conditional_median_time_to_event_by_sex_plot')"
   ]
  },
  {
   "cell_type": "markdown",
   "metadata": {},
   "source": [
    "## Plot survival probability with confidence interval for male group"
   ]
  },
  {
   "cell_type": "code",
   "execution_count": 43,
   "metadata": {},
   "outputs": [
    {
     "data": {
      "image/png": "[encoded data removed]",
      "text/plain": [
       "<Figure size 432x288 with 1 Axes>"
      ]
     },
     "metadata": {
      "needs_background": "light"
     },
     "output_type": "display_data"
    }
   ],
   "source": [
    "# Plot survival function with confidence interval for male group\n",
    "confidence_surv_func = kmf_m.confidence_interval_survival_function_\n",
    "\n",
    "plt.plot(confidence_surv_func['Male_lower_0.95'], label='Lower')\n",
    "plt.plot(confidence_surv_func['Male_upper_0.95'], label='Upper')\n",
    "plt.suptitle('Survival Function with Confidence Interval')\n",
    "plt.title('Male Group')\n",
    "plt.xlabel('Number of Days')\n",
    "plt.ylabel('Survival Probability')\n",
    "plt.legend()\n",
    "plt.savefig('plots/survival_func_conf_interval_male_plot')"
   ]
  },
  {
   "cell_type": "code",
   "execution_count": 44,
   "metadata": {},
   "outputs": [
    {
     "data": {
      "image/png": "[encoded data removed]",
      "text/plain": [
       "<Figure size 432x288 with 1 Axes>"
      ]
     },
     "metadata": {
      "needs_background": "light"
     },
     "output_type": "display_data"
    }
   ],
   "source": [
    "# Plot survival function with confidence interval for male group\n",
    "confidence_surv_func = kmf_f.confidence_interval_survival_function_\n",
    "\n",
    "plt.plot(confidence_surv_func['Female_lower_0.95'], label='Lower')\n",
    "plt.plot(confidence_surv_func['Female_upper_0.95'], label='Upper')\n",
    "plt.suptitle('Survival Function with Confidence Interval')\n",
    "plt.title('Female Group')\n",
    "plt.xlabel('Number of Days')\n",
    "plt.ylabel('Survival Probability')\n",
    "plt.legend()\n",
    "plt.savefig('plots/survival_func_conf_interval_female_plot')"
   ]
  },
  {
   "cell_type": "markdown",
   "metadata": {},
   "source": [
    "## Comparison of cumulative density vs cumultive hazard"
   ]
  },
  {
   "cell_type": "code",
   "execution_count": 45,
   "metadata": {},
   "outputs": [
    {
     "data": {
      "image/png": "[encoded data removed]",
      "text/plain": [
       "<Figure size 432x288 with 1 Axes>"
      ]
     },
     "metadata": {
      "needs_background": "light"
     },
     "output_type": "display_data"
    }
   ],
   "source": [
    "# Plot the cumulative hazard and cumulative density\n",
    "kmf_m.plot_cumulative_density(label='Male Density')\n",
    "naf_m.plot_cumulative_hazard(label='Male Hazard')\n",
    "plt.suptitle('Cumulative Density and Cumlative Hazard')\n",
    "plt.title('Male Group')\n",
    "plt.xlabel('Number of Days')\n",
    "plt.savefig('plots/cum_density_cum_hazard_male_plot')"
   ]
  },
  {
   "cell_type": "code",
   "execution_count": 46,
   "metadata": {},
   "outputs": [
    {
     "data": {
      "image/png": "[encoded data removed]",
      "text/plain": [
       "<Figure size 432x288 with 1 Axes>"
      ]
     },
     "metadata": {
      "needs_background": "light"
     },
     "output_type": "display_data"
    }
   ],
   "source": [
    "# Plot the cumulative hazard and cumulative density\n",
    "kmf_f.plot_cumulative_density(label='Female Density')\n",
    "naf_f.plot_cumulative_hazard(label='Female Hazard')\n",
    "plt.suptitle('Cumulative Density and Cumlative Hazard')\n",
    "plt.title('Female Group')\n",
    "plt.xlabel('Number of Days')\n",
    "plt.savefig('plots/cum_density_cum_hazard_female_plot')"
   ]
  },
  {
   "cell_type": "markdown",
   "metadata": {},
   "source": [
    "## Log-Rank Test"
   ]
  },
  {
   "cell_type": "code",
   "execution_count": 90,
   "metadata": {},
   "outputs": [],
   "source": [
    "# Define variables for Log-rank test\n",
    "time_A = male_df['time']\n",
    "event_A = male_df['is.dead']\n",
    "\n",
    "time_B = female_df['time']\n",
    "event_B = female_df['is.dead']"
   ]
  },
  {
   "cell_type": "code",
   "execution_count": 91,
   "metadata": {},
   "outputs": [
    {
     "data": {
      "text/html": [
       "<div>\n",
       "<style scoped>\n",
       "    .dataframe tbody tr th:only-of-type {\n",
       "        vertical-align: middle;\n",
       "    }\n",
       "\n",
       "    .dataframe tbody tr th {\n",
       "        vertical-align: top;\n",
       "    }\n",
       "\n",
       "    .dataframe thead th {\n",
       "        text-align: right;\n",
       "    }\n",
       "</style>\n",
       "<table border=\"1\" class=\"dataframe\">\n",
       "  <tbody>\n",
       "    <tr>\n",
       "      <th>t_0</th>\n",
       "      <td>-1</td>\n",
       "    </tr>\n",
       "    <tr>\n",
       "      <th>null_distribution</th>\n",
       "      <td>chi squared</td>\n",
       "    </tr>\n",
       "    <tr>\n",
       "      <th>degrees_of_freedom</th>\n",
       "      <td>1</td>\n",
       "    </tr>\n",
       "    <tr>\n",
       "      <th>test_name</th>\n",
       "      <td>logrank_test</td>\n",
       "    </tr>\n",
       "  </tbody>\n",
       "</table>\n",
       "</div><table border=\"1\" class=\"dataframe\">\n",
       "  <thead>\n",
       "    <tr style=\"text-align: right;\">\n",
       "      <th></th>\n",
       "      <th>test_statistic</th>\n",
       "      <th>p</th>\n",
       "      <th>-log2(p)</th>\n",
       "    </tr>\n",
       "  </thead>\n",
       "  <tbody>\n",
       "    <tr>\n",
       "      <th>0</th>\n",
       "      <td>10.33</td>\n",
       "      <td>&lt;0.005</td>\n",
       "      <td>9.57</td>\n",
       "    </tr>\n",
       "  </tbody>\n",
       "</table>"
      ],
      "text/latex": [
       "\\begin{tabular}{lrrr}\n",
       "\\toprule\n",
       "{} &  test\\_statistic &         p &  -log2(p) \\\\\n",
       "\\midrule\n",
       "0 &       10.326742 &  0.001311 &  9.574936 \\\\\n",
       "\\bottomrule\n",
       "\\end{tabular}\n"
      ],
      "text/plain": [
       "<lifelines.StatisticalResult: logrank_test>\n",
       "               t_0 = -1\n",
       " null_distribution = chi squared\n",
       "degrees_of_freedom = 1\n",
       "         test_name = logrank_test\n",
       "\n",
       "---\n",
       " test_statistic      p  -log2(p)\n",
       "          10.33 <0.005      9.57"
      ]
     },
     "metadata": {},
     "output_type": "display_data"
    }
   ],
   "source": [
    "# Perform Log-rank test\n",
    "results = logrank_test(time_A, time_B, event_observed_A=event_A, event_observed_B=event_B)\n",
    "results.print_summary()"
   ]
  },
  {
   "cell_type": "code",
   "execution_count": 92,
   "metadata": {},
   "outputs": [
    {
     "name": "stdout",
     "output_type": "stream",
     "text": [
      "P-value:  0.0013111645203554782\n"
     ]
    }
   ],
   "source": [
    "# Print p-value\n",
    "print('P-value: ', results.p_value)"
   ]
  },
  {
   "cell_type": "markdown",
   "metadata": {},
   "source": [
    "With a p-value of 0.0013 (shown above), we must reject the null hypothesis that there is no statistically significant difference between the probability of survival for the male group and that of the female group.\n",
    "\n",
    "This p-value, in fact, is strong evidence that 'sex' was associated with the number of survival days."
   ]
  },
  {
   "cell_type": "markdown",
   "metadata": {},
   "source": [
    "## Cox's Proportional Hazard Regression"
   ]
  },
  {
   "cell_type": "code",
   "execution_count": 50,
   "metadata": {},
   "outputs": [
    {
     "data": {
      "text/html": [
       "<div>\n",
       "<style scoped>\n",
       "    .dataframe tbody tr th:only-of-type {\n",
       "        vertical-align: middle;\n",
       "    }\n",
       "\n",
       "    .dataframe tbody tr th {\n",
       "        vertical-align: top;\n",
       "    }\n",
       "\n",
       "    .dataframe thead th {\n",
       "        text-align: right;\n",
       "    }\n",
       "</style>\n",
       "<table border=\"1\" class=\"dataframe\">\n",
       "  <thead>\n",
       "    <tr style=\"text-align: right;\">\n",
       "      <th></th>\n",
       "      <th>inst</th>\n",
       "      <th>time</th>\n",
       "      <th>status</th>\n",
       "      <th>age</th>\n",
       "      <th>sex</th>\n",
       "      <th>ph.ecog</th>\n",
       "      <th>ph.karno</th>\n",
       "      <th>pat.karno</th>\n",
       "      <th>meal.cal</th>\n",
       "      <th>wt.loss</th>\n",
       "      <th>is.dead</th>\n",
       "    </tr>\n",
       "  </thead>\n",
       "  <tbody>\n",
       "    <tr>\n",
       "      <th>0</th>\n",
       "      <td>3.0</td>\n",
       "      <td>306</td>\n",
       "      <td>2</td>\n",
       "      <td>74</td>\n",
       "      <td>1</td>\n",
       "      <td>1.0</td>\n",
       "      <td>90.0</td>\n",
       "      <td>100.0</td>\n",
       "      <td>1175.0</td>\n",
       "      <td>NaN</td>\n",
       "      <td>1.0</td>\n",
       "    </tr>\n",
       "    <tr>\n",
       "      <th>1</th>\n",
       "      <td>3.0</td>\n",
       "      <td>455</td>\n",
       "      <td>2</td>\n",
       "      <td>68</td>\n",
       "      <td>1</td>\n",
       "      <td>0.0</td>\n",
       "      <td>90.0</td>\n",
       "      <td>90.0</td>\n",
       "      <td>1225.0</td>\n",
       "      <td>15.0</td>\n",
       "      <td>1.0</td>\n",
       "    </tr>\n",
       "    <tr>\n",
       "      <th>2</th>\n",
       "      <td>3.0</td>\n",
       "      <td>1010</td>\n",
       "      <td>1</td>\n",
       "      <td>56</td>\n",
       "      <td>1</td>\n",
       "      <td>0.0</td>\n",
       "      <td>90.0</td>\n",
       "      <td>90.0</td>\n",
       "      <td>NaN</td>\n",
       "      <td>15.0</td>\n",
       "      <td>0.0</td>\n",
       "    </tr>\n",
       "    <tr>\n",
       "      <th>3</th>\n",
       "      <td>5.0</td>\n",
       "      <td>210</td>\n",
       "      <td>2</td>\n",
       "      <td>57</td>\n",
       "      <td>1</td>\n",
       "      <td>1.0</td>\n",
       "      <td>90.0</td>\n",
       "      <td>60.0</td>\n",
       "      <td>1150.0</td>\n",
       "      <td>11.0</td>\n",
       "      <td>1.0</td>\n",
       "    </tr>\n",
       "    <tr>\n",
       "      <th>4</th>\n",
       "      <td>1.0</td>\n",
       "      <td>883</td>\n",
       "      <td>2</td>\n",
       "      <td>60</td>\n",
       "      <td>1</td>\n",
       "      <td>0.0</td>\n",
       "      <td>100.0</td>\n",
       "      <td>90.0</td>\n",
       "      <td>NaN</td>\n",
       "      <td>0.0</td>\n",
       "      <td>1.0</td>\n",
       "    </tr>\n",
       "  </tbody>\n",
       "</table>\n",
       "</div>"
      ],
      "text/plain": [
       "   inst  time  status  age  sex  ph.ecog  ph.karno  pat.karno  meal.cal  \\\n",
       "0   3.0   306       2   74    1      1.0      90.0      100.0    1175.0   \n",
       "1   3.0   455       2   68    1      0.0      90.0       90.0    1225.0   \n",
       "2   3.0  1010       1   56    1      0.0      90.0       90.0       NaN   \n",
       "3   5.0   210       2   57    1      1.0      90.0       60.0    1150.0   \n",
       "4   1.0   883       2   60    1      0.0     100.0       90.0       NaN   \n",
       "\n",
       "   wt.loss  is.dead  \n",
       "0      NaN      1.0  \n",
       "1     15.0      1.0  \n",
       "2     15.0      0.0  \n",
       "3     11.0      1.0  \n",
       "4      0.0      1.0  "
      ]
     },
     "execution_count": 50,
     "metadata": {},
     "output_type": "execute_result"
    }
   ],
   "source": [
    "# Prepare data\n",
    "# Need to drop 'Unnamed: 0' column\n",
    "cox_df = data.drop(['Unnamed: 0'], axis=1)\n",
    "cox_df.head()"
   ]
  },
  {
   "cell_type": "code",
   "execution_count": 51,
   "metadata": {},
   "outputs": [
    {
     "data": {
      "text/html": [
       "<div>\n",
       "<style scoped>\n",
       "    .dataframe tbody tr th:only-of-type {\n",
       "        vertical-align: middle;\n",
       "    }\n",
       "\n",
       "    .dataframe tbody tr th {\n",
       "        vertical-align: top;\n",
       "    }\n",
       "\n",
       "    .dataframe thead th {\n",
       "        text-align: right;\n",
       "    }\n",
       "</style>\n",
       "<table border=\"1\" class=\"dataframe\">\n",
       "  <thead>\n",
       "    <tr style=\"text-align: right;\">\n",
       "      <th></th>\n",
       "      <th>Unnamed: 0</th>\n",
       "      <th>inst</th>\n",
       "      <th>time</th>\n",
       "      <th>status</th>\n",
       "      <th>age</th>\n",
       "      <th>sex</th>\n",
       "      <th>ph.ecog</th>\n",
       "      <th>ph.karno</th>\n",
       "      <th>pat.karno</th>\n",
       "      <th>meal.cal</th>\n",
       "      <th>wt.loss</th>\n",
       "      <th>is.dead</th>\n",
       "    </tr>\n",
       "  </thead>\n",
       "  <tbody>\n",
       "    <tr>\n",
       "      <th>1</th>\n",
       "      <td>2</td>\n",
       "      <td>3.0</td>\n",
       "      <td>455</td>\n",
       "      <td>2</td>\n",
       "      <td>68</td>\n",
       "      <td>1</td>\n",
       "      <td>0.0</td>\n",
       "      <td>90.0</td>\n",
       "      <td>90.0</td>\n",
       "      <td>1225.0</td>\n",
       "      <td>15.0</td>\n",
       "      <td>1.0</td>\n",
       "    </tr>\n",
       "    <tr>\n",
       "      <th>3</th>\n",
       "      <td>4</td>\n",
       "      <td>5.0</td>\n",
       "      <td>210</td>\n",
       "      <td>2</td>\n",
       "      <td>57</td>\n",
       "      <td>1</td>\n",
       "      <td>1.0</td>\n",
       "      <td>90.0</td>\n",
       "      <td>60.0</td>\n",
       "      <td>1150.0</td>\n",
       "      <td>11.0</td>\n",
       "      <td>1.0</td>\n",
       "    </tr>\n",
       "    <tr>\n",
       "      <th>5</th>\n",
       "      <td>6</td>\n",
       "      <td>12.0</td>\n",
       "      <td>1022</td>\n",
       "      <td>1</td>\n",
       "      <td>74</td>\n",
       "      <td>1</td>\n",
       "      <td>1.0</td>\n",
       "      <td>50.0</td>\n",
       "      <td>80.0</td>\n",
       "      <td>513.0</td>\n",
       "      <td>0.0</td>\n",
       "      <td>0.0</td>\n",
       "    </tr>\n",
       "    <tr>\n",
       "      <th>6</th>\n",
       "      <td>7</td>\n",
       "      <td>7.0</td>\n",
       "      <td>310</td>\n",
       "      <td>2</td>\n",
       "      <td>68</td>\n",
       "      <td>2</td>\n",
       "      <td>2.0</td>\n",
       "      <td>70.0</td>\n",
       "      <td>60.0</td>\n",
       "      <td>384.0</td>\n",
       "      <td>10.0</td>\n",
       "      <td>1.0</td>\n",
       "    </tr>\n",
       "    <tr>\n",
       "      <th>7</th>\n",
       "      <td>8</td>\n",
       "      <td>11.0</td>\n",
       "      <td>361</td>\n",
       "      <td>2</td>\n",
       "      <td>71</td>\n",
       "      <td>2</td>\n",
       "      <td>2.0</td>\n",
       "      <td>60.0</td>\n",
       "      <td>80.0</td>\n",
       "      <td>538.0</td>\n",
       "      <td>1.0</td>\n",
       "      <td>1.0</td>\n",
       "    </tr>\n",
       "  </tbody>\n",
       "</table>\n",
       "</div>"
      ],
      "text/plain": [
       "   Unnamed: 0  inst  time  status  age  sex  ph.ecog  ph.karno  pat.karno  \\\n",
       "1           2   3.0   455       2   68    1      0.0      90.0       90.0   \n",
       "3           4   5.0   210       2   57    1      1.0      90.0       60.0   \n",
       "5           6  12.0  1022       1   74    1      1.0      50.0       80.0   \n",
       "6           7   7.0   310       2   68    2      2.0      70.0       60.0   \n",
       "7           8  11.0   361       2   71    2      2.0      60.0       80.0   \n",
       "\n",
       "   meal.cal  wt.loss  is.dead  \n",
       "1    1225.0     15.0      1.0  \n",
       "3    1150.0     11.0      1.0  \n",
       "5     513.0      0.0      0.0  \n",
       "6     384.0     10.0      1.0  \n",
       "7     538.0      1.0      1.0  "
      ]
     },
     "execution_count": 51,
     "metadata": {},
     "output_type": "execute_result"
    }
   ],
   "source": [
    "# Remove null values\n",
    "subset_cols = ['inst', 'time', 'status', 'age', 'sex', 'ph.ecog', 'ph.karno',\n",
    "                'pat.karno', 'meal.cal', 'wt.loss']\n",
    "cox_df = df.dropna(subset=subset_cols)\n",
    "cox_df.head()"
   ]
  },
  {
   "cell_type": "code",
   "execution_count": 52,
   "metadata": {},
   "outputs": [],
   "source": [
    "# Get list of columns needed\n",
    "cox_cols = ['time', 'age', 'sex', 'ph.ecog', 'ph.karno', 'pat.karno', 'meal.cal',\n",
    "            'wt.loss', 'is.dead']\n",
    "\n",
    "# Subset cox_data\n",
    "cox_df = cox_df[cox_cols]"
   ]
  },
  {
   "cell_type": "markdown",
   "metadata": {},
   "source": [
    "## Create Cox-proportional Hazard object and fit data"
   ]
  },
  {
   "cell_type": "code",
   "execution_count": 53,
   "metadata": {},
   "outputs": [
    {
     "data": {
      "text/html": [
       "<div>\n",
       "<style scoped>\n",
       "    .dataframe tbody tr th:only-of-type {\n",
       "        vertical-align: middle;\n",
       "    }\n",
       "\n",
       "    .dataframe tbody tr th {\n",
       "        vertical-align: top;\n",
       "    }\n",
       "\n",
       "    .dataframe thead th {\n",
       "        text-align: right;\n",
       "    }\n",
       "</style>\n",
       "<table border=\"1\" class=\"dataframe\">\n",
       "  <tbody>\n",
       "    <tr>\n",
       "      <th>model</th>\n",
       "      <td>lifelines.CoxPHFitter</td>\n",
       "    </tr>\n",
       "    <tr>\n",
       "      <th>duration col</th>\n",
       "      <td>'time'</td>\n",
       "    </tr>\n",
       "    <tr>\n",
       "      <th>event col</th>\n",
       "      <td>'is.dead'</td>\n",
       "    </tr>\n",
       "    <tr>\n",
       "      <th>baseline estimation</th>\n",
       "      <td>breslow</td>\n",
       "    </tr>\n",
       "    <tr>\n",
       "      <th>number of observations</th>\n",
       "      <td>167</td>\n",
       "    </tr>\n",
       "    <tr>\n",
       "      <th>number of events observed</th>\n",
       "      <td>120</td>\n",
       "    </tr>\n",
       "    <tr>\n",
       "      <th>partial log-likelihood</th>\n",
       "      <td>-494.03</td>\n",
       "    </tr>\n",
       "    <tr>\n",
       "      <th>time fit was run</th>\n",
       "      <td>2021-11-01 03:57:04 UTC</td>\n",
       "    </tr>\n",
       "  </tbody>\n",
       "</table>\n",
       "</div><table border=\"1\" class=\"dataframe\">\n",
       "  <thead>\n",
       "    <tr style=\"text-align: right;\">\n",
       "      <th style=\"min-width: 12px;\"></th>\n",
       "      <th style=\"min-width: 12px;\">coef</th>\n",
       "      <th style=\"min-width: 12px;\">exp(coef)</th>\n",
       "      <th style=\"min-width: 12px;\">se(coef)</th>\n",
       "      <th style=\"min-width: 12px;\">coef lower 95%</th>\n",
       "      <th style=\"min-width: 12px;\">coef upper 95%</th>\n",
       "      <th style=\"min-width: 12px;\">exp(coef) lower 95%</th>\n",
       "      <th style=\"min-width: 12px;\">exp(coef) upper 95%</th>\n",
       "      <th style=\"min-width: 12px;\">z</th>\n",
       "      <th style=\"min-width: 12px;\">p</th>\n",
       "      <th style=\"min-width: 12px;\">-log2(p)</th>\n",
       "    </tr>\n",
       "  </thead>\n",
       "  <tbody>\n",
       "    <tr>\n",
       "      <th>age</th>\n",
       "      <td>0.01</td>\n",
       "      <td>1.01</td>\n",
       "      <td>0.01</td>\n",
       "      <td>-0.01</td>\n",
       "      <td>0.03</td>\n",
       "      <td>0.99</td>\n",
       "      <td>1.03</td>\n",
       "      <td>0.93</td>\n",
       "      <td>0.35</td>\n",
       "      <td>1.51</td>\n",
       "    </tr>\n",
       "    <tr>\n",
       "      <th>sex</th>\n",
       "      <td>-0.55</td>\n",
       "      <td>0.57</td>\n",
       "      <td>0.20</td>\n",
       "      <td>-0.95</td>\n",
       "      <td>-0.16</td>\n",
       "      <td>0.39</td>\n",
       "      <td>0.85</td>\n",
       "      <td>-2.75</td>\n",
       "      <td>0.01</td>\n",
       "      <td>7.37</td>\n",
       "    </tr>\n",
       "    <tr>\n",
       "      <th>ph.ecog</th>\n",
       "      <td>0.74</td>\n",
       "      <td>2.09</td>\n",
       "      <td>0.22</td>\n",
       "      <td>0.30</td>\n",
       "      <td>1.18</td>\n",
       "      <td>1.35</td>\n",
       "      <td>3.26</td>\n",
       "      <td>3.29</td>\n",
       "      <td>&lt;0.005</td>\n",
       "      <td>9.95</td>\n",
       "    </tr>\n",
       "    <tr>\n",
       "      <th>ph.karno</th>\n",
       "      <td>0.02</td>\n",
       "      <td>1.02</td>\n",
       "      <td>0.01</td>\n",
       "      <td>0.00</td>\n",
       "      <td>0.04</td>\n",
       "      <td>1.00</td>\n",
       "      <td>1.05</td>\n",
       "      <td>2.00</td>\n",
       "      <td>0.05</td>\n",
       "      <td>4.45</td>\n",
       "    </tr>\n",
       "    <tr>\n",
       "      <th>pat.karno</th>\n",
       "      <td>-0.01</td>\n",
       "      <td>0.99</td>\n",
       "      <td>0.01</td>\n",
       "      <td>-0.03</td>\n",
       "      <td>0.00</td>\n",
       "      <td>0.97</td>\n",
       "      <td>1.00</td>\n",
       "      <td>-1.49</td>\n",
       "      <td>0.14</td>\n",
       "      <td>2.87</td>\n",
       "    </tr>\n",
       "    <tr>\n",
       "      <th>meal.cal</th>\n",
       "      <td>0.00</td>\n",
       "      <td>1.00</td>\n",
       "      <td>0.00</td>\n",
       "      <td>-0.00</td>\n",
       "      <td>0.00</td>\n",
       "      <td>1.00</td>\n",
       "      <td>1.00</td>\n",
       "      <td>0.11</td>\n",
       "      <td>0.91</td>\n",
       "      <td>0.13</td>\n",
       "    </tr>\n",
       "    <tr>\n",
       "      <th>wt.loss</th>\n",
       "      <td>-0.01</td>\n",
       "      <td>0.99</td>\n",
       "      <td>0.01</td>\n",
       "      <td>-0.03</td>\n",
       "      <td>0.00</td>\n",
       "      <td>0.97</td>\n",
       "      <td>1.00</td>\n",
       "      <td>-1.83</td>\n",
       "      <td>0.07</td>\n",
       "      <td>3.89</td>\n",
       "    </tr>\n",
       "  </tbody>\n",
       "</table><br><div>\n",
       "<style scoped>\n",
       "    .dataframe tbody tr th:only-of-type {\n",
       "        vertical-align: middle;\n",
       "    }\n",
       "\n",
       "    .dataframe tbody tr th {\n",
       "        vertical-align: top;\n",
       "    }\n",
       "\n",
       "    .dataframe thead th {\n",
       "        text-align: right;\n",
       "    }\n",
       "</style>\n",
       "<table border=\"1\" class=\"dataframe\">\n",
       "  <tbody>\n",
       "    <tr>\n",
       "      <th>Concordance</th>\n",
       "      <td>0.65</td>\n",
       "    </tr>\n",
       "    <tr>\n",
       "      <th>Partial AIC</th>\n",
       "      <td>1002.07</td>\n",
       "    </tr>\n",
       "    <tr>\n",
       "      <th>log-likelihood ratio test</th>\n",
       "      <td>28.16 on 7 df</td>\n",
       "    </tr>\n",
       "    <tr>\n",
       "      <th>-log2(p) of ll-ratio test</th>\n",
       "      <td>12.25</td>\n",
       "    </tr>\n",
       "  </tbody>\n",
       "</table>\n",
       "</div>"
      ],
      "text/latex": [
       "\\begin{tabular}{lrrrrrrrrrr}\n",
       "\\toprule\n",
       "{} &  coef &  exp(coef) &  se(coef) &  coef lower 95\\% &  coef upper 95\\% &  exp(coef) lower 95\\% &  exp(coef) upper 95\\% &     z &    p &  -log2(p) \\\\\n",
       "covariate &       &            &           &                 &                 &                      &                      &       &      &           \\\\\n",
       "\\midrule\n",
       "age       &  0.01 &       1.01 &      0.01 &           -0.01 &            0.03 &                 0.99 &                 1.03 &  0.93 & 0.35 &      1.51 \\\\\n",
       "sex       & -0.55 &       0.57 &      0.20 &           -0.95 &           -0.16 &                 0.39 &                 0.85 & -2.75 & 0.01 &      7.37 \\\\\n",
       "ph.ecog   &  0.74 &       2.09 &      0.22 &            0.30 &            1.18 &                 1.35 &                 3.26 &  3.29 & 0.00 &      9.95 \\\\\n",
       "ph.karno  &  0.02 &       1.02 &      0.01 &            0.00 &            0.04 &                 1.00 &                 1.05 &  2.00 & 0.05 &      4.45 \\\\\n",
       "pat.karno & -0.01 &       0.99 &      0.01 &           -0.03 &            0.00 &                 0.97 &                 1.00 & -1.49 & 0.14 &      2.87 \\\\\n",
       "meal.cal  &  0.00 &       1.00 &      0.00 &           -0.00 &            0.00 &                 1.00 &                 1.00 &  0.11 & 0.91 &      0.13 \\\\\n",
       "wt.loss   & -0.01 &       0.99 &      0.01 &           -0.03 &            0.00 &                 0.97 &                 1.00 & -1.83 & 0.07 &      3.89 \\\\\n",
       "\\bottomrule\n",
       "\\end{tabular}\n"
      ],
      "text/plain": [
       "<lifelines.CoxPHFitter: fitted with 167 total observations, 47 right-censored observations>\n",
       "             duration col = 'time'\n",
       "                event col = 'is.dead'\n",
       "      baseline estimation = breslow\n",
       "   number of observations = 167\n",
       "number of events observed = 120\n",
       "   partial log-likelihood = -494.03\n",
       "         time fit was run = 2021-11-01 03:57:04 UTC\n",
       "\n",
       "---\n",
       "            coef  exp(coef)   se(coef)   coef lower 95%   coef upper 95%  exp(coef) lower 95%  exp(coef) upper 95%\n",
       "covariate                                                                                                         \n",
       "age         0.01       1.01       0.01            -0.01             0.03                 0.99                 1.03\n",
       "sex        -0.55       0.57       0.20            -0.95            -0.16                 0.39                 0.85\n",
       "ph.ecog     0.74       2.09       0.22             0.30             1.18                 1.35                 3.26\n",
       "ph.karno    0.02       1.02       0.01             0.00             0.04                 1.00                 1.05\n",
       "pat.karno  -0.01       0.99       0.01            -0.03             0.00                 0.97                 1.00\n",
       "meal.cal    0.00       1.00       0.00            -0.00             0.00                 1.00                 1.00\n",
       "wt.loss    -0.01       0.99       0.01            -0.03             0.00                 0.97                 1.00\n",
       "\n",
       "              z      p   -log2(p)\n",
       "covariate                        \n",
       "age        0.93   0.35       1.51\n",
       "sex       -2.75   0.01       7.37\n",
       "ph.ecog    3.29 <0.005       9.95\n",
       "ph.karno   2.00   0.05       4.45\n",
       "pat.karno -1.49   0.14       2.87\n",
       "meal.cal   0.11   0.91       0.13\n",
       "wt.loss   -1.83   0.07       3.89\n",
       "---\n",
       "Concordance = 0.65\n",
       "Partial AIC = 1002.07\n",
       "log-likelihood ratio test = 28.16 on 7 df\n",
       "-log2(p) of ll-ratio test = 12.25"
      ]
     },
     "metadata": {},
     "output_type": "display_data"
    }
   ],
   "source": [
    "# Fit data and print summary\n",
    "cph = CoxPHFitter()\n",
    "cph.fit(cox_df, 'time', event_col='is.dead')\n",
    "cph.print_summary()"
   ]
  },
  {
   "cell_type": "markdown",
   "metadata": {},
   "source": [
    "From the summary above, we can see that 'sex' and 'ph.ecog' have p-values less than 0.05. So, we should divide the data based on these two variables.\n",
    "\n",
    "1. The 'sex' variable has a p-value of 0.01 and a Hazard Ratio (HR) of 0.57. This indicates a strong relationship between the subject's sex and decreased risk of death.\n",
    "    * EG: Holding the other covariates constant, being female reduces the hazard by a factor of 0.57, or 43%. This means that females have higher chances of survival.\n",
    "2. The 'ph.ecog' variable has a p-value <0.005 and a Hazard Ratio of 2.09. This indicates a strong relationship between the value of ph.ecog and increased risk of death.\n",
    "    * EG: All other variables held constant, a subject witth a higher ph.ecog has 109% higher risk of death. This means that a higher value of ph.ecog is associated with poor survival."
   ]
  },
  {
   "cell_type": "markdown",
   "metadata": {},
   "source": [
    "## Plot Cox's Proportional Hazard"
   ]
  },
  {
   "cell_type": "code",
   "execution_count": 54,
   "metadata": {},
   "outputs": [
    {
     "data": {
      "image/png": "[encoded data removed]",
      "text/plain": [
       "<Figure size 432x288 with 1 Axes>"
      ]
     },
     "metadata": {
      "needs_background": "light"
     },
     "output_type": "display_data"
    }
   ],
   "source": [
    "# Plot cph\n",
    "cph.plot()\n",
    "plt.title(\"Cox's Proportional Hazard Plot\")\n",
    "plt.savefig('plots/cox_proportional_hazard_plot')"
   ]
  },
  {
   "cell_type": "markdown",
   "metadata": {},
   "source": [
    "## Check theory with real observations"
   ]
  },
  {
   "cell_type": "code",
   "execution_count": 55,
   "metadata": {},
   "outputs": [
    {
     "data": {
      "text/html": [
       "<div>\n",
       "<style scoped>\n",
       "    .dataframe tbody tr th:only-of-type {\n",
       "        vertical-align: middle;\n",
       "    }\n",
       "\n",
       "    .dataframe tbody tr th {\n",
       "        vertical-align: top;\n",
       "    }\n",
       "\n",
       "    .dataframe thead th {\n",
       "        text-align: right;\n",
       "    }\n",
       "</style>\n",
       "<table border=\"1\" class=\"dataframe\">\n",
       "  <thead>\n",
       "    <tr style=\"text-align: right;\">\n",
       "      <th></th>\n",
       "      <th>time</th>\n",
       "      <th>age</th>\n",
       "      <th>sex</th>\n",
       "      <th>ph.ecog</th>\n",
       "      <th>ph.karno</th>\n",
       "      <th>pat.karno</th>\n",
       "      <th>meal.cal</th>\n",
       "      <th>wt.loss</th>\n",
       "      <th>is.dead</th>\n",
       "    </tr>\n",
       "  </thead>\n",
       "  <tbody>\n",
       "    <tr>\n",
       "      <th>17</th>\n",
       "      <td>707</td>\n",
       "      <td>63</td>\n",
       "      <td>1</td>\n",
       "      <td>2.0</td>\n",
       "      <td>50.0</td>\n",
       "      <td>70.0</td>\n",
       "      <td>1025.0</td>\n",
       "      <td>22.0</td>\n",
       "      <td>1.0</td>\n",
       "    </tr>\n",
       "    <tr>\n",
       "      <th>18</th>\n",
       "      <td>61</td>\n",
       "      <td>56</td>\n",
       "      <td>2</td>\n",
       "      <td>2.0</td>\n",
       "      <td>60.0</td>\n",
       "      <td>60.0</td>\n",
       "      <td>238.0</td>\n",
       "      <td>10.0</td>\n",
       "      <td>1.0</td>\n",
       "    </tr>\n",
       "    <tr>\n",
       "      <th>20</th>\n",
       "      <td>301</td>\n",
       "      <td>67</td>\n",
       "      <td>1</td>\n",
       "      <td>1.0</td>\n",
       "      <td>80.0</td>\n",
       "      <td>80.0</td>\n",
       "      <td>1025.0</td>\n",
       "      <td>17.0</td>\n",
       "      <td>1.0</td>\n",
       "    </tr>\n",
       "    <tr>\n",
       "      <th>21</th>\n",
       "      <td>81</td>\n",
       "      <td>49</td>\n",
       "      <td>2</td>\n",
       "      <td>0.0</td>\n",
       "      <td>100.0</td>\n",
       "      <td>70.0</td>\n",
       "      <td>1175.0</td>\n",
       "      <td>-8.0</td>\n",
       "      <td>1.0</td>\n",
       "    </tr>\n",
       "    <tr>\n",
       "      <th>23</th>\n",
       "      <td>371</td>\n",
       "      <td>58</td>\n",
       "      <td>1</td>\n",
       "      <td>0.0</td>\n",
       "      <td>90.0</td>\n",
       "      <td>100.0</td>\n",
       "      <td>975.0</td>\n",
       "      <td>13.0</td>\n",
       "      <td>1.0</td>\n",
       "    </tr>\n",
       "  </tbody>\n",
       "</table>\n",
       "</div>"
      ],
      "text/plain": [
       "    time  age  sex  ph.ecog  ph.karno  pat.karno  meal.cal  wt.loss  is.dead\n",
       "17   707   63    1      2.0      50.0       70.0    1025.0     22.0      1.0\n",
       "18    61   56    2      2.0      60.0       60.0     238.0     10.0      1.0\n",
       "20   301   67    1      1.0      80.0       80.0    1025.0     17.0      1.0\n",
       "21    81   49    2      0.0     100.0       70.0    1175.0     -8.0      1.0\n",
       "23   371   58    1      0.0      90.0      100.0     975.0     13.0      1.0"
      ]
     },
     "execution_count": 55,
     "metadata": {},
     "output_type": "execute_result"
    }
   ],
   "source": [
    "# Check conclusions with real data from observations\n",
    "d_df = cox_df.iloc[10:15,:]\n",
    "d_df"
   ]
  },
  {
   "cell_type": "code",
   "execution_count": 56,
   "metadata": {},
   "outputs": [
    {
     "data": {
      "image/png": "[encoded data removed]",
      "text/plain": [
       "<Figure size 432x288 with 1 Axes>"
      ]
     },
     "metadata": {
      "needs_background": "light"
     },
     "output_type": "display_data"
    }
   ],
   "source": [
    "# Plot d_data\n",
    "cph.predict_survival_function(d_data).plot()\n",
    "plt.title('Survival Chances by Subject')\n",
    "plt.savefig('plots/survival_chances_by_subject_plot')"
   ]
  },
  {
   "cell_type": "markdown",
   "metadata": {},
   "source": [
    "Above, we can see that subject 23 hs the highest chance of survival and tht subject 17 has the lowest. By checking the main table, we can see a significant change in the value of the ph.ecog value. We can, also see that subjects 21 and 23 have higher chances of survival and that they have the lowest values of ph.ecog."
   ]
  },
  {
   "cell_type": "markdown",
   "metadata": {},
   "source": []
  }
 ],
 "metadata": {
  "interpreter": {
   "hash": "b2b09e2362101f7028cac5b52fb0ca99e7d1ea441e4330339fdc53bd578ca4a4"
  },
  "kernelspec": {
   "display_name": "Python 3.8.10 64-bit ('survival-wrkspc': venv)",
   "name": "python3"
  },
  "language_info": {
   "codemirror_mode": {
    "name": "ipython",
    "version": 3
   },
   "file_extension": ".py",
   "mimetype": "text/x-python",
   "name": "python",
   "nbconvert_exporter": "python",
   "pygments_lexer": "ipython3",
   "version": "3.8.9"
  },
  "orig_nbformat": 4
 },
 "nbformat": 4,
 "nbformat_minor": 2
}
